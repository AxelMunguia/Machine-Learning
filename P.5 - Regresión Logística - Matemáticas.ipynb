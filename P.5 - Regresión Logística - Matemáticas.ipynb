{
 "cells": [
  {
   "cell_type": "markdown",
   "metadata": {},
   "source": [
    "# Regresión Logística"
   ]
  },
  {
   "cell_type": "markdown",
   "metadata": {},
   "source": [
    "* La regresión logística ayuda a clasificar nuestros registros en 2 o más categorías:\n",
    "    + Predecir si un cliente aleatorio que entra en la tienda va a comprar un producto en particular basandonos en sus ingresos, género, historial de compras, historial de publicidad...\n",
    "    + Predecir si un equipo de fútbol va a ganar o a perder un partido sabiendo el rival, los detalles del equipo, el tiempo que va a hacer, la alineación, el estadio,las horas de entrenamiento.\n",
    "    \n",
    "**Similitud y diferencias entre Regresión Lineal y Regresión Logística.**\n",
    " \n",
    "|   Métodos           |    Regresión Lineal            |        Regresión Logística         |\n",
    "|---------------------|--------------------------------|------------------------------------|\n",
    "|Variables Predictoras|Numéricas continuas, Categóricas|   Numéricas continuas, Categóricas |\n",
    "|    Predicciones     |      Numéricas continuas       |              Categóricas           |\n",
    "|      Relación       |             Lineal             |  Lineal (Con Alguna Transformación)|\n",
    "\n",
    "**Funciones de cada Método**\n",
    "\n",
    "$$\\text{Regresión Lineal: }$$ \n",
    "$$y = \\alpha + \\beta\\cdot x$$\n",
    "\n",
    "$$\\text{Regresión Logística: }$$ \n",
    "$$y =  \\frac{1}{1+e^{-(\\alpha + \\beta \\cdot x)}}$$"
   ]
  },
  {
   "cell_type": "code",
   "execution_count": 1,
   "metadata": {},
   "outputs": [],
   "source": [
    "import pandas as pd\n",
    "import numpy as np\n",
    "import matplotlib.pyplot as plt\n",
    "from IPython.display import display, Math,Latex \n",
    "from matplotlib import style\n",
    "style.use(\"ggplot\")"
   ]
  },
  {
   "cell_type": "markdown",
   "metadata": {},
   "source": [
    "**Las tablas de contingencia**"
   ]
  },
  {
   "cell_type": "code",
   "execution_count": 2,
   "metadata": {},
   "outputs": [
    {
     "data": {
      "text/html": [
       "<div>\n",
       "<style scoped>\n",
       "    .dataframe tbody tr th:only-of-type {\n",
       "        vertical-align: middle;\n",
       "    }\n",
       "\n",
       "    .dataframe tbody tr th {\n",
       "        vertical-align: top;\n",
       "    }\n",
       "\n",
       "    .dataframe thead th {\n",
       "        text-align: right;\n",
       "    }\n",
       "</style>\n",
       "<table border=\"1\" class=\"dataframe\">\n",
       "  <thead>\n",
       "    <tr style=\"text-align: right;\">\n",
       "      <th></th>\n",
       "      <th>Gender</th>\n",
       "      <th>Purchase</th>\n",
       "    </tr>\n",
       "  </thead>\n",
       "  <tbody>\n",
       "    <tr>\n",
       "      <th>0</th>\n",
       "      <td>Female</td>\n",
       "      <td>Yes</td>\n",
       "    </tr>\n",
       "    <tr>\n",
       "      <th>1</th>\n",
       "      <td>Female</td>\n",
       "      <td>Yes</td>\n",
       "    </tr>\n",
       "    <tr>\n",
       "      <th>2</th>\n",
       "      <td>Female</td>\n",
       "      <td>No</td>\n",
       "    </tr>\n",
       "    <tr>\n",
       "      <th>3</th>\n",
       "      <td>Male</td>\n",
       "      <td>No</td>\n",
       "    </tr>\n",
       "    <tr>\n",
       "      <th>4</th>\n",
       "      <td>Male</td>\n",
       "      <td>Yes</td>\n",
       "    </tr>\n",
       "  </tbody>\n",
       "</table>\n",
       "</div>"
      ],
      "text/plain": [
       "   Gender Purchase\n",
       "0  Female      Yes\n",
       "1  Female      Yes\n",
       "2  Female       No\n",
       "3    Male       No\n",
       "4    Male      Yes"
      ]
     },
     "execution_count": 2,
     "metadata": {},
     "output_type": "execute_result"
    }
   ],
   "source": [
    "data = pd.read_csv(\"../datasets/gender-purchase/Gender Purchase.csv\")\n",
    "data.head()"
   ]
  },
  {
   "cell_type": "code",
   "execution_count": 3,
   "metadata": {},
   "outputs": [
    {
     "data": {
      "text/plain": [
       "(511, 2)"
      ]
     },
     "execution_count": 3,
     "metadata": {},
     "output_type": "execute_result"
    }
   ],
   "source": [
    "data.shape"
   ]
  },
  {
   "cell_type": "code",
   "execution_count": 4,
   "metadata": {},
   "outputs": [
    {
     "data": {
      "text/plain": [
       "Female    265\n",
       "Male      246\n",
       "Name: Gender, dtype: int64"
      ]
     },
     "execution_count": 4,
     "metadata": {},
     "output_type": "execute_result"
    }
   ],
   "source": [
    "data.Gender.value_counts()"
   ]
  },
  {
   "cell_type": "code",
   "execution_count": 5,
   "metadata": {},
   "outputs": [
    {
     "data": {
      "text/html": [
       "<div>\n",
       "<style scoped>\n",
       "    .dataframe tbody tr th:only-of-type {\n",
       "        vertical-align: middle;\n",
       "    }\n",
       "\n",
       "    .dataframe tbody tr th {\n",
       "        vertical-align: top;\n",
       "    }\n",
       "\n",
       "    .dataframe thead th {\n",
       "        text-align: right;\n",
       "    }\n",
       "</style>\n",
       "<table border=\"1\" class=\"dataframe\">\n",
       "  <thead>\n",
       "    <tr style=\"text-align: right;\">\n",
       "      <th>Purchase</th>\n",
       "      <th>No</th>\n",
       "      <th>Yes</th>\n",
       "    </tr>\n",
       "    <tr>\n",
       "      <th>Gender</th>\n",
       "      <th></th>\n",
       "      <th></th>\n",
       "    </tr>\n",
       "  </thead>\n",
       "  <tbody>\n",
       "    <tr>\n",
       "      <th>Female</th>\n",
       "      <td>106</td>\n",
       "      <td>159</td>\n",
       "    </tr>\n",
       "    <tr>\n",
       "      <th>Male</th>\n",
       "      <td>125</td>\n",
       "      <td>121</td>\n",
       "    </tr>\n",
       "  </tbody>\n",
       "</table>\n",
       "</div>"
      ],
      "text/plain": [
       "Purchase   No  Yes\n",
       "Gender            \n",
       "Female    106  159\n",
       "Male      125  121"
      ]
     },
     "execution_count": 5,
     "metadata": {},
     "output_type": "execute_result"
    }
   ],
   "source": [
    "contigence = pd.crosstab(data.Gender,data.Purchase)\n",
    "contigence"
   ]
  },
  {
   "cell_type": "code",
   "execution_count": 6,
   "metadata": {},
   "outputs": [
    {
     "data": {
      "text/plain": [
       "Purchase\n",
       "No     231\n",
       "Yes    280\n",
       "dtype: int64"
      ]
     },
     "execution_count": 6,
     "metadata": {},
     "output_type": "execute_result"
    }
   ],
   "source": [
    "contigence.sum(axis=0)"
   ]
  },
  {
   "cell_type": "code",
   "execution_count": 7,
   "metadata": {},
   "outputs": [
    {
     "data": {
      "text/plain": [
       "Gender\n",
       "Female    265\n",
       "Male      246\n",
       "dtype: int64"
      ]
     },
     "execution_count": 7,
     "metadata": {},
     "output_type": "execute_result"
    }
   ],
   "source": [
    "contigence.sum(axis=1)"
   ]
  },
  {
   "cell_type": "code",
   "execution_count": 8,
   "metadata": {},
   "outputs": [
    {
     "data": {
      "text/html": [
       "<div>\n",
       "<style scoped>\n",
       "    .dataframe tbody tr th:only-of-type {\n",
       "        vertical-align: middle;\n",
       "    }\n",
       "\n",
       "    .dataframe tbody tr th {\n",
       "        vertical-align: top;\n",
       "    }\n",
       "\n",
       "    .dataframe thead th {\n",
       "        text-align: right;\n",
       "    }\n",
       "</style>\n",
       "<table border=\"1\" class=\"dataframe\">\n",
       "  <thead>\n",
       "    <tr style=\"text-align: right;\">\n",
       "      <th>Purchase</th>\n",
       "      <th>No</th>\n",
       "      <th>Yes</th>\n",
       "      <th>All</th>\n",
       "    </tr>\n",
       "    <tr>\n",
       "      <th>Gender</th>\n",
       "      <th></th>\n",
       "      <th></th>\n",
       "      <th></th>\n",
       "    </tr>\n",
       "  </thead>\n",
       "  <tbody>\n",
       "    <tr>\n",
       "      <th>Female</th>\n",
       "      <td>106</td>\n",
       "      <td>159</td>\n",
       "      <td>265</td>\n",
       "    </tr>\n",
       "    <tr>\n",
       "      <th>Male</th>\n",
       "      <td>125</td>\n",
       "      <td>121</td>\n",
       "      <td>246</td>\n",
       "    </tr>\n",
       "    <tr>\n",
       "      <th>All</th>\n",
       "      <td>231</td>\n",
       "      <td>280</td>\n",
       "      <td>511</td>\n",
       "    </tr>\n",
       "  </tbody>\n",
       "</table>\n",
       "</div>"
      ],
      "text/plain": [
       "Purchase   No  Yes  All\n",
       "Gender                 \n",
       "Female    106  159  265\n",
       "Male      125  121  246\n",
       "All       231  280  511"
      ]
     },
     "execution_count": 8,
     "metadata": {},
     "output_type": "execute_result"
    }
   ],
   "source": [
    "contigence_all = pd.crosstab(data.Gender,data.Purchase,margins=True)\n",
    "contigence_all"
   ]
  },
  {
   "cell_type": "code",
   "execution_count": 9,
   "metadata": {},
   "outputs": [
    {
     "name": "stdout",
     "output_type": "stream",
     "text": [
      "Porcentaje Por Filas\n"
     ]
    },
    {
     "data": {
      "text/html": [
       "<div>\n",
       "<style scoped>\n",
       "    .dataframe tbody tr th:only-of-type {\n",
       "        vertical-align: middle;\n",
       "    }\n",
       "\n",
       "    .dataframe tbody tr th {\n",
       "        vertical-align: top;\n",
       "    }\n",
       "\n",
       "    .dataframe thead th {\n",
       "        text-align: right;\n",
       "    }\n",
       "</style>\n",
       "<table border=\"1\" class=\"dataframe\">\n",
       "  <thead>\n",
       "    <tr style=\"text-align: right;\">\n",
       "      <th>Purchase</th>\n",
       "      <th>No</th>\n",
       "      <th>Yes</th>\n",
       "    </tr>\n",
       "    <tr>\n",
       "      <th>Gender</th>\n",
       "      <th></th>\n",
       "      <th></th>\n",
       "    </tr>\n",
       "  </thead>\n",
       "  <tbody>\n",
       "    <tr>\n",
       "      <th>Female</th>\n",
       "      <td>0.40000</td>\n",
       "      <td>0.60000</td>\n",
       "    </tr>\n",
       "    <tr>\n",
       "      <th>Male</th>\n",
       "      <td>0.50813</td>\n",
       "      <td>0.49187</td>\n",
       "    </tr>\n",
       "  </tbody>\n",
       "</table>\n",
       "</div>"
      ],
      "text/plain": [
       "Purchase       No      Yes\n",
       "Gender                    \n",
       "Female    0.40000  0.60000\n",
       "Male      0.50813  0.49187"
      ]
     },
     "execution_count": 9,
     "metadata": {},
     "output_type": "execute_result"
    }
   ],
   "source": [
    "print(\"Porcentaje Por Filas\")\n",
    "contigence.astype(\"float\").div(contigence.sum(axis=1),axis=0)"
   ]
  },
  {
   "cell_type": "code",
   "execution_count": 10,
   "metadata": {},
   "outputs": [
    {
     "name": "stdout",
     "output_type": "stream",
     "text": [
      "Porcentaje por Columnas\n"
     ]
    },
    {
     "data": {
      "text/html": [
       "<div>\n",
       "<style scoped>\n",
       "    .dataframe tbody tr th:only-of-type {\n",
       "        vertical-align: middle;\n",
       "    }\n",
       "\n",
       "    .dataframe tbody tr th {\n",
       "        vertical-align: top;\n",
       "    }\n",
       "\n",
       "    .dataframe thead th {\n",
       "        text-align: right;\n",
       "    }\n",
       "</style>\n",
       "<table border=\"1\" class=\"dataframe\">\n",
       "  <thead>\n",
       "    <tr style=\"text-align: right;\">\n",
       "      <th>Purchase</th>\n",
       "      <th>No</th>\n",
       "      <th>Yes</th>\n",
       "    </tr>\n",
       "    <tr>\n",
       "      <th>Gender</th>\n",
       "      <th></th>\n",
       "      <th></th>\n",
       "    </tr>\n",
       "  </thead>\n",
       "  <tbody>\n",
       "    <tr>\n",
       "      <th>Female</th>\n",
       "      <td>0.458874</td>\n",
       "      <td>0.567857</td>\n",
       "    </tr>\n",
       "    <tr>\n",
       "      <th>Male</th>\n",
       "      <td>0.541126</td>\n",
       "      <td>0.432143</td>\n",
       "    </tr>\n",
       "  </tbody>\n",
       "</table>\n",
       "</div>"
      ],
      "text/plain": [
       "Purchase        No       Yes\n",
       "Gender                      \n",
       "Female    0.458874  0.567857\n",
       "Male      0.541126  0.432143"
      ]
     },
     "execution_count": 10,
     "metadata": {},
     "output_type": "execute_result"
    }
   ],
   "source": [
    "print(\"Porcentaje por Columnas\")\n",
    "contigence.astype(\"float\").div(contigence.sum(axis=0),axis=1)"
   ]
  },
  {
   "cell_type": "markdown",
   "metadata": {},
   "source": [
    "### La probabilidad condicional"
   ]
  },
  {
   "cell_type": "markdown",
   "metadata": {},
   "source": [
    "* ¿Cuál es la probabilidad de que un cliente compre un producto si es hombre?\n",
    "* ¿Cuál es la probabilidad de que sabiendo que un cliente compra un producto sea mujer?"
   ]
  },
  {
   "cell_type": "code",
   "execution_count": 11,
   "metadata": {},
   "outputs": [
    {
     "data": {
      "text/latex": [
       "$\\displaystyle P(Purchase|Male) = \\frac{\\text{Número total de compras hechas por hombres}}{\\text{Número total de hombres del grupo}} = \\frac{Purchase\\cap Male}{Male} = \\frac{121}{246} = 0.491869$"
      ],
      "text/plain": [
       "<IPython.core.display.Math object>"
      ]
     },
     "metadata": {},
     "output_type": "display_data"
    }
   ],
   "source": [
    "display(Math(r\"P(Purchase|Male) = \\frac{\\text{Número total de compras hechas por hombres}}{\\text{Número total de hombres del grupo}} = \\frac{Purchase\\cap Male}{Male} = \\frac{121}{246} = 0.491869\"))"
   ]
  },
  {
   "cell_type": "code",
   "execution_count": 12,
   "metadata": {},
   "outputs": [
    {
     "data": {
      "text/latex": [
       "$\\displaystyle P(No\\ Purchase|Male) = 1 - P(Purchase|Male) = 1-\\frac{121}{246}=0.50813$"
      ],
      "text/plain": [
       "<IPython.core.display.Math object>"
      ]
     },
     "metadata": {},
     "output_type": "display_data"
    }
   ],
   "source": [
    "display(Math(r\"P(No\\ Purchase|Male) = 1 - P(Purchase|Male) = 1-\\frac{121}{246}=0.50813\"))"
   ]
  },
  {
   "cell_type": "code",
   "execution_count": 13,
   "metadata": {},
   "outputs": [
    {
     "data": {
      "text/latex": [
       "$\\displaystyle P(Purchase|Female) = \\frac{\\text{Número total de compras hechas por mujeres}}{\\text{Número total de mujeres del grupo}} = \\frac{Purchase\\cap Female}{Female} = \\frac{159}{265} = 0.60$"
      ],
      "text/plain": [
       "<IPython.core.display.Math object>"
      ]
     },
     "metadata": {},
     "output_type": "display_data"
    }
   ],
   "source": [
    "display(Math(r\"P(Purchase|Female) = \\frac{\\text{Número total de compras hechas por mujeres}}{\\text{Número total de mujeres del grupo}} = \\frac{Purchase\\cap Female}{Female} = \\frac{159}{265} = 0.60\"))"
   ]
  },
  {
   "cell_type": "code",
   "execution_count": 14,
   "metadata": {},
   "outputs": [
    {
     "data": {
      "text/latex": [
       "$\\displaystyle P(No\\ Purchase|Female) = 1 - P(Purchase|Female) = 1-\\frac{106}{265}=0.40$"
      ],
      "text/plain": [
       "<IPython.core.display.Math object>"
      ]
     },
     "metadata": {},
     "output_type": "display_data"
    }
   ],
   "source": [
    "display(Math(r\"P(No\\ Purchase|Female) = 1 - P(Purchase|Female) = 1-\\frac{106}{265}=0.40\"))"
   ]
  },
  {
   "cell_type": "code",
   "execution_count": 15,
   "metadata": {},
   "outputs": [
    {
     "data": {
      "text/latex": [
       "$\\displaystyle P(Male|Purchase) = \\frac{Male\\cap Purchase}{Purchase}= \\frac{121}{280} = 0.4321$"
      ],
      "text/plain": [
       "<IPython.core.display.Math object>"
      ]
     },
     "metadata": {},
     "output_type": "display_data"
    }
   ],
   "source": [
    "display(Math(r\"P(Male|Purchase) = \\frac{Male\\cap Purchase}{Purchase}= \\frac{121}{280} = 0.4321\"))"
   ]
  },
  {
   "cell_type": "code",
   "execution_count": 16,
   "metadata": {},
   "outputs": [
    {
     "data": {
      "text/latex": [
       "$\\displaystyle P(Female|Purchase) = 1 - P(Male|Purchase) =0.5678 $"
      ],
      "text/plain": [
       "<IPython.core.display.Math object>"
      ]
     },
     "metadata": {},
     "output_type": "display_data"
    }
   ],
   "source": [
    "display(Math(r\"P(Female|Purchase) = 1 - P(Male|Purchase) =0.5678 \"))"
   ]
  },
  {
   "cell_type": "code",
   "execution_count": 17,
   "metadata": {},
   "outputs": [
    {
     "data": {
      "text/latex": [
       "$\\displaystyle P(Male|No Purchase) = \\frac{Male\\cap No Purchase}{No Purchase}= \\frac{125}{231} = 0.541125$"
      ],
      "text/plain": [
       "<IPython.core.display.Math object>"
      ]
     },
     "metadata": {},
     "output_type": "display_data"
    }
   ],
   "source": [
    "display(Math(r\"P(Male|No Purchase) = \\frac{Male\\cap No Purchase}{No Purchase}= \\frac{125}{231} = 0.541125\"))"
   ]
  },
  {
   "cell_type": "code",
   "execution_count": 18,
   "metadata": {},
   "outputs": [
    {
     "data": {
      "text/latex": [
       "$\\displaystyle P(Female|No Purchase) = 1 - P(Male|No Purchase) =0.45887$"
      ],
      "text/plain": [
       "<IPython.core.display.Math object>"
      ]
     },
     "metadata": {},
     "output_type": "display_data"
    }
   ],
   "source": [
    "display(Math(r\"P(Female|No Purchase) = 1 - P(Male|No Purchase) =0.45887\"))"
   ]
  },
  {
   "cell_type": "markdown",
   "metadata": {},
   "source": [
    "### Ratio de las probabilidades\n",
    "Cociente entre los casos de éxito sobre los de fracaso en el suceso estudiando y para cada grupo."
   ]
  },
  {
   "cell_type": "code",
   "execution_count": 19,
   "metadata": {},
   "outputs": [
    {
     "data": {
      "text/latex": [
       "$\\displaystyle P_m =\\text{Probabilidad de hacer compras sabiendo que es un hombre} = \\frac{121}{246}$"
      ],
      "text/plain": [
       "<IPython.core.display.Math object>"
      ]
     },
     "metadata": {},
     "output_type": "display_data"
    },
    {
     "data": {
      "text/latex": [
       "$\\displaystyle P_f =\\text{Probabilidad de hacer compras sabiendo que es una mujer}=\\frac{159}{265}$"
      ],
      "text/plain": [
       "<IPython.core.display.Math object>"
      ]
     },
     "metadata": {},
     "output_type": "display_data"
    },
    {
     "data": {
      "text/latex": [
       "$\\displaystyle odds \\in [0,+\\infty]$"
      ],
      "text/plain": [
       "<IPython.core.display.Math object>"
      ]
     },
     "metadata": {},
     "output_type": "display_data"
    },
    {
     "data": {
      "text/latex": [
       "$\\displaystyle Odds_{Purchase,male} = \\frac{\\text{Prob. Compre sabiendo que es hombre}}{\\text{Prob. de que no compre sabiendo que es hombre}}=\\frac{Pm}{1-Pm} = \\frac{N_{p,m}}{N_{\\bar p,m}}$"
      ],
      "text/plain": [
       "<IPython.core.display.Math object>"
      ]
     },
     "metadata": {},
     "output_type": "display_data"
    },
    {
     "data": {
      "text/latex": [
       "$\\displaystyle Odds_{Purchase,female} = \\frac{\\text{Prob. Compre sabiendo que es mujer}}{\\text{Prob. de que no compre sabiendo que es mujer}}=\\frac{Pf}{1-Pf} = \\frac{N_{p,f}}{N_{\\bar p,f}}$"
      ],
      "text/plain": [
       "<IPython.core.display.Math object>"
      ]
     },
     "metadata": {},
     "output_type": "display_data"
    }
   ],
   "source": [
    "display(Math(r\"P_m =\\text{Probabilidad de hacer compras sabiendo que es un hombre} = \\frac{121}{246}\"))\n",
    "display(Math(r\"P_f =\\text{Probabilidad de hacer compras sabiendo que es una mujer}=\\frac{159}{265}\"))\n",
    "display(Math(r\"odds \\in [0,+\\infty]\"))\n",
    "display(Math(r\"Odds_{Purchase,male} = \\frac{\\text{Prob. Compre sabiendo que es hombre}}{\\text{Prob. de que no compre sabiendo que es hombre}}=\\frac{Pm}{1-Pm} = \\frac{N_{p,m}}{N_{\\bar p,m}}\"))\n",
    "display(Math(r\"Odds_{Purchase,female} = \\frac{\\text{Prob. Compre sabiendo que es mujer}}{\\text{Prob. de que no compre sabiendo que es mujer}}=\\frac{Pf}{1-Pf} = \\frac{N_{p,f}}{N_{\\bar p,f}}\"))"
   ]
  },
  {
   "cell_type": "code",
   "execution_count": 20,
   "metadata": {},
   "outputs": [
    {
     "data": {
      "text/plain": [
       "(0.491869918699187, 0.6)"
      ]
     },
     "execution_count": 20,
     "metadata": {},
     "output_type": "execute_result"
    }
   ],
   "source": [
    "pm,pf = 121/246,159/265\n",
    "pm,pf"
   ]
  },
  {
   "cell_type": "code",
   "execution_count": 21,
   "metadata": {},
   "outputs": [
    {
     "data": {
      "text/plain": [
       "(0.9680000000000002, 1.4999999999999998)"
      ]
     },
     "execution_count": 21,
     "metadata": {},
     "output_type": "execute_result"
    }
   ],
   "source": [
    "odds_m,odds_f = pm/(1-pm),pf/(1-pf)\n",
    "odds_m,odds_f"
   ]
  },
  {
   "cell_type": "code",
   "execution_count": 22,
   "metadata": {},
   "outputs": [
    {
     "data": {
      "text/html": [
       "<div>\n",
       "<style scoped>\n",
       "    .dataframe tbody tr th:only-of-type {\n",
       "        vertical-align: middle;\n",
       "    }\n",
       "\n",
       "    .dataframe tbody tr th {\n",
       "        vertical-align: top;\n",
       "    }\n",
       "\n",
       "    .dataframe thead th {\n",
       "        text-align: right;\n",
       "    }\n",
       "</style>\n",
       "<table border=\"1\" class=\"dataframe\">\n",
       "  <thead>\n",
       "    <tr style=\"text-align: right;\">\n",
       "      <th>Purchase</th>\n",
       "      <th>No</th>\n",
       "      <th>Yes</th>\n",
       "      <th>All</th>\n",
       "    </tr>\n",
       "    <tr>\n",
       "      <th>Gender</th>\n",
       "      <th></th>\n",
       "      <th></th>\n",
       "      <th></th>\n",
       "    </tr>\n",
       "  </thead>\n",
       "  <tbody>\n",
       "    <tr>\n",
       "      <th>Female</th>\n",
       "      <td>106</td>\n",
       "      <td>159</td>\n",
       "      <td>265</td>\n",
       "    </tr>\n",
       "    <tr>\n",
       "      <th>Male</th>\n",
       "      <td>125</td>\n",
       "      <td>121</td>\n",
       "      <td>246</td>\n",
       "    </tr>\n",
       "    <tr>\n",
       "      <th>All</th>\n",
       "      <td>231</td>\n",
       "      <td>280</td>\n",
       "      <td>511</td>\n",
       "    </tr>\n",
       "  </tbody>\n",
       "</table>\n",
       "</div>"
      ],
      "text/plain": [
       "Purchase   No  Yes  All\n",
       "Gender                 \n",
       "Female    106  159  265\n",
       "Male      125  121  246\n",
       "All       231  280  511"
      ]
     },
     "execution_count": 22,
     "metadata": {},
     "output_type": "execute_result"
    }
   ],
   "source": [
    "contigence_all"
   ]
  },
  {
   "cell_type": "markdown",
   "metadata": {},
   "source": [
    "* Si el ratio es superior a 1, es más probable el éxito que el fracaso. Cuanto mayor es el ratio, más probabilidad de éxito en nuestro suceso. \n",
    "* Si el ratio es exactamente igual a 1, éxito y fracaso son equiprobables (p=0.5).\n",
    "* Si el ratio es menor que 1, el fracaso es más probable que el éxito. Cuanto menor es el ratio, menor probabilidad de éxito en nuestro suceso. \n",
    "\n",
    "**¿Cuál de los dos tiene más ratio?**\n",
    "\n",
    "##### $$odds_{ratio} = \\frac{odds_{purchase_male}}{odds_{purchase,female}}$$"
   ]
  },
  {
   "cell_type": "code",
   "execution_count": 23,
   "metadata": {},
   "outputs": [
    {
     "data": {
      "text/plain": [
       "0.6453333333333335"
      ]
     },
     "execution_count": 23,
     "metadata": {},
     "output_type": "execute_result"
    }
   ],
   "source": [
    "odds_r = odds_m/odds_f\n",
    "odds_r"
   ]
  },
  {
   "cell_type": "code",
   "execution_count": 24,
   "metadata": {},
   "outputs": [
    {
     "data": {
      "text/plain": [
       "1.5495867768595035"
      ]
     },
     "execution_count": 24,
     "metadata": {},
     "output_type": "execute_result"
    }
   ],
   "source": [
    "odds_r1 = odds_f/odds_m\n",
    "odds_r1"
   ]
  },
  {
   "cell_type": "markdown",
   "metadata": {},
   "source": [
    "**Es más probable que una mujer compre que un hombre.**"
   ]
  },
  {
   "cell_type": "markdown",
   "metadata": {},
   "source": [
    "### La Regresión Logística desde la Regresión Lineal"
   ]
  },
  {
   "cell_type": "code",
   "execution_count": 25,
   "metadata": {},
   "outputs": [
    {
     "data": {
      "text/latex": [
       "$\\displaystyle \\text{Regresión Lineal}$"
      ],
      "text/plain": [
       "<IPython.core.display.Math object>"
      ]
     },
     "metadata": {},
     "output_type": "display_data"
    },
    {
     "data": {
      "text/latex": [
       "$\\displaystyle y = \\alpha+\\beta\\cdot x$"
      ],
      "text/plain": [
       "<IPython.core.display.Math object>"
      ]
     },
     "metadata": {},
     "output_type": "display_data"
    },
    {
     "data": {
      "text/latex": [
       "$\\displaystyle (x,y) \\in[-\\infty,+\\infty]$"
      ],
      "text/plain": [
       "<IPython.core.display.Math object>"
      ]
     },
     "metadata": {},
     "output_type": "display_data"
    }
   ],
   "source": [
    "display(Math(r\"\\text{Regresión Lineal}\"))\n",
    "display(Math(r\"y = \\alpha+\\beta\\cdot x\"))\n",
    "display(Math(r\"(x,y) \\in[-\\infty,+\\infty]\"))"
   ]
  },
  {
   "cell_type": "code",
   "execution_count": 26,
   "metadata": {},
   "outputs": [
    {
     "data": {
      "text/latex": [
       "$\\displaystyle Regresion Logística$"
      ],
      "text/plain": [
       "<IPython.core.display.Math object>"
      ]
     },
     "metadata": {},
     "output_type": "display_data"
    },
    {
     "data": {
      "text/latex": [
       "$\\displaystyle Y\\in\\{0,1\\}$"
      ],
      "text/plain": [
       "<IPython.core.display.Math object>"
      ]
     },
     "metadata": {},
     "output_type": "display_data"
    },
    {
     "data": {
      "text/latex": [
       "$\\displaystyle P\\in [0,1]$"
      ],
      "text/plain": [
       "<IPython.core.display.Math object>"
      ]
     },
     "metadata": {},
     "output_type": "display_data"
    },
    {
     "data": {
      "text/latex": [
       "$\\displaystyle X\\in [-\\infty,+\\infty]$"
      ],
      "text/plain": [
       "<IPython.core.display.Math object>"
      ]
     },
     "metadata": {},
     "output_type": "display_data"
    },
    {
     "data": {
      "text/latex": [
       "$\\displaystyle P = \\alpha + \\beta\\cdot X$"
      ],
      "text/plain": [
       "<IPython.core.display.Math object>"
      ]
     },
     "metadata": {},
     "output_type": "display_data"
    }
   ],
   "source": [
    "display(Math(\"Regresion Logística\"))\n",
    "display(Math(r\"Y\\in\\{0,1\\}\"))\n",
    "display(Math(r\"P\\in [0,1]\"))\n",
    "display(Math(r\"X\\in [-\\infty,+\\infty]\"))\n",
    "display(Math(r\"P = \\alpha + \\beta\\cdot X\"))"
   ]
  },
  {
   "cell_type": "markdown",
   "metadata": {},
   "source": [
    "**P es la probabilidad condicionada de éxito o de fracaso condicionada a la presencia de la variable X.**"
   ]
  },
  {
   "cell_type": "code",
   "execution_count": 27,
   "metadata": {},
   "outputs": [
    {
     "data": {
      "text/latex": [
       "$\\displaystyle \\frac{P}{1-P} = \\alpha + \\beta\\cdot X \\in [0,+\\infty]$"
      ],
      "text/plain": [
       "<IPython.core.display.Math object>"
      ]
     },
     "metadata": {},
     "output_type": "display_data"
    }
   ],
   "source": [
    "display(Math(r\"\\frac{P}{1-P} = \\alpha + \\beta\\cdot X \\in [0,+\\infty]\"))"
   ]
  },
  {
   "cell_type": "code",
   "execution_count": 28,
   "metadata": {},
   "outputs": [
    {
     "data": {
      "text/latex": [
       "$\\displaystyle In(\\frac{P}{1-P}) = \\alpha + \\beta\\cdot X$"
      ],
      "text/plain": [
       "<IPython.core.display.Math object>"
      ]
     },
     "metadata": {},
     "output_type": "display_data"
    }
   ],
   "source": [
    "display(Math(r\"In(\\frac{P}{1-P}) = \\alpha + \\beta\\cdot X\"))"
   ]
  },
  {
   "cell_type": "code",
   "execution_count": 29,
   "metadata": {},
   "outputs": [
    {
     "data": {
      "text/latex": [
       "$\\displaystyle \\left\\{\n",
       "                 \\begin{array}{cr}\n",
       "                 \\frac{P}{1-P}\\in [0,1] \\Rightarrow In(\\frac{P}{1-P})\\in [-\\infty,0])\n",
       "                 \\\\ \\frac{P}{1-P}\\in [1,\\infty] \\Rightarrow In(\\frac{P}{1-P})\\in [0,+\\infty])\n",
       "                 \\end{array}\n",
       "                 \\right.$"
      ],
      "text/plain": [
       "<IPython.core.display.Math object>"
      ]
     },
     "metadata": {},
     "output_type": "display_data"
    }
   ],
   "source": [
    "display(Math(r\"\"\"\\left\\{\n",
    "                 \\begin{array}{cr}\n",
    "                 \\frac{P}{1-P}\\in [0,1] \\Rightarrow In(\\frac{P}{1-P})\\in [-\\infty,0])\n",
    "                 \\\\ \\frac{P}{1-P}\\in [1,\\infty] \\Rightarrow In(\\frac{P}{1-P})\\in [0,+\\infty])\n",
    "                 \\end{array}\n",
    "                 \\right.\"\"\"))"
   ]
  },
  {
   "cell_type": "code",
   "execution_count": 30,
   "metadata": {},
   "outputs": [
    {
     "data": {
      "text/latex": [
       "$\\displaystyle In(\\frac{P}{1-P}) = \\alpha + \\beta \\cdot X$"
      ],
      "text/plain": [
       "<IPython.core.display.Math object>"
      ]
     },
     "metadata": {},
     "output_type": "display_data"
    },
    {
     "data": {
      "text/latex": [
       "$\\displaystyle e^{In(\\frac{P}{1-P})} = e^{\\alpha + \\beta \\cdot X}$"
      ],
      "text/plain": [
       "<IPython.core.display.Math object>"
      ]
     },
     "metadata": {},
     "output_type": "display_data"
    },
    {
     "data": {
      "text/latex": [
       "$\\displaystyle \\frac{P}{1-P} = e^{\\alpha+\\beta\\cdot X}$"
      ],
      "text/plain": [
       "<IPython.core.display.Math object>"
      ]
     },
     "metadata": {},
     "output_type": "display_data"
    },
    {
     "data": {
      "text/latex": [
       "$\\displaystyle P= e^{\\alpha+\\beta\\cdot X} -P\\cdot e^{\\alpha+\\beta\\cdot X}$"
      ],
      "text/plain": [
       "<IPython.core.display.Math object>"
      ]
     },
     "metadata": {},
     "output_type": "display_data"
    },
    {
     "data": {
      "text/latex": [
       "$\\displaystyle P+P\\cdot e^{\\alpha+\\beta\\cdot X}= e^{\\alpha+\\beta\\cdot X} $"
      ],
      "text/plain": [
       "<IPython.core.display.Math object>"
      ]
     },
     "metadata": {},
     "output_type": "display_data"
    },
    {
     "data": {
      "text/latex": [
       "$\\displaystyle P\\cdot(1+\\cdot e^{\\alpha+\\beta\\cdot X})= e^{\\alpha+\\beta\\cdot X} $"
      ],
      "text/plain": [
       "<IPython.core.display.Math object>"
      ]
     },
     "metadata": {},
     "output_type": "display_data"
    },
    {
     "data": {
      "text/latex": [
       "$\\displaystyle P= \\frac{e^{\\alpha+\\beta\\cdot X}}{1+\\cdot e^{\\alpha+\\beta\\cdot X}} $"
      ],
      "text/plain": [
       "<IPython.core.display.Math object>"
      ]
     },
     "metadata": {},
     "output_type": "display_data"
    },
    {
     "data": {
      "text/latex": [
       "$\\displaystyle P= \\frac{e^{\\alpha+\\beta\\cdot X}}{1+\\cdot e^{\\alpha+\\beta\\cdot X}} \\cdot \\frac{e^{-(\\alpha+\\beta\\cdot X)}}{e^{-(\\alpha+\\beta\\cdot X)}}$"
      ],
      "text/plain": [
       "<IPython.core.display.Math object>"
      ]
     },
     "metadata": {},
     "output_type": "display_data"
    },
    {
     "data": {
      "text/latex": [
       "$\\displaystyle P= \\frac{1}{1+\\cdot e^{-(\\alpha+\\beta\\cdot X)}} $"
      ],
      "text/plain": [
       "<IPython.core.display.Math object>"
      ]
     },
     "metadata": {},
     "output_type": "display_data"
    }
   ],
   "source": [
    "display(Math(r\"In(\\frac{P}{1-P}) = \\alpha + \\beta \\cdot X\"))\n",
    "display(Math(r\"e^{In(\\frac{P}{1-P})} = e^{\\alpha + \\beta \\cdot X}\"))\n",
    "display(Math(r\"\\frac{P}{1-P} = e^{\\alpha+\\beta\\cdot X}\"))\n",
    "display(Math(r\"P= e^{\\alpha+\\beta\\cdot X} -P\\cdot e^{\\alpha+\\beta\\cdot X}\"))\n",
    "display(Math(r\"P+P\\cdot e^{\\alpha+\\beta\\cdot X}= e^{\\alpha+\\beta\\cdot X} \"))\n",
    "display(Math(r\"P\\cdot(1+\\cdot e^{\\alpha+\\beta\\cdot X})= e^{\\alpha+\\beta\\cdot X} \"))\n",
    "display(Math(r\"P= \\frac{e^{\\alpha+\\beta\\cdot X}}{1+\\cdot e^{\\alpha+\\beta\\cdot X}} \"))\n",
    "display(Math(r\"P= \\frac{e^{\\alpha+\\beta\\cdot X}}{1+\\cdot e^{\\alpha+\\beta\\cdot X}} \\cdot \\frac{e^{-(\\alpha+\\beta\\cdot X)}}{e^{-(\\alpha+\\beta\\cdot X)}}\"))\n",
    "display(Math(r\"P= \\frac{1}{1+\\cdot e^{-(\\alpha+\\beta\\cdot X)}} \"))"
   ]
  },
  {
   "cell_type": "markdown",
   "metadata": {},
   "source": [
    "* Si a+bX es muy pequeño (negativo), entonces P tiende a 0\n",
    "* Si a+bX = 0, P = 0.5\n",
    "* Si a+bX es muy grande (positivo), entonces P tiende a 1"
   ]
  },
  {
   "cell_type": "code",
   "execution_count": 31,
   "metadata": {},
   "outputs": [
    {
     "data": {
      "image/png": "[encoded data removed]",
      "text/plain": [
       "<Figure size 432x288 with 1 Axes>"
      ]
     },
     "metadata": {
      "needs_background": "light"
     },
     "output_type": "display_data"
    }
   ],
   "source": [
    "import numpy as np\n",
    "x = np.linspace(-20,20,10000)\n",
    "sigmoide = 1/(1+np.exp(-x))\n",
    "plt.plot(x,sigmoide)\n",
    "plt.plot(0,.5,\"ro\")\n",
    "plt.title(r\"$\\mathbf{Función\\ Sigmoidal}$\")\n",
    "plt.text(-15,0.51,\"0 si x<.5\")\n",
    "plt.text(10,0.51,\"1 si x>.5\")\n",
    "plt.text(-15,.82,r\"$\\frac{1}{1+\\cdot e^{-(\\alpha+\\beta\\cdot X)}}$\",size=19)\n",
    "plt.show()"
   ]
  },
  {
   "cell_type": "markdown",
   "metadata": {},
   "source": [
    "### Regresión Logística Múltiple"
   ]
  },
  {
   "cell_type": "code",
   "execution_count": 32,
   "metadata": {},
   "outputs": [
    {
     "data": {
      "text/latex": [
       "$\\displaystyle P = \\frac{1}{1+e^{-(\\alpha+\\sum_{i=1}^n\\beta_i\\cdot X_i)}}$"
      ],
      "text/plain": [
       "<IPython.core.display.Math object>"
      ]
     },
     "metadata": {},
     "output_type": "display_data"
    }
   ],
   "source": [
    "display(Math(r\"P = \\frac{1}{1+e^{-(\\alpha+\\sum_{i=1}^n\\beta_i\\cdot X_i)}}\"))"
   ]
  },
  {
   "cell_type": "code",
   "execution_count": 33,
   "metadata": {},
   "outputs": [
    {
     "data": {
      "text/latex": [
       "$\\displaystyle \\vec{\\beta} = (\\beta_1,\\beta_2,...,\\beta_n)$"
      ],
      "text/plain": [
       "<IPython.core.display.Math object>"
      ]
     },
     "metadata": {},
     "output_type": "display_data"
    },
    {
     "data": {
      "text/latex": [
       "$\\displaystyle \\vec{X} = (x_1,x_2,...,x_n)$"
      ],
      "text/plain": [
       "<IPython.core.display.Math object>"
      ]
     },
     "metadata": {},
     "output_type": "display_data"
    },
    {
     "data": {
      "text/latex": [
       "$\\displaystyle P = \\frac{1}{1+e^{-(\\alpha+\\vec{\\beta}\\cdot \\vec{X})}}$"
      ],
      "text/plain": [
       "<IPython.core.display.Math object>"
      ]
     },
     "metadata": {},
     "output_type": "display_data"
    }
   ],
   "source": [
    "display(Math(r\"\\vec{\\beta} = (\\beta_1,\\beta_2,...,\\beta_n)\"))\n",
    "display(Math(r\"\\vec{X} = (x_1,x_2,...,x_n)\"))\n",
    "display(Math(r\"P = \\frac{1}{1+e^{-(\\alpha+\\vec{\\beta}\\cdot \\vec{X})}}\"))"
   ]
  },
  {
   "cell_type": "code",
   "execution_count": 34,
   "metadata": {},
   "outputs": [
    {
     "data": {
      "text/latex": [
       "$\\displaystyle u: X\\Rightarrow \\mathbb{R} \\text{ Representa la relación de preferencia 'Al menos, tan bueno como' si para cada par } x,y \\in X$"
      ],
      "text/plain": [
       "<IPython.core.display.Math object>"
      ]
     },
     "metadata": {},
     "output_type": "display_data"
    },
    {
     "data": {
      "text/latex": [
       "$\\displaystyle u(x)>u(y) \\text{ si y solo si x 'es al menos, tan bueno como' y} $"
      ],
      "text/plain": [
       "<IPython.core.display.Math object>"
      ]
     },
     "metadata": {},
     "output_type": "display_data"
    }
   ],
   "source": [
    "display(Math(r\"u: X\\Rightarrow \\mathbb{R} \\text{ Representa la relación de preferencia 'Al menos, tan bueno como' si para cada par } x,y \\in X\"))\n",
    "display(Math(r\"u(x)>u(y) \\text{ si y solo si x 'es al menos, tan bueno como' y} \"))"
   ]
  }
 ],
 "metadata": {
  "kernelspec": {
   "display_name": "Python 3",
   "language": "python",
   "name": "python3"
  },
  "language_info": {
   "codemirror_mode": {
    "name": "ipython",
    "version": 3
   },
   "file_extension": ".py",
   "mimetype": "text/x-python",
   "name": "python",
   "nbconvert_exporter": "python",
   "pygments_lexer": "ipython3",
   "version": "3.8.3"
  }
 },
 "nbformat": 4,
 "nbformat_minor": 2
}
