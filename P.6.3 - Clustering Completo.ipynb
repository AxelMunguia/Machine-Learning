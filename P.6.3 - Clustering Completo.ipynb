{
 "cells": [
  {
   "cell_type": "markdown",
   "metadata": {},
   "source": [
    "# Clustering con Python"
   ]
  },
  {
   "cell_type": "code",
   "execution_count": 1,
   "metadata": {},
   "outputs": [],
   "source": [
    "import pandas as pd\n",
    "import numpy as np\n",
    "import matplotlib.pyplot as plt\n",
    "from matplotlib import style\n",
    "style.use(\"ggplot\")"
   ]
  },
  {
   "cell_type": "code",
   "execution_count": 2,
   "metadata": {},
   "outputs": [
    {
     "data": {
      "text/html": [
       "<div>\n",
       "<style scoped>\n",
       "    .dataframe tbody tr th:only-of-type {\n",
       "        vertical-align: middle;\n",
       "    }\n",
       "\n",
       "    .dataframe tbody tr th {\n",
       "        vertical-align: top;\n",
       "    }\n",
       "\n",
       "    .dataframe thead th {\n",
       "        text-align: right;\n",
       "    }\n",
       "</style>\n",
       "<table border=\"1\" class=\"dataframe\">\n",
       "  <thead>\n",
       "    <tr style=\"text-align: right;\">\n",
       "      <th></th>\n",
       "      <th>fixed acidity</th>\n",
       "      <th>volatile acidity</th>\n",
       "      <th>citric acid</th>\n",
       "      <th>residual sugar</th>\n",
       "      <th>chlorides</th>\n",
       "      <th>free sulfur dioxide</th>\n",
       "      <th>total sulfur dioxide</th>\n",
       "      <th>density</th>\n",
       "      <th>pH</th>\n",
       "      <th>sulphates</th>\n",
       "      <th>alcohol</th>\n",
       "      <th>quality</th>\n",
       "    </tr>\n",
       "  </thead>\n",
       "  <tbody>\n",
       "    <tr>\n",
       "      <th>0</th>\n",
       "      <td>7.4</td>\n",
       "      <td>0.70</td>\n",
       "      <td>0.00</td>\n",
       "      <td>1.9</td>\n",
       "      <td>0.076</td>\n",
       "      <td>11.0</td>\n",
       "      <td>34.0</td>\n",
       "      <td>0.9978</td>\n",
       "      <td>3.51</td>\n",
       "      <td>0.56</td>\n",
       "      <td>9.4</td>\n",
       "      <td>5</td>\n",
       "    </tr>\n",
       "    <tr>\n",
       "      <th>1</th>\n",
       "      <td>7.8</td>\n",
       "      <td>0.88</td>\n",
       "      <td>0.00</td>\n",
       "      <td>2.6</td>\n",
       "      <td>0.098</td>\n",
       "      <td>25.0</td>\n",
       "      <td>67.0</td>\n",
       "      <td>0.9968</td>\n",
       "      <td>3.20</td>\n",
       "      <td>0.68</td>\n",
       "      <td>9.8</td>\n",
       "      <td>5</td>\n",
       "    </tr>\n",
       "    <tr>\n",
       "      <th>2</th>\n",
       "      <td>7.8</td>\n",
       "      <td>0.76</td>\n",
       "      <td>0.04</td>\n",
       "      <td>2.3</td>\n",
       "      <td>0.092</td>\n",
       "      <td>15.0</td>\n",
       "      <td>54.0</td>\n",
       "      <td>0.9970</td>\n",
       "      <td>3.26</td>\n",
       "      <td>0.65</td>\n",
       "      <td>9.8</td>\n",
       "      <td>5</td>\n",
       "    </tr>\n",
       "    <tr>\n",
       "      <th>3</th>\n",
       "      <td>11.2</td>\n",
       "      <td>0.28</td>\n",
       "      <td>0.56</td>\n",
       "      <td>1.9</td>\n",
       "      <td>0.075</td>\n",
       "      <td>17.0</td>\n",
       "      <td>60.0</td>\n",
       "      <td>0.9980</td>\n",
       "      <td>3.16</td>\n",
       "      <td>0.58</td>\n",
       "      <td>9.8</td>\n",
       "      <td>6</td>\n",
       "    </tr>\n",
       "    <tr>\n",
       "      <th>4</th>\n",
       "      <td>7.4</td>\n",
       "      <td>0.70</td>\n",
       "      <td>0.00</td>\n",
       "      <td>1.9</td>\n",
       "      <td>0.076</td>\n",
       "      <td>11.0</td>\n",
       "      <td>34.0</td>\n",
       "      <td>0.9978</td>\n",
       "      <td>3.51</td>\n",
       "      <td>0.56</td>\n",
       "      <td>9.4</td>\n",
       "      <td>5</td>\n",
       "    </tr>\n",
       "  </tbody>\n",
       "</table>\n",
       "</div>"
      ],
      "text/plain": [
       "   fixed acidity  volatile acidity  citric acid  residual sugar  chlorides  \\\n",
       "0            7.4              0.70         0.00             1.9      0.076   \n",
       "1            7.8              0.88         0.00             2.6      0.098   \n",
       "2            7.8              0.76         0.04             2.3      0.092   \n",
       "3           11.2              0.28         0.56             1.9      0.075   \n",
       "4            7.4              0.70         0.00             1.9      0.076   \n",
       "\n",
       "   free sulfur dioxide  total sulfur dioxide  density    pH  sulphates  \\\n",
       "0                 11.0                  34.0   0.9978  3.51       0.56   \n",
       "1                 25.0                  67.0   0.9968  3.20       0.68   \n",
       "2                 15.0                  54.0   0.9970  3.26       0.65   \n",
       "3                 17.0                  60.0   0.9980  3.16       0.58   \n",
       "4                 11.0                  34.0   0.9978  3.51       0.56   \n",
       "\n",
       "   alcohol  quality  \n",
       "0      9.4        5  \n",
       "1      9.8        5  \n",
       "2      9.8        5  \n",
       "3      9.8        6  \n",
       "4      9.4        5  "
      ]
     },
     "execution_count": 2,
     "metadata": {},
     "output_type": "execute_result"
    }
   ],
   "source": [
    "data = pd.read_csv(\"../datasets/wine/winequality-red.csv\",sep=\";\")\n",
    "data.head()"
   ]
  },
  {
   "cell_type": "code",
   "execution_count": 3,
   "metadata": {},
   "outputs": [
    {
     "data": {
      "text/plain": [
       "(1599, 12)"
      ]
     },
     "execution_count": 3,
     "metadata": {},
     "output_type": "execute_result"
    }
   ],
   "source": [
    "data.shape"
   ]
  },
  {
   "cell_type": "code",
   "execution_count": 4,
   "metadata": {},
   "outputs": [
    {
     "data": {
      "text/plain": [
       "19188"
      ]
     },
     "execution_count": 4,
     "metadata": {},
     "output_type": "execute_result"
    }
   ],
   "source": [
    "data.size"
   ]
  },
  {
   "cell_type": "code",
   "execution_count": 5,
   "metadata": {},
   "outputs": [
    {
     "data": {
      "image/png": "[encoded data removed]",
      "text/plain": [
       "<Figure size 432x288 with 1 Axes>"
      ]
     },
     "metadata": {
      "needs_background": "light"
     },
     "output_type": "display_data"
    }
   ],
   "source": [
    "plt.hist(data[\"quality\"])\n",
    "plt.ylabel(\"Frecuencia\")\n",
    "plt.title(\"Quality\")\n",
    "plt.show()"
   ]
  },
  {
   "cell_type": "code",
   "execution_count": 6,
   "metadata": {},
   "outputs": [
    {
     "data": {
      "text/html": [
       "<div>\n",
       "<style scoped>\n",
       "    .dataframe tbody tr th:only-of-type {\n",
       "        vertical-align: middle;\n",
       "    }\n",
       "\n",
       "    .dataframe tbody tr th {\n",
       "        vertical-align: top;\n",
       "    }\n",
       "\n",
       "    .dataframe thead th {\n",
       "        text-align: right;\n",
       "    }\n",
       "</style>\n",
       "<table border=\"1\" class=\"dataframe\">\n",
       "  <thead>\n",
       "    <tr style=\"text-align: right;\">\n",
       "      <th></th>\n",
       "      <th>fixed acidity</th>\n",
       "      <th>volatile acidity</th>\n",
       "      <th>citric acid</th>\n",
       "      <th>residual sugar</th>\n",
       "      <th>chlorides</th>\n",
       "      <th>free sulfur dioxide</th>\n",
       "      <th>total sulfur dioxide</th>\n",
       "      <th>density</th>\n",
       "      <th>pH</th>\n",
       "      <th>sulphates</th>\n",
       "      <th>alcohol</th>\n",
       "    </tr>\n",
       "    <tr>\n",
       "      <th>quality</th>\n",
       "      <th></th>\n",
       "      <th></th>\n",
       "      <th></th>\n",
       "      <th></th>\n",
       "      <th></th>\n",
       "      <th></th>\n",
       "      <th></th>\n",
       "      <th></th>\n",
       "      <th></th>\n",
       "      <th></th>\n",
       "      <th></th>\n",
       "    </tr>\n",
       "  </thead>\n",
       "  <tbody>\n",
       "    <tr>\n",
       "      <th>3</th>\n",
       "      <td>8.360000</td>\n",
       "      <td>0.884500</td>\n",
       "      <td>0.171000</td>\n",
       "      <td>2.635000</td>\n",
       "      <td>0.122500</td>\n",
       "      <td>11.000000</td>\n",
       "      <td>24.900000</td>\n",
       "      <td>0.997464</td>\n",
       "      <td>3.398000</td>\n",
       "      <td>0.570000</td>\n",
       "      <td>9.955000</td>\n",
       "    </tr>\n",
       "    <tr>\n",
       "      <th>4</th>\n",
       "      <td>7.779245</td>\n",
       "      <td>0.693962</td>\n",
       "      <td>0.174151</td>\n",
       "      <td>2.694340</td>\n",
       "      <td>0.090679</td>\n",
       "      <td>12.264151</td>\n",
       "      <td>36.245283</td>\n",
       "      <td>0.996542</td>\n",
       "      <td>3.381509</td>\n",
       "      <td>0.596415</td>\n",
       "      <td>10.265094</td>\n",
       "    </tr>\n",
       "    <tr>\n",
       "      <th>5</th>\n",
       "      <td>8.167254</td>\n",
       "      <td>0.577041</td>\n",
       "      <td>0.243686</td>\n",
       "      <td>2.528855</td>\n",
       "      <td>0.092736</td>\n",
       "      <td>16.983847</td>\n",
       "      <td>56.513950</td>\n",
       "      <td>0.997104</td>\n",
       "      <td>3.304949</td>\n",
       "      <td>0.620969</td>\n",
       "      <td>9.899706</td>\n",
       "    </tr>\n",
       "    <tr>\n",
       "      <th>6</th>\n",
       "      <td>8.347179</td>\n",
       "      <td>0.497484</td>\n",
       "      <td>0.273824</td>\n",
       "      <td>2.477194</td>\n",
       "      <td>0.084956</td>\n",
       "      <td>15.711599</td>\n",
       "      <td>40.869906</td>\n",
       "      <td>0.996615</td>\n",
       "      <td>3.318072</td>\n",
       "      <td>0.675329</td>\n",
       "      <td>10.629519</td>\n",
       "    </tr>\n",
       "    <tr>\n",
       "      <th>7</th>\n",
       "      <td>8.872362</td>\n",
       "      <td>0.403920</td>\n",
       "      <td>0.375176</td>\n",
       "      <td>2.720603</td>\n",
       "      <td>0.076588</td>\n",
       "      <td>14.045226</td>\n",
       "      <td>35.020101</td>\n",
       "      <td>0.996104</td>\n",
       "      <td>3.290754</td>\n",
       "      <td>0.741256</td>\n",
       "      <td>11.465913</td>\n",
       "    </tr>\n",
       "    <tr>\n",
       "      <th>8</th>\n",
       "      <td>8.566667</td>\n",
       "      <td>0.423333</td>\n",
       "      <td>0.391111</td>\n",
       "      <td>2.577778</td>\n",
       "      <td>0.068444</td>\n",
       "      <td>13.277778</td>\n",
       "      <td>33.444444</td>\n",
       "      <td>0.995212</td>\n",
       "      <td>3.267222</td>\n",
       "      <td>0.767778</td>\n",
       "      <td>12.094444</td>\n",
       "    </tr>\n",
       "  </tbody>\n",
       "</table>\n",
       "</div>"
      ],
      "text/plain": [
       "         fixed acidity  volatile acidity  citric acid  residual sugar  \\\n",
       "quality                                                                 \n",
       "3             8.360000          0.884500     0.171000        2.635000   \n",
       "4             7.779245          0.693962     0.174151        2.694340   \n",
       "5             8.167254          0.577041     0.243686        2.528855   \n",
       "6             8.347179          0.497484     0.273824        2.477194   \n",
       "7             8.872362          0.403920     0.375176        2.720603   \n",
       "8             8.566667          0.423333     0.391111        2.577778   \n",
       "\n",
       "         chlorides  free sulfur dioxide  total sulfur dioxide   density  \\\n",
       "quality                                                                   \n",
       "3         0.122500            11.000000             24.900000  0.997464   \n",
       "4         0.090679            12.264151             36.245283  0.996542   \n",
       "5         0.092736            16.983847             56.513950  0.997104   \n",
       "6         0.084956            15.711599             40.869906  0.996615   \n",
       "7         0.076588            14.045226             35.020101  0.996104   \n",
       "8         0.068444            13.277778             33.444444  0.995212   \n",
       "\n",
       "               pH  sulphates    alcohol  \n",
       "quality                                  \n",
       "3        3.398000   0.570000   9.955000  \n",
       "4        3.381509   0.596415  10.265094  \n",
       "5        3.304949   0.620969   9.899706  \n",
       "6        3.318072   0.675329  10.629519  \n",
       "7        3.290754   0.741256  11.465913  \n",
       "8        3.267222   0.767778  12.094444  "
      ]
     },
     "execution_count": 6,
     "metadata": {},
     "output_type": "execute_result"
    }
   ],
   "source": [
    "data.groupby(\"quality\").mean()"
   ]
  },
  {
   "cell_type": "markdown",
   "metadata": {},
   "source": [
    "## Normalización de los datos"
   ]
  },
  {
   "cell_type": "code",
   "execution_count": 7,
   "metadata": {},
   "outputs": [
    {
     "data": {
      "text/html": [
       "<div>\n",
       "<style scoped>\n",
       "    .dataframe tbody tr th:only-of-type {\n",
       "        vertical-align: middle;\n",
       "    }\n",
       "\n",
       "    .dataframe tbody tr th {\n",
       "        vertical-align: top;\n",
       "    }\n",
       "\n",
       "    .dataframe thead th {\n",
       "        text-align: right;\n",
       "    }\n",
       "</style>\n",
       "<table border=\"1\" class=\"dataframe\">\n",
       "  <thead>\n",
       "    <tr style=\"text-align: right;\">\n",
       "      <th></th>\n",
       "      <th>fixed acidity</th>\n",
       "      <th>volatile acidity</th>\n",
       "      <th>citric acid</th>\n",
       "      <th>residual sugar</th>\n",
       "      <th>chlorides</th>\n",
       "      <th>free sulfur dioxide</th>\n",
       "      <th>total sulfur dioxide</th>\n",
       "      <th>density</th>\n",
       "      <th>pH</th>\n",
       "      <th>sulphates</th>\n",
       "      <th>alcohol</th>\n",
       "      <th>quality</th>\n",
       "    </tr>\n",
       "  </thead>\n",
       "  <tbody>\n",
       "    <tr>\n",
       "      <th>0</th>\n",
       "      <td>0.247788</td>\n",
       "      <td>0.397260</td>\n",
       "      <td>0.00</td>\n",
       "      <td>0.068493</td>\n",
       "      <td>0.106845</td>\n",
       "      <td>0.140845</td>\n",
       "      <td>0.098940</td>\n",
       "      <td>0.567548</td>\n",
       "      <td>0.606299</td>\n",
       "      <td>0.137725</td>\n",
       "      <td>0.153846</td>\n",
       "      <td>0.4</td>\n",
       "    </tr>\n",
       "    <tr>\n",
       "      <th>1</th>\n",
       "      <td>0.283186</td>\n",
       "      <td>0.520548</td>\n",
       "      <td>0.00</td>\n",
       "      <td>0.116438</td>\n",
       "      <td>0.143573</td>\n",
       "      <td>0.338028</td>\n",
       "      <td>0.215548</td>\n",
       "      <td>0.494126</td>\n",
       "      <td>0.362205</td>\n",
       "      <td>0.209581</td>\n",
       "      <td>0.215385</td>\n",
       "      <td>0.4</td>\n",
       "    </tr>\n",
       "    <tr>\n",
       "      <th>2</th>\n",
       "      <td>0.283186</td>\n",
       "      <td>0.438356</td>\n",
       "      <td>0.04</td>\n",
       "      <td>0.095890</td>\n",
       "      <td>0.133556</td>\n",
       "      <td>0.197183</td>\n",
       "      <td>0.169611</td>\n",
       "      <td>0.508811</td>\n",
       "      <td>0.409449</td>\n",
       "      <td>0.191617</td>\n",
       "      <td>0.215385</td>\n",
       "      <td>0.4</td>\n",
       "    </tr>\n",
       "    <tr>\n",
       "      <th>3</th>\n",
       "      <td>0.584071</td>\n",
       "      <td>0.109589</td>\n",
       "      <td>0.56</td>\n",
       "      <td>0.068493</td>\n",
       "      <td>0.105175</td>\n",
       "      <td>0.225352</td>\n",
       "      <td>0.190813</td>\n",
       "      <td>0.582232</td>\n",
       "      <td>0.330709</td>\n",
       "      <td>0.149701</td>\n",
       "      <td>0.215385</td>\n",
       "      <td>0.6</td>\n",
       "    </tr>\n",
       "    <tr>\n",
       "      <th>4</th>\n",
       "      <td>0.247788</td>\n",
       "      <td>0.397260</td>\n",
       "      <td>0.00</td>\n",
       "      <td>0.068493</td>\n",
       "      <td>0.106845</td>\n",
       "      <td>0.140845</td>\n",
       "      <td>0.098940</td>\n",
       "      <td>0.567548</td>\n",
       "      <td>0.606299</td>\n",
       "      <td>0.137725</td>\n",
       "      <td>0.153846</td>\n",
       "      <td>0.4</td>\n",
       "    </tr>\n",
       "  </tbody>\n",
       "</table>\n",
       "</div>"
      ],
      "text/plain": [
       "   fixed acidity  volatile acidity  citric acid  residual sugar  chlorides  \\\n",
       "0       0.247788          0.397260         0.00        0.068493   0.106845   \n",
       "1       0.283186          0.520548         0.00        0.116438   0.143573   \n",
       "2       0.283186          0.438356         0.04        0.095890   0.133556   \n",
       "3       0.584071          0.109589         0.56        0.068493   0.105175   \n",
       "4       0.247788          0.397260         0.00        0.068493   0.106845   \n",
       "\n",
       "   free sulfur dioxide  total sulfur dioxide   density        pH  sulphates  \\\n",
       "0             0.140845              0.098940  0.567548  0.606299   0.137725   \n",
       "1             0.338028              0.215548  0.494126  0.362205   0.209581   \n",
       "2             0.197183              0.169611  0.508811  0.409449   0.191617   \n",
       "3             0.225352              0.190813  0.582232  0.330709   0.149701   \n",
       "4             0.140845              0.098940  0.567548  0.606299   0.137725   \n",
       "\n",
       "    alcohol  quality  \n",
       "0  0.153846      0.4  \n",
       "1  0.215385      0.4  \n",
       "2  0.215385      0.4  \n",
       "3  0.215385      0.6  \n",
       "4  0.153846      0.4  "
      ]
     },
     "execution_count": 7,
     "metadata": {},
     "output_type": "execute_result"
    }
   ],
   "source": [
    "df_norm = (data-data.min())/(data.max()-data.min())\n",
    "df_norm.head()"
   ]
  },
  {
   "cell_type": "markdown",
   "metadata": {},
   "source": [
    "## Clustering Jerárquico con Scikit-learn"
   ]
  },
  {
   "cell_type": "code",
   "execution_count": 8,
   "metadata": {},
   "outputs": [],
   "source": [
    "from sklearn.cluster import AgglomerativeClustering"
   ]
  },
  {
   "cell_type": "code",
   "execution_count": 9,
   "metadata": {},
   "outputs": [],
   "source": [
    "?AgglomerativeClustering\n",
    "# Recursively merges the pair of clusters that minimally increases\n",
    "# a given linkage distance."
   ]
  },
  {
   "cell_type": "code",
   "execution_count": 10,
   "metadata": {},
   "outputs": [
    {
     "data": {
      "text/plain": [
       "AgglomerativeClustering(affinity='euclidean', compute_full_tree='auto',\n",
       "            connectivity=None, linkage='ward', memory=None, n_clusters=6,\n",
       "            pooling_func='deprecated')"
      ]
     },
     "execution_count": 10,
     "metadata": {},
     "output_type": "execute_result"
    }
   ],
   "source": [
    "clust = AgglomerativeClustering(n_clusters=6, linkage=\"ward\").fit(df_norm)\n",
    "clust"
   ]
  },
  {
   "cell_type": "code",
   "execution_count": 11,
   "metadata": {},
   "outputs": [
    {
     "data": {
      "text/plain": [
       "0    2\n",
       "1    2\n",
       "2    2\n",
       "3    3\n",
       "4    2\n",
       "dtype: int64"
      ]
     },
     "execution_count": 11,
     "metadata": {},
     "output_type": "execute_result"
    }
   ],
   "source": [
    "md_h = pd.Series(clust.labels_)\n",
    "md_h.head()"
   ]
  },
  {
   "cell_type": "code",
   "execution_count": 12,
   "metadata": {},
   "outputs": [
    {
     "data": {
      "text/plain": [
       "array([0, 1, 2, 3, 4, 5], dtype=int64)"
      ]
     },
     "execution_count": 12,
     "metadata": {},
     "output_type": "execute_result"
    }
   ],
   "source": [
    "np.unique(md_h)"
   ]
  },
  {
   "cell_type": "code",
   "execution_count": 13,
   "metadata": {},
   "outputs": [
    {
     "data": {
      "text/plain": [
       "Text(0, 0.5, 'Número de Vinos del Cluster')"
      ]
     },
     "execution_count": 13,
     "metadata": {},
     "output_type": "execute_result"
    },
    {
     "data": {
      "image/png": "[encoded data removed]",
      "text/plain": [
       "<Figure size 432x288 with 1 Axes>"
      ]
     },
     "metadata": {
      "needs_background": "light"
     },
     "output_type": "display_data"
    }
   ],
   "source": [
    "plt.hist(md_h)\n",
    "plt.title(\"Histograma de Clusters del Vino\")\n",
    "plt.xlabel(\"Clusters\")\n",
    "plt.ylabel(\"Número de Vinos del Cluster\")"
   ]
  },
  {
   "cell_type": "code",
   "execution_count": 14,
   "metadata": {},
   "outputs": [],
   "source": [
    "# ?clust.children_\n",
    "# An array object represents a multidimensional, homogeneous array\n",
    "# of fixed-size items.  An associated data-type object describes the\n",
    "# format of each element in the array (its byte-order, how many bytes it\n",
    "# occupies in memory, whether it is an integer, a floating point number,\n",
    "# or something else, etc.)"
   ]
  },
  {
   "cell_type": "code",
   "execution_count": 15,
   "metadata": {},
   "outputs": [],
   "source": [
    "from scipy.cluster.hierarchy import dendrogram, linkage"
   ]
  },
  {
   "cell_type": "code",
   "execution_count": 16,
   "metadata": {},
   "outputs": [],
   "source": [
    "z = linkage(df_norm, \"ward\")"
   ]
  },
  {
   "cell_type": "code",
   "execution_count": 17,
   "metadata": {},
   "outputs": [
    {
     "data": {
      "image/png": "[encoded data removed]",
      "text/plain": [
       "<Figure size 1800x720 with 1 Axes>"
      ]
     },
     "metadata": {
      "needs_background": "light"
     },
     "output_type": "display_data"
    }
   ],
   "source": [
    "plt.figure(figsize=(25,10))\n",
    "plt.title(\"Dendograma de Vinos\",size=20)\n",
    "plt.xlabel(\"ID del Vino\", size=20)\n",
    "plt.ylabel(\"Distancia\",size=20)\n",
    "dendrogram(z,leaf_rotation=90,leaf_font_size=4,p=20,)\n",
    "plt.show()"
   ]
  },
  {
   "cell_type": "markdown",
   "metadata": {},
   "source": [
    "## K- Means"
   ]
  },
  {
   "cell_type": "code",
   "execution_count": 18,
   "metadata": {},
   "outputs": [],
   "source": [
    "from sklearn.cluster import KMeans\n",
    "from scipy.cluster.vq import kmeans # Te da los centroides\n",
    "from sklearn import datasets"
   ]
  },
  {
   "cell_type": "code",
   "execution_count": 19,
   "metadata": {},
   "outputs": [
    {
     "data": {
      "text/plain": [
       "KMeans(algorithm='auto', copy_x=True, init='k-means++', max_iter=300,\n",
       "    n_clusters=6, n_init=10, n_jobs=None, precompute_distances='auto',\n",
       "    random_state=None, tol=0.0001, verbose=0)"
      ]
     },
     "execution_count": 19,
     "metadata": {},
     "output_type": "execute_result"
    }
   ],
   "source": [
    "model = KMeans(n_clusters=6)\n",
    "model.fit(df_norm)"
   ]
  },
  {
   "cell_type": "code",
   "execution_count": 20,
   "metadata": {},
   "outputs": [
    {
     "data": {
      "text/plain": [
       "array([4, 4, 4, ..., 3, 3, 5])"
      ]
     },
     "execution_count": 20,
     "metadata": {},
     "output_type": "execute_result"
    }
   ],
   "source": [
    "model.labels_"
   ]
  },
  {
   "cell_type": "code",
   "execution_count": 21,
   "metadata": {},
   "outputs": [
    {
     "data": {
      "text/plain": [
       "1599"
      ]
     },
     "execution_count": 21,
     "metadata": {},
     "output_type": "execute_result"
    }
   ],
   "source": [
    "len(model.labels_)"
   ]
  },
  {
   "cell_type": "code",
   "execution_count": 22,
   "metadata": {},
   "outputs": [
    {
     "data": {
      "text/plain": [
       "0    4\n",
       "1    4\n",
       "2    4\n",
       "3    1\n",
       "4    4\n",
       "dtype: int32"
      ]
     },
     "execution_count": 22,
     "metadata": {},
     "output_type": "execute_result"
    }
   ],
   "source": [
    "md_k = pd.Series(model.labels_)\n",
    "md_k.head()"
   ]
  },
  {
   "cell_type": "code",
   "execution_count": 23,
   "metadata": {},
   "outputs": [
    {
     "data": {
      "text/html": [
       "<div>\n",
       "<style scoped>\n",
       "    .dataframe tbody tr th:only-of-type {\n",
       "        vertical-align: middle;\n",
       "    }\n",
       "\n",
       "    .dataframe tbody tr th {\n",
       "        vertical-align: top;\n",
       "    }\n",
       "\n",
       "    .dataframe thead th {\n",
       "        text-align: right;\n",
       "    }\n",
       "</style>\n",
       "<table border=\"1\" class=\"dataframe\">\n",
       "  <thead>\n",
       "    <tr style=\"text-align: right;\">\n",
       "      <th></th>\n",
       "      <th>fixed acidity</th>\n",
       "      <th>volatile acidity</th>\n",
       "      <th>citric acid</th>\n",
       "      <th>residual sugar</th>\n",
       "      <th>chlorides</th>\n",
       "      <th>free sulfur dioxide</th>\n",
       "      <th>total sulfur dioxide</th>\n",
       "      <th>density</th>\n",
       "      <th>pH</th>\n",
       "      <th>sulphates</th>\n",
       "      <th>alcohol</th>\n",
       "      <th>quality</th>\n",
       "      <th>Clust_Hierarchy</th>\n",
       "      <th>Clust_K-Mean</th>\n",
       "    </tr>\n",
       "  </thead>\n",
       "  <tbody>\n",
       "    <tr>\n",
       "      <th>0</th>\n",
       "      <td>0.247788</td>\n",
       "      <td>0.397260</td>\n",
       "      <td>0.00</td>\n",
       "      <td>0.068493</td>\n",
       "      <td>0.106845</td>\n",
       "      <td>0.140845</td>\n",
       "      <td>0.098940</td>\n",
       "      <td>0.567548</td>\n",
       "      <td>0.606299</td>\n",
       "      <td>0.137725</td>\n",
       "      <td>0.153846</td>\n",
       "      <td>0.4</td>\n",
       "      <td>2</td>\n",
       "      <td>4</td>\n",
       "    </tr>\n",
       "    <tr>\n",
       "      <th>1</th>\n",
       "      <td>0.283186</td>\n",
       "      <td>0.520548</td>\n",
       "      <td>0.00</td>\n",
       "      <td>0.116438</td>\n",
       "      <td>0.143573</td>\n",
       "      <td>0.338028</td>\n",
       "      <td>0.215548</td>\n",
       "      <td>0.494126</td>\n",
       "      <td>0.362205</td>\n",
       "      <td>0.209581</td>\n",
       "      <td>0.215385</td>\n",
       "      <td>0.4</td>\n",
       "      <td>2</td>\n",
       "      <td>4</td>\n",
       "    </tr>\n",
       "    <tr>\n",
       "      <th>2</th>\n",
       "      <td>0.283186</td>\n",
       "      <td>0.438356</td>\n",
       "      <td>0.04</td>\n",
       "      <td>0.095890</td>\n",
       "      <td>0.133556</td>\n",
       "      <td>0.197183</td>\n",
       "      <td>0.169611</td>\n",
       "      <td>0.508811</td>\n",
       "      <td>0.409449</td>\n",
       "      <td>0.191617</td>\n",
       "      <td>0.215385</td>\n",
       "      <td>0.4</td>\n",
       "      <td>2</td>\n",
       "      <td>4</td>\n",
       "    </tr>\n",
       "    <tr>\n",
       "      <th>3</th>\n",
       "      <td>0.584071</td>\n",
       "      <td>0.109589</td>\n",
       "      <td>0.56</td>\n",
       "      <td>0.068493</td>\n",
       "      <td>0.105175</td>\n",
       "      <td>0.225352</td>\n",
       "      <td>0.190813</td>\n",
       "      <td>0.582232</td>\n",
       "      <td>0.330709</td>\n",
       "      <td>0.149701</td>\n",
       "      <td>0.215385</td>\n",
       "      <td>0.6</td>\n",
       "      <td>3</td>\n",
       "      <td>1</td>\n",
       "    </tr>\n",
       "    <tr>\n",
       "      <th>4</th>\n",
       "      <td>0.247788</td>\n",
       "      <td>0.397260</td>\n",
       "      <td>0.00</td>\n",
       "      <td>0.068493</td>\n",
       "      <td>0.106845</td>\n",
       "      <td>0.140845</td>\n",
       "      <td>0.098940</td>\n",
       "      <td>0.567548</td>\n",
       "      <td>0.606299</td>\n",
       "      <td>0.137725</td>\n",
       "      <td>0.153846</td>\n",
       "      <td>0.4</td>\n",
       "      <td>2</td>\n",
       "      <td>4</td>\n",
       "    </tr>\n",
       "  </tbody>\n",
       "</table>\n",
       "</div>"
      ],
      "text/plain": [
       "   fixed acidity  volatile acidity  citric acid  residual sugar  chlorides  \\\n",
       "0       0.247788          0.397260         0.00        0.068493   0.106845   \n",
       "1       0.283186          0.520548         0.00        0.116438   0.143573   \n",
       "2       0.283186          0.438356         0.04        0.095890   0.133556   \n",
       "3       0.584071          0.109589         0.56        0.068493   0.105175   \n",
       "4       0.247788          0.397260         0.00        0.068493   0.106845   \n",
       "\n",
       "   free sulfur dioxide  total sulfur dioxide   density        pH  sulphates  \\\n",
       "0             0.140845              0.098940  0.567548  0.606299   0.137725   \n",
       "1             0.338028              0.215548  0.494126  0.362205   0.209581   \n",
       "2             0.197183              0.169611  0.508811  0.409449   0.191617   \n",
       "3             0.225352              0.190813  0.582232  0.330709   0.149701   \n",
       "4             0.140845              0.098940  0.567548  0.606299   0.137725   \n",
       "\n",
       "    alcohol  quality  Clust_Hierarchy  Clust_K-Mean  \n",
       "0  0.153846      0.4                2             4  \n",
       "1  0.215385      0.4                2             4  \n",
       "2  0.215385      0.4                2             4  \n",
       "3  0.215385      0.6                3             1  \n",
       "4  0.153846      0.4                2             4  "
      ]
     },
     "execution_count": 23,
     "metadata": {},
     "output_type": "execute_result"
    }
   ],
   "source": [
    "df_norm[\"Clust_Hierarchy\"] = md_h\n",
    "df_norm[\"Clust_K-Mean\"] = md_k\n",
    "df_norm.head()"
   ]
  },
  {
   "cell_type": "code",
   "execution_count": 24,
   "metadata": {},
   "outputs": [
    {
     "data": {
      "text/plain": [
       "0.03189493433395872"
      ]
     },
     "execution_count": 24,
     "metadata": {},
     "output_type": "execute_result"
    }
   ],
   "source": [
    "sum(md_h==md_k)/len(md_h)"
   ]
  },
  {
   "cell_type": "code",
   "execution_count": 25,
   "metadata": {},
   "outputs": [
    {
     "data": {
      "image/png": "[encoded data removed]",
      "text/plain": [
       "<Figure size 432x288 with 2 Axes>"
      ]
     },
     "metadata": {
      "needs_background": "light"
     },
     "output_type": "display_data"
    }
   ],
   "source": [
    "fig, (ax,ax1) = plt.subplots(1,2)\n",
    "ax.hist(md_h)\n",
    "ax1.hist(md_k)\n",
    "plt.subplots_adjust(right=2.4)\n",
    "plt.show()"
   ]
  },
  {
   "cell_type": "code",
   "execution_count": 26,
   "metadata": {},
   "outputs": [
    {
     "data": {
      "text/plain": [
       "array([[0.30981545, 0.28454937, 0.28759146, 0.13216255, 0.1240024 ,\n",
       "        0.36486603, 0.28677928, 0.52980508, 0.43974457, 0.17438294,\n",
       "        0.21091307, 0.44756098],\n",
       "       [0.57751171, 0.20205479, 0.50588235, 0.12986839, 0.1303807 ,\n",
       "        0.13620547, 0.08994665, 0.65301028, 0.33595801, 0.22402254,\n",
       "        0.28908999, 0.54823529],\n",
       "       [0.3585335 , 0.29031311, 0.48314286, 0.18121331, 0.49325066,\n",
       "        0.28450704, 0.23977789, 0.57488987, 0.25016873, 0.55449102,\n",
       "        0.14989011, 0.46285714],\n",
       "       [0.17297231, 0.32386578, 0.0909633 , 0.09340832, 0.09507436,\n",
       "        0.25129216, 0.12592797, 0.32056878, 0.58108791, 0.18689227,\n",
       "        0.49487179, 0.61376147],\n",
       "       [0.26361333, 0.35980308, 0.11854839, 0.09243123, 0.12374118,\n",
       "        0.13943946, 0.10129802, 0.49161575, 0.48769685, 0.1550367 ,\n",
       "        0.22363007, 0.44314516],\n",
       "       [0.36124093, 0.15941973, 0.42853933, 0.11410395, 0.10550043,\n",
       "        0.17486944, 0.09573722, 0.41089057, 0.41882686, 0.23530467,\n",
       "        0.48954192, 0.6988764 ]])"
      ]
     },
     "execution_count": 26,
     "metadata": {},
     "output_type": "execute_result"
    }
   ],
   "source": [
    "model.cluster_centers_"
   ]
  },
  {
   "cell_type": "code",
   "execution_count": 27,
   "metadata": {},
   "outputs": [
    {
     "data": {
      "text/plain": [
       "(array([[0.47405682, 0.19704398, 0.45147368, 0.17354001, 0.13281785,\n",
       "         0.1647146 , 0.09819602, 0.61462246, 0.38615831, 0.22666246,\n",
       "         0.2837247 , 0.52842105, 0.16842105, 1.06315789],\n",
       "        [0.31093493, 0.28235599, 0.29321767, 0.13393976, 0.12380782,\n",
       "         0.3620207 , 0.28877172, 0.53060307, 0.4380387 , 0.17304823,\n",
       "         0.21032112, 0.44858044, 1.00946372, 0.        ],\n",
       "        [0.26472664, 0.35741799, 0.11359918, 0.09506401, 0.12146352,\n",
       "         0.14615916, 0.10360077, 0.48800333, 0.48880086, 0.15559066,\n",
       "         0.23313932, 0.4605317 , 1.95092025, 3.96319018],\n",
       "        [0.6100195 , 0.21625648, 0.50937853, 0.12266852, 0.13398979,\n",
       "         0.15691891, 0.10299255, 0.67167758, 0.31909782, 0.22588721,\n",
       "         0.28184847, 0.5480226 , 3.05084746, 0.93785311],\n",
       "        [0.19318396, 0.33360536, 0.13621277, 0.08646167, 0.15404397,\n",
       "         0.23170512, 0.12990001, 0.35351329, 0.53720891, 0.24079501,\n",
       "         0.43815603, 0.56340426, 4.16595745, 3.00425532],\n",
       "        [0.34937187, 0.1642279 , 0.41863636, 0.11195996, 0.10586409,\n",
       "         0.17795233, 0.09917468, 0.40790744, 0.42577501, 0.22781709,\n",
       "         0.47961269, 0.68531469, 0.02447552, 4.84965035]]), 0.4659970956678708)"
      ]
     },
     "execution_count": 27,
     "metadata": {},
     "output_type": "execute_result"
    }
   ],
   "source": [
    "kmeans(df_norm,6,iter=10000)"
   ]
  },
  {
   "cell_type": "code",
   "execution_count": 28,
   "metadata": {},
   "outputs": [
    {
     "data": {
      "text/plain": [
       "187.43405620400964"
      ]
     },
     "execution_count": 28,
     "metadata": {},
     "output_type": "execute_result"
    }
   ],
   "source": [
    "# Suma de los cuadrados internos. La distancia al cuadrado. \n",
    "model.inertia_"
   ]
  },
  {
   "cell_type": "markdown",
   "metadata": {},
   "source": [
    "### Interpretación Final"
   ]
  },
  {
   "cell_type": "code",
   "execution_count": 29,
   "metadata": {},
   "outputs": [
    {
     "data": {
      "text/html": [
       "<div>\n",
       "<style scoped>\n",
       "    .dataframe tbody tr th:only-of-type {\n",
       "        vertical-align: middle;\n",
       "    }\n",
       "\n",
       "    .dataframe tbody tr th {\n",
       "        vertical-align: top;\n",
       "    }\n",
       "\n",
       "    .dataframe thead th {\n",
       "        text-align: right;\n",
       "    }\n",
       "</style>\n",
       "<table border=\"1\" class=\"dataframe\">\n",
       "  <thead>\n",
       "    <tr style=\"text-align: right;\">\n",
       "      <th></th>\n",
       "      <th>fixed acidity</th>\n",
       "      <th>volatile acidity</th>\n",
       "      <th>citric acid</th>\n",
       "      <th>residual sugar</th>\n",
       "      <th>chlorides</th>\n",
       "      <th>free sulfur dioxide</th>\n",
       "      <th>total sulfur dioxide</th>\n",
       "      <th>density</th>\n",
       "      <th>pH</th>\n",
       "      <th>sulphates</th>\n",
       "      <th>alcohol</th>\n",
       "      <th>quality</th>\n",
       "      <th>Clust_K-Mean</th>\n",
       "    </tr>\n",
       "    <tr>\n",
       "      <th>Clust_Hierarchy</th>\n",
       "      <th></th>\n",
       "      <th></th>\n",
       "      <th></th>\n",
       "      <th></th>\n",
       "      <th></th>\n",
       "      <th></th>\n",
       "      <th></th>\n",
       "      <th></th>\n",
       "      <th></th>\n",
       "      <th></th>\n",
       "      <th></th>\n",
       "      <th></th>\n",
       "      <th></th>\n",
       "    </tr>\n",
       "  </thead>\n",
       "  <tbody>\n",
       "    <tr>\n",
       "      <th>0</th>\n",
       "      <td>0.380858</td>\n",
       "      <td>0.171341</td>\n",
       "      <td>0.422691</td>\n",
       "      <td>0.109661</td>\n",
       "      <td>0.109928</td>\n",
       "      <td>0.178844</td>\n",
       "      <td>0.098362</td>\n",
       "      <td>0.450974</td>\n",
       "      <td>0.417198</td>\n",
       "      <td>0.226202</td>\n",
       "      <td>0.439821</td>\n",
       "      <td>0.653298</td>\n",
       "      <td>3.775726</td>\n",
       "    </tr>\n",
       "    <tr>\n",
       "      <th>1</th>\n",
       "      <td>0.311109</td>\n",
       "      <td>0.282598</td>\n",
       "      <td>0.299255</td>\n",
       "      <td>0.159683</td>\n",
       "      <td>0.126075</td>\n",
       "      <td>0.349926</td>\n",
       "      <td>0.283037</td>\n",
       "      <td>0.545567</td>\n",
       "      <td>0.441899</td>\n",
       "      <td>0.174080</td>\n",
       "      <td>0.203376</td>\n",
       "      <td>0.450932</td>\n",
       "      <td>0.496894</td>\n",
       "    </tr>\n",
       "    <tr>\n",
       "      <th>2</th>\n",
       "      <td>0.265613</td>\n",
       "      <td>0.356714</td>\n",
       "      <td>0.113557</td>\n",
       "      <td>0.091213</td>\n",
       "      <td>0.124109</td>\n",
       "      <td>0.147873</td>\n",
       "      <td>0.105073</td>\n",
       "      <td>0.486659</td>\n",
       "      <td>0.485132</td>\n",
       "      <td>0.156005</td>\n",
       "      <td>0.228685</td>\n",
       "      <td>0.455285</td>\n",
       "      <td>3.717480</td>\n",
       "    </tr>\n",
       "    <tr>\n",
       "      <th>3</th>\n",
       "      <td>0.644449</td>\n",
       "      <td>0.206477</td>\n",
       "      <td>0.548734</td>\n",
       "      <td>0.128576</td>\n",
       "      <td>0.124564</td>\n",
       "      <td>0.142271</td>\n",
       "      <td>0.098135</td>\n",
       "      <td>0.684780</td>\n",
       "      <td>0.301455</td>\n",
       "      <td>0.226218</td>\n",
       "      <td>0.296754</td>\n",
       "      <td>0.559494</td>\n",
       "      <td>1.069620</td>\n",
       "    </tr>\n",
       "    <tr>\n",
       "      <th>4</th>\n",
       "      <td>0.169313</td>\n",
       "      <td>0.344531</td>\n",
       "      <td>0.080000</td>\n",
       "      <td>0.089394</td>\n",
       "      <td>0.095731</td>\n",
       "      <td>0.253521</td>\n",
       "      <td>0.122151</td>\n",
       "      <td>0.329572</td>\n",
       "      <td>0.589432</td>\n",
       "      <td>0.182165</td>\n",
       "      <td>0.482944</td>\n",
       "      <td>0.578431</td>\n",
       "      <td>2.980392</td>\n",
       "    </tr>\n",
       "    <tr>\n",
       "      <th>5</th>\n",
       "      <td>0.335881</td>\n",
       "      <td>0.279577</td>\n",
       "      <td>0.405455</td>\n",
       "      <td>0.069894</td>\n",
       "      <td>0.430073</td>\n",
       "      <td>0.172535</td>\n",
       "      <td>0.184388</td>\n",
       "      <td>0.508911</td>\n",
       "      <td>0.274875</td>\n",
       "      <td>0.517148</td>\n",
       "      <td>0.171678</td>\n",
       "      <td>0.450000</td>\n",
       "      <td>2.295455</td>\n",
       "    </tr>\n",
       "  </tbody>\n",
       "</table>\n",
       "</div>"
      ],
      "text/plain": [
       "                 fixed acidity  volatile acidity  citric acid  residual sugar  \\\n",
       "Clust_Hierarchy                                                                 \n",
       "0                     0.380858          0.171341     0.422691        0.109661   \n",
       "1                     0.311109          0.282598     0.299255        0.159683   \n",
       "2                     0.265613          0.356714     0.113557        0.091213   \n",
       "3                     0.644449          0.206477     0.548734        0.128576   \n",
       "4                     0.169313          0.344531     0.080000        0.089394   \n",
       "5                     0.335881          0.279577     0.405455        0.069894   \n",
       "\n",
       "                 chlorides  free sulfur dioxide  total sulfur dioxide  \\\n",
       "Clust_Hierarchy                                                         \n",
       "0                 0.109928             0.178844              0.098362   \n",
       "1                 0.126075             0.349926              0.283037   \n",
       "2                 0.124109             0.147873              0.105073   \n",
       "3                 0.124564             0.142271              0.098135   \n",
       "4                 0.095731             0.253521              0.122151   \n",
       "5                 0.430073             0.172535              0.184388   \n",
       "\n",
       "                  density        pH  sulphates   alcohol   quality  \\\n",
       "Clust_Hierarchy                                                      \n",
       "0                0.450974  0.417198   0.226202  0.439821  0.653298   \n",
       "1                0.545567  0.441899   0.174080  0.203376  0.450932   \n",
       "2                0.486659  0.485132   0.156005  0.228685  0.455285   \n",
       "3                0.684780  0.301455   0.226218  0.296754  0.559494   \n",
       "4                0.329572  0.589432   0.182165  0.482944  0.578431   \n",
       "5                0.508911  0.274875   0.517148  0.171678  0.450000   \n",
       "\n",
       "                 Clust_K-Mean  \n",
       "Clust_Hierarchy                \n",
       "0                    3.775726  \n",
       "1                    0.496894  \n",
       "2                    3.717480  \n",
       "3                    1.069620  \n",
       "4                    2.980392  \n",
       "5                    2.295455  "
      ]
     },
     "execution_count": 29,
     "metadata": {},
     "output_type": "execute_result"
    }
   ],
   "source": [
    "df_norm.groupby(\"Clust_Hierarchy\").mean()"
   ]
  },
  {
   "cell_type": "code",
   "execution_count": 30,
   "metadata": {},
   "outputs": [
    {
     "data": {
      "text/html": [
       "<div>\n",
       "<style scoped>\n",
       "    .dataframe tbody tr th:only-of-type {\n",
       "        vertical-align: middle;\n",
       "    }\n",
       "\n",
       "    .dataframe tbody tr th {\n",
       "        vertical-align: top;\n",
       "    }\n",
       "\n",
       "    .dataframe thead th {\n",
       "        text-align: right;\n",
       "    }\n",
       "</style>\n",
       "<table border=\"1\" class=\"dataframe\">\n",
       "  <thead>\n",
       "    <tr style=\"text-align: right;\">\n",
       "      <th></th>\n",
       "      <th>fixed acidity</th>\n",
       "      <th>volatile acidity</th>\n",
       "      <th>citric acid</th>\n",
       "      <th>residual sugar</th>\n",
       "      <th>chlorides</th>\n",
       "      <th>free sulfur dioxide</th>\n",
       "      <th>total sulfur dioxide</th>\n",
       "      <th>density</th>\n",
       "      <th>pH</th>\n",
       "      <th>sulphates</th>\n",
       "      <th>alcohol</th>\n",
       "      <th>quality</th>\n",
       "      <th>Clust_Hierarchy</th>\n",
       "    </tr>\n",
       "    <tr>\n",
       "      <th>Clust_K-Mean</th>\n",
       "      <th></th>\n",
       "      <th></th>\n",
       "      <th></th>\n",
       "      <th></th>\n",
       "      <th></th>\n",
       "      <th></th>\n",
       "      <th></th>\n",
       "      <th></th>\n",
       "      <th></th>\n",
       "      <th></th>\n",
       "      <th></th>\n",
       "      <th></th>\n",
       "      <th></th>\n",
       "    </tr>\n",
       "  </thead>\n",
       "  <tbody>\n",
       "    <tr>\n",
       "      <th>0</th>\n",
       "      <td>0.309815</td>\n",
       "      <td>0.284549</td>\n",
       "      <td>0.287591</td>\n",
       "      <td>0.132163</td>\n",
       "      <td>0.124002</td>\n",
       "      <td>0.364866</td>\n",
       "      <td>0.286779</td>\n",
       "      <td>0.529805</td>\n",
       "      <td>0.439745</td>\n",
       "      <td>0.174383</td>\n",
       "      <td>0.210913</td>\n",
       "      <td>0.447561</td>\n",
       "      <td>1.112805</td>\n",
       "    </tr>\n",
       "    <tr>\n",
       "      <th>1</th>\n",
       "      <td>0.577512</td>\n",
       "      <td>0.202055</td>\n",
       "      <td>0.505882</td>\n",
       "      <td>0.129868</td>\n",
       "      <td>0.130381</td>\n",
       "      <td>0.136205</td>\n",
       "      <td>0.089947</td>\n",
       "      <td>0.653010</td>\n",
       "      <td>0.335958</td>\n",
       "      <td>0.224023</td>\n",
       "      <td>0.289090</td>\n",
       "      <td>0.548235</td>\n",
       "      <td>1.980392</td>\n",
       "    </tr>\n",
       "    <tr>\n",
       "      <th>2</th>\n",
       "      <td>0.358534</td>\n",
       "      <td>0.290313</td>\n",
       "      <td>0.483143</td>\n",
       "      <td>0.181213</td>\n",
       "      <td>0.493251</td>\n",
       "      <td>0.284507</td>\n",
       "      <td>0.239778</td>\n",
       "      <td>0.574890</td>\n",
       "      <td>0.250169</td>\n",
       "      <td>0.554491</td>\n",
       "      <td>0.149890</td>\n",
       "      <td>0.462857</td>\n",
       "      <td>4.314286</td>\n",
       "    </tr>\n",
       "    <tr>\n",
       "      <th>3</th>\n",
       "      <td>0.172972</td>\n",
       "      <td>0.323866</td>\n",
       "      <td>0.090963</td>\n",
       "      <td>0.093408</td>\n",
       "      <td>0.095074</td>\n",
       "      <td>0.251292</td>\n",
       "      <td>0.125928</td>\n",
       "      <td>0.320569</td>\n",
       "      <td>0.581088</td>\n",
       "      <td>0.186892</td>\n",
       "      <td>0.494872</td>\n",
       "      <td>0.613761</td>\n",
       "      <td>3.472477</td>\n",
       "    </tr>\n",
       "    <tr>\n",
       "      <th>4</th>\n",
       "      <td>0.263613</td>\n",
       "      <td>0.359803</td>\n",
       "      <td>0.118548</td>\n",
       "      <td>0.092431</td>\n",
       "      <td>0.123741</td>\n",
       "      <td>0.139439</td>\n",
       "      <td>0.101298</td>\n",
       "      <td>0.491616</td>\n",
       "      <td>0.487697</td>\n",
       "      <td>0.155037</td>\n",
       "      <td>0.223630</td>\n",
       "      <td>0.443145</td>\n",
       "      <td>2.028226</td>\n",
       "    </tr>\n",
       "    <tr>\n",
       "      <th>5</th>\n",
       "      <td>0.361241</td>\n",
       "      <td>0.159420</td>\n",
       "      <td>0.428539</td>\n",
       "      <td>0.114104</td>\n",
       "      <td>0.105500</td>\n",
       "      <td>0.174869</td>\n",
       "      <td>0.095737</td>\n",
       "      <td>0.410891</td>\n",
       "      <td>0.418827</td>\n",
       "      <td>0.235305</td>\n",
       "      <td>0.489542</td>\n",
       "      <td>0.698876</td>\n",
       "      <td>0.119850</td>\n",
       "    </tr>\n",
       "  </tbody>\n",
       "</table>\n",
       "</div>"
      ],
      "text/plain": [
       "              fixed acidity  volatile acidity  citric acid  residual sugar  \\\n",
       "Clust_K-Mean                                                                 \n",
       "0                  0.309815          0.284549     0.287591        0.132163   \n",
       "1                  0.577512          0.202055     0.505882        0.129868   \n",
       "2                  0.358534          0.290313     0.483143        0.181213   \n",
       "3                  0.172972          0.323866     0.090963        0.093408   \n",
       "4                  0.263613          0.359803     0.118548        0.092431   \n",
       "5                  0.361241          0.159420     0.428539        0.114104   \n",
       "\n",
       "              chlorides  free sulfur dioxide  total sulfur dioxide   density  \\\n",
       "Clust_K-Mean                                                                   \n",
       "0              0.124002             0.364866              0.286779  0.529805   \n",
       "1              0.130381             0.136205              0.089947  0.653010   \n",
       "2              0.493251             0.284507              0.239778  0.574890   \n",
       "3              0.095074             0.251292              0.125928  0.320569   \n",
       "4              0.123741             0.139439              0.101298  0.491616   \n",
       "5              0.105500             0.174869              0.095737  0.410891   \n",
       "\n",
       "                    pH  sulphates   alcohol   quality  Clust_Hierarchy  \n",
       "Clust_K-Mean                                                            \n",
       "0             0.439745   0.174383  0.210913  0.447561         1.112805  \n",
       "1             0.335958   0.224023  0.289090  0.548235         1.980392  \n",
       "2             0.250169   0.554491  0.149890  0.462857         4.314286  \n",
       "3             0.581088   0.186892  0.494872  0.613761         3.472477  \n",
       "4             0.487697   0.155037  0.223630  0.443145         2.028226  \n",
       "5             0.418827   0.235305  0.489542  0.698876         0.119850  "
      ]
     },
     "execution_count": 30,
     "metadata": {},
     "output_type": "execute_result"
    }
   ],
   "source": [
    "df_norm.groupby(\"Clust_K-Mean\").mean()"
   ]
  }
 ],
 "metadata": {
  "kernelspec": {
   "display_name": "Python 3",
   "language": "python",
   "name": "python3"
  },
  "language_info": {
   "codemirror_mode": {
    "name": "ipython",
    "version": 3
   },
   "file_extension": ".py",
   "mimetype": "text/x-python",
   "name": "python",
   "nbconvert_exporter": "python",
   "pygments_lexer": "ipython3",
   "version": "3.7.3"
  }
 },
 "nbformat": 4,
 "nbformat_minor": 2
}
