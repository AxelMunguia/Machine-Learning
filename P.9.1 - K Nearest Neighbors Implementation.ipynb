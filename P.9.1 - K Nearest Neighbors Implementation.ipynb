{
 "cells": [
  {
   "cell_type": "markdown",
   "metadata": {},
   "source": [
    "# <center> Creando Nuestro Propio KNN"
   ]
  },
  {
   "cell_type": "code",
   "execution_count": 1,
   "metadata": {},
   "outputs": [],
   "source": [
    "import numpy as np\n",
    "import pandas as pd\n",
    "import matplotlib.pyplot as plt\n",
    "from collections import Counter\n",
    "import warnings\n",
    "plt.style.use(\"ggplot\")"
   ]
  },
  {
   "cell_type": "code",
   "execution_count": 2,
   "metadata": {},
   "outputs": [],
   "source": [
    "dataset = {\n",
    "    \"k\":[[1,2],[2,3],[3,1]],\n",
    "    \"r\":[[6,5],[7,7],[8,6]]\n",
    "}\n",
    "new_point = [4,4]"
   ]
  },
  {
   "cell_type": "code",
   "execution_count": 3,
   "metadata": {},
   "outputs": [
    {
     "data": {
      "image/png": "[encoded data removed]",
      "text/plain": [
       "<Figure size 432x288 with 1 Axes>"
      ]
     },
     "metadata": {},
     "output_type": "display_data"
    }
   ],
   "source": [
    "[[plt.scatter(point[0],point[1]) for point in dataset[key]] for key in dataset]\n",
    "plt.scatter(new_point[0], new_point[1],color = \"cyan\")\n",
    "plt.show()"
   ]
  },
  {
   "cell_type": "code",
   "execution_count": 4,
   "metadata": {},
   "outputs": [],
   "source": [
    "def k_nearest_neighbors(data, predict, k = 3, verbose = True):\n",
    "    if len(data)>=k:\n",
    "        warnings.warn(\"K es un valor menor que el número total de elementos a votar.\")\n",
    "    distances = []\n",
    "    for group in data:\n",
    "        for feature in data[group]:\n",
    "            # d =np.sqrt((feature[0]-predict[0])**2 + (feature[1]-predict[1])**2)\n",
    "            # d = np.sqrt(np.sum((np.array(feature)-np.array(predict))**2))\n",
    "            d = np.linalg.norm(np.array(feature)-np.array(predict))\n",
    "            distances.append([d, group])\n",
    "    \n",
    "    if verbose:\n",
    "        print(\" \")\n",
    "        print(distances)\n",
    "    votes = [i[1] for i in sorted(distances)[:3]]\n",
    "    if verbose:\n",
    "        print(\" \")\n",
    "        print(votes)\n",
    "    vote_result = Counter(votes)\n",
    "    if verbose:\n",
    "        print(\" \")\n",
    "        print(vote_result)\n",
    "    return vote_result.most_common()[0][0]\n",
    "        "
   ]
  },
  {
   "cell_type": "code",
   "execution_count": 5,
   "metadata": {},
   "outputs": [
    {
     "name": "stdout",
     "output_type": "stream",
     "text": [
      " \n",
      "[[3.605551275463989, 'k'], [2.23606797749979, 'k'], [3.1622776601683795, 'k'], [2.23606797749979, 'r'], [4.242640687119285, 'r'], [4.47213595499958, 'r']]\n",
      " \n",
      "['k', 'r', 'k']\n",
      " \n",
      "Counter({'k': 2, 'r': 1})\n"
     ]
    },
    {
     "data": {
      "text/plain": [
       "'k'"
      ]
     },
     "execution_count": 5,
     "metadata": {},
     "output_type": "execute_result"
    }
   ],
   "source": [
    "result = k_nearest_neighbors(dataset, new_point)\n",
    "result"
   ]
  },
  {
   "cell_type": "code",
   "execution_count": 6,
   "metadata": {},
   "outputs": [
    {
     "data": {
      "image/png": "[encoded data removed]",
      "text/plain": [
       "<Figure size 432x288 with 1 Axes>"
      ]
     },
     "metadata": {},
     "output_type": "display_data"
    }
   ],
   "source": [
    "[[plt.scatter(i[0],i[1], color = point) for i in dataset[point]] for point in dataset]\n",
    "plt.scatter(new_point[0], new_point[1], s = 100,color = result)\n",
    "plt.title(\"KNN\", color = \"red\")\n",
    "plt.show()"
   ]
  },
  {
   "cell_type": "markdown",
   "metadata": {},
   "source": [
    "## <center> Aplicando nuestro KNN al Dataset del Cáncer"
   ]
  },
  {
   "cell_type": "code",
   "execution_count": 7,
   "metadata": {},
   "outputs": [
    {
     "data": {
      "text/html": [
       "<div>\n",
       "<style scoped>\n",
       "    .dataframe tbody tr th:only-of-type {\n",
       "        vertical-align: middle;\n",
       "    }\n",
       "\n",
       "    .dataframe tbody tr th {\n",
       "        vertical-align: top;\n",
       "    }\n",
       "\n",
       "    .dataframe thead th {\n",
       "        text-align: right;\n",
       "    }\n",
       "</style>\n",
       "<table border=\"1\" class=\"dataframe\">\n",
       "  <thead>\n",
       "    <tr style=\"text-align: right;\">\n",
       "      <th></th>\n",
       "      <th>name</th>\n",
       "      <th>v1</th>\n",
       "      <th>v2</th>\n",
       "      <th>v3</th>\n",
       "      <th>v4</th>\n",
       "      <th>v5</th>\n",
       "      <th>v6</th>\n",
       "      <th>v7</th>\n",
       "      <th>v8</th>\n",
       "      <th>v9</th>\n",
       "      <th>class</th>\n",
       "    </tr>\n",
       "  </thead>\n",
       "  <tbody>\n",
       "    <tr>\n",
       "      <th>0</th>\n",
       "      <td>1000025</td>\n",
       "      <td>5</td>\n",
       "      <td>1</td>\n",
       "      <td>1</td>\n",
       "      <td>1</td>\n",
       "      <td>2</td>\n",
       "      <td>1</td>\n",
       "      <td>3</td>\n",
       "      <td>1</td>\n",
       "      <td>1</td>\n",
       "      <td>2</td>\n",
       "    </tr>\n",
       "    <tr>\n",
       "      <th>1</th>\n",
       "      <td>1002945</td>\n",
       "      <td>5</td>\n",
       "      <td>4</td>\n",
       "      <td>4</td>\n",
       "      <td>5</td>\n",
       "      <td>7</td>\n",
       "      <td>10</td>\n",
       "      <td>3</td>\n",
       "      <td>2</td>\n",
       "      <td>1</td>\n",
       "      <td>2</td>\n",
       "    </tr>\n",
       "    <tr>\n",
       "      <th>2</th>\n",
       "      <td>1015425</td>\n",
       "      <td>3</td>\n",
       "      <td>1</td>\n",
       "      <td>1</td>\n",
       "      <td>1</td>\n",
       "      <td>2</td>\n",
       "      <td>2</td>\n",
       "      <td>3</td>\n",
       "      <td>1</td>\n",
       "      <td>1</td>\n",
       "      <td>2</td>\n",
       "    </tr>\n",
       "    <tr>\n",
       "      <th>3</th>\n",
       "      <td>1016277</td>\n",
       "      <td>6</td>\n",
       "      <td>8</td>\n",
       "      <td>8</td>\n",
       "      <td>1</td>\n",
       "      <td>3</td>\n",
       "      <td>4</td>\n",
       "      <td>3</td>\n",
       "      <td>7</td>\n",
       "      <td>1</td>\n",
       "      <td>2</td>\n",
       "    </tr>\n",
       "    <tr>\n",
       "      <th>4</th>\n",
       "      <td>1017023</td>\n",
       "      <td>4</td>\n",
       "      <td>1</td>\n",
       "      <td>1</td>\n",
       "      <td>3</td>\n",
       "      <td>2</td>\n",
       "      <td>1</td>\n",
       "      <td>3</td>\n",
       "      <td>1</td>\n",
       "      <td>1</td>\n",
       "      <td>2</td>\n",
       "    </tr>\n",
       "  </tbody>\n",
       "</table>\n",
       "</div>"
      ],
      "text/plain": [
       "      name  v1  v2  v3  v4  v5  v6  v7  v8  v9  class\n",
       "0  1000025   5   1   1   1   2   1   3   1   1      2\n",
       "1  1002945   5   4   4   5   7  10   3   2   1      2\n",
       "2  1015425   3   1   1   1   2   2   3   1   1      2\n",
       "3  1016277   6   8   8   1   3   4   3   7   1      2\n",
       "4  1017023   4   1   1   3   2   1   3   1   1      2"
      ]
     },
     "execution_count": 7,
     "metadata": {},
     "output_type": "execute_result"
    }
   ],
   "source": [
    "data = pd.read_csv(\"../datasets/cancer/breast-cancer-wisconsin.data.txt\")\n",
    "data.head()"
   ]
  },
  {
   "cell_type": "code",
   "execution_count": 8,
   "metadata": {},
   "outputs": [],
   "source": [
    "data.loc[:,:] = np.array(data.replace(\"?\",-99999), dtype = np.float32)"
   ]
  },
  {
   "cell_type": "code",
   "execution_count": 9,
   "metadata": {},
   "outputs": [],
   "source": [
    "data.drop(\"name\", axis = 1, inplace = True)"
   ]
  },
  {
   "cell_type": "code",
   "execution_count": 10,
   "metadata": {},
   "outputs": [],
   "source": [
    "full_data = data.values"
   ]
  },
  {
   "cell_type": "code",
   "execution_count": 11,
   "metadata": {},
   "outputs": [
    {
     "data": {
      "text/plain": [
       "array([[ 5.,  1.,  1., ...,  1.,  1.,  2.],\n",
       "       [ 5.,  4.,  4., ...,  2.,  1.,  2.],\n",
       "       [ 3.,  1.,  1., ...,  1.,  1.,  2.],\n",
       "       ...,\n",
       "       [ 5., 10., 10., ..., 10.,  2.,  4.],\n",
       "       [ 4.,  8.,  6., ...,  6.,  1.,  4.],\n",
       "       [ 4.,  8.,  8., ...,  4.,  1.,  4.]])"
      ]
     },
     "execution_count": 11,
     "metadata": {},
     "output_type": "execute_result"
    }
   ],
   "source": [
    "full_data"
   ]
  },
  {
   "cell_type": "code",
   "execution_count": 12,
   "metadata": {},
   "outputs": [],
   "source": [
    "np.random.shuffle(full_data)"
   ]
  },
  {
   "cell_type": "code",
   "execution_count": 13,
   "metadata": {},
   "outputs": [],
   "source": [
    "test_size = 0.2"
   ]
  },
  {
   "cell_type": "code",
   "execution_count": 14,
   "metadata": {},
   "outputs": [],
   "source": [
    "train_set = {2:[], 4:[]} # Clasificación del dataset [2,4]\n",
    "test_set = {2:[], 4:[]}\n",
    "train_data = full_data[:int(test_size*len(full_data))]\n",
    "test_data = full_data[int(test_size*len(full_data)):]"
   ]
  },
  {
   "cell_type": "code",
   "execution_count": 15,
   "metadata": {},
   "outputs": [],
   "source": [
    "for i in train_data:\n",
    "    train_set[i[-1]].append(i[:-1].tolist())\n",
    "for i in test_data:\n",
    "    test_set[i[-1]].append(i[:-1])"
   ]
  },
  {
   "cell_type": "code",
   "execution_count": 16,
   "metadata": {},
   "outputs": [
    {
     "data": {
      "text/plain": [
       "{2: [[6.0, 6.0, 6.0, 9.0, 6.0, -99999.0, 7.0, 8.0, 1.0],\n",
       "  [8.0, 2.0, 1.0, 1.0, 5.0, 1.0, 1.0, 1.0, 1.0],\n",
       "  [3.0, 4.0, 5.0, 3.0, 7.0, 3.0, 4.0, 6.0, 1.0],\n",
       "  [3.0, 1.0, 1.0, 1.0, 2.0, 1.0, 2.0, 1.0, 1.0],\n",
       "  [1.0, 1.0, 1.0, 1.0, 2.0, 1.0, 3.0, 1.0, 1.0],\n",
       "  [3.0, 1.0, 1.0, 1.0, 2.0, 1.0, 2.0, 1.0, 1.0],\n",
       "  [4.0, 1.0, 1.0, 1.0, 2.0, 1.0, 2.0, 1.0, 1.0],\n",
       "  [5.0, 1.0, 1.0, 2.0, 2.0, 1.0, 2.0, 1.0, 1.0],\n",
       "  [6.0, 2.0, 3.0, 1.0, 2.0, 1.0, 1.0, 1.0, 1.0],\n",
       "  [7.0, 1.0, 2.0, 3.0, 2.0, 1.0, 2.0, 1.0, 1.0],\n",
       "  [4.0, 1.0, 1.0, 3.0, 2.0, 1.0, 3.0, 1.0, 1.0],\n",
       "  [1.0, 1.0, 1.0, 1.0, 2.0, 5.0, 1.0, 1.0, 1.0],\n",
       "  [2.0, 1.0, 1.0, 1.0, 2.0, 1.0, 2.0, 2.0, 1.0],\n",
       "  [1.0, 1.0, 1.0, 1.0, 2.0, 1.0, 2.0, 1.0, 1.0],\n",
       "  [6.0, 8.0, 8.0, 1.0, 3.0, 4.0, 3.0, 7.0, 1.0],\n",
       "  [5.0, 1.0, 2.0, 10.0, 4.0, 5.0, 2.0, 1.0, 1.0],\n",
       "  [2.0, 1.0, 1.0, 1.0, 2.0, 1.0, 2.0, 1.0, 1.0],\n",
       "  [6.0, 1.0, 1.0, 1.0, 2.0, 1.0, 3.0, 1.0, 1.0],\n",
       "  [3.0, 1.0, 1.0, 3.0, 2.0, 1.0, 1.0, 1.0, 1.0],\n",
       "  [1.0, 1.0, 1.0, 1.0, 1.0, 1.0, 1.0, 1.0, 1.0],\n",
       "  [3.0, 1.0, 1.0, 1.0, 2.0, 1.0, 2.0, 1.0, 1.0],\n",
       "  [4.0, 1.0, 1.0, 3.0, 1.0, 1.0, 2.0, 1.0, 1.0],\n",
       "  [4.0, 1.0, 1.0, 1.0, 2.0, 1.0, 2.0, 1.0, 1.0],\n",
       "  [5.0, 4.0, 4.0, 5.0, 7.0, 10.0, 3.0, 2.0, 1.0],\n",
       "  [1.0, 1.0, 1.0, 1.0, 1.0, 1.0, 3.0, 1.0, 1.0],\n",
       "  [3.0, 1.0, 1.0, 3.0, 1.0, 1.0, 3.0, 1.0, 1.0],\n",
       "  [3.0, 1.0, 1.0, 1.0, 1.0, 1.0, 2.0, 1.0, 1.0],\n",
       "  [4.0, 2.0, 2.0, 1.0, 2.0, 1.0, 2.0, 1.0, 1.0],\n",
       "  [1.0, 1.0, 1.0, 1.0, 1.0, -99999.0, 2.0, 1.0, 1.0],\n",
       "  [1.0, 1.0, 1.0, 1.0, 2.0, 1.0, 2.0, 1.0, 1.0],\n",
       "  [1.0, 1.0, 1.0, 1.0, 2.0, 1.0, 1.0, 1.0, 1.0],\n",
       "  [3.0, 1.0, 1.0, 1.0, 2.0, 1.0, 2.0, 1.0, 1.0],\n",
       "  [4.0, 1.0, 2.0, 1.0, 2.0, 1.0, 2.0, 1.0, 1.0],\n",
       "  [4.0, 1.0, 1.0, 1.0, 2.0, 1.0, 2.0, 1.0, 1.0],\n",
       "  [1.0, 1.0, 1.0, 1.0, 2.0, 1.0, 2.0, 1.0, 1.0],\n",
       "  [2.0, 1.0, 1.0, 1.0, 2.0, 1.0, 3.0, 1.0, 1.0],\n",
       "  [1.0, 1.0, 1.0, 1.0, 2.0, 1.0, 2.0, 1.0, 1.0],\n",
       "  [4.0, 1.0, 1.0, 1.0, 2.0, 3.0, 1.0, 1.0, 1.0],\n",
       "  [5.0, 3.0, 1.0, 2.0, 2.0, 1.0, 2.0, 1.0, 1.0],\n",
       "  [3.0, 3.0, 2.0, 2.0, 3.0, 1.0, 1.0, 2.0, 3.0],\n",
       "  [4.0, 1.0, 1.0, 1.0, 2.0, 1.0, 2.0, 1.0, 1.0],\n",
       "  [1.0, 1.0, 1.0, 1.0, 1.0, 1.0, 2.0, 1.0, 1.0],\n",
       "  [2.0, 3.0, 1.0, 1.0, 3.0, 1.0, 1.0, 1.0, 1.0],\n",
       "  [2.0, 1.0, 1.0, 1.0, 3.0, 1.0, 2.0, 1.0, 1.0],\n",
       "  [3.0, 1.0, 1.0, 1.0, 2.0, 1.0, 2.0, 3.0, 1.0],\n",
       "  [3.0, 1.0, 1.0, 1.0, 2.0, 1.0, 1.0, 1.0, 1.0],\n",
       "  [1.0, 1.0, 1.0, 3.0, 2.0, 1.0, 1.0, 1.0, 1.0],\n",
       "  [1.0, 1.0, 1.0, 1.0, 1.0, 1.0, 3.0, 1.0, 1.0],\n",
       "  [1.0, 1.0, 1.0, 1.0, 2.0, 1.0, 1.0, 1.0, 1.0],\n",
       "  [3.0, 1.0, 1.0, 3.0, 8.0, 1.0, 5.0, 8.0, 1.0],\n",
       "  [3.0, 2.0, 1.0, 1.0, 2.0, 2.0, 3.0, 1.0, 1.0],\n",
       "  [2.0, 1.0, 1.0, 1.0, 3.0, 1.0, 2.0, 1.0, 1.0],\n",
       "  [4.0, 1.0, 2.0, 1.0, 2.0, 1.0, 3.0, 1.0, 1.0],\n",
       "  [1.0, 1.0, 1.0, 3.0, 2.0, 1.0, 1.0, 1.0, 1.0],\n",
       "  [1.0, 1.0, 1.0, 1.0, 2.0, 1.0, 1.0, 1.0, 1.0],\n",
       "  [3.0, 1.0, 1.0, 1.0, 3.0, 1.0, 2.0, 1.0, 1.0],\n",
       "  [4.0, 1.0, 1.0, 3.0, 2.0, 1.0, 3.0, 1.0, 1.0],\n",
       "  [1.0, 1.0, 1.0, 1.0, 2.0, 1.0, 2.0, 1.0, 1.0],\n",
       "  [5.0, 1.0, 4.0, 1.0, 2.0, 1.0, 3.0, 2.0, 1.0],\n",
       "  [1.0, 1.0, 1.0, 1.0, 2.0, 1.0, 3.0, 1.0, 1.0],\n",
       "  [3.0, 3.0, 2.0, 1.0, 3.0, 1.0, 3.0, 6.0, 1.0],\n",
       "  [6.0, 1.0, 1.0, 1.0, 1.0, 1.0, 1.0, 1.0, 1.0],\n",
       "  [1.0, 1.0, 1.0, 1.0, 2.0, 1.0, 1.0, 1.0, 8.0],\n",
       "  [1.0, 1.0, 2.0, 1.0, 2.0, 1.0, 2.0, 1.0, 1.0],\n",
       "  [1.0, 1.0, 1.0, 1.0, 2.0, 1.0, 1.0, 1.0, 1.0],\n",
       "  [2.0, 1.0, 2.0, 1.0, 2.0, 1.0, 3.0, 1.0, 1.0],\n",
       "  [4.0, 1.0, 1.0, 1.0, 2.0, 2.0, 3.0, 2.0, 1.0],\n",
       "  [2.0, 1.0, 1.0, 1.0, 2.0, 1.0, 2.0, 1.0, 1.0],\n",
       "  [1.0, 1.0, 1.0, 1.0, 2.0, 1.0, 2.0, 1.0, 1.0],\n",
       "  [5.0, 1.0, 3.0, 1.0, 2.0, 1.0, 3.0, 1.0, 1.0],\n",
       "  [5.0, 7.0, 7.0, 1.0, 5.0, 8.0, 3.0, 4.0, 1.0],\n",
       "  [5.0, 1.0, 1.0, 1.0, 2.0, 1.0, 1.0, 1.0, 1.0],\n",
       "  [1.0, 1.0, 1.0, 1.0, 3.0, 1.0, 1.0, 1.0, 1.0],\n",
       "  [5.0, 4.0, 5.0, 1.0, 8.0, 1.0, 3.0, 6.0, 1.0],\n",
       "  [3.0, 1.0, 2.0, 1.0, 2.0, 1.0, 2.0, 1.0, 1.0],\n",
       "  [4.0, 1.0, 1.0, 1.0, 2.0, 1.0, 2.0, 1.0, 1.0],\n",
       "  [5.0, 3.0, 3.0, 2.0, 3.0, 1.0, 3.0, 1.0, 1.0],\n",
       "  [3.0, 1.0, 1.0, 1.0, 2.0, 1.0, 2.0, 1.0, 1.0],\n",
       "  [5.0, 1.0, 1.0, 1.0, 2.0, 1.0, 2.0, 1.0, 1.0],\n",
       "  [5.0, 2.0, 1.0, 1.0, 2.0, 1.0, 1.0, 1.0, 1.0],\n",
       "  [5.0, 1.0, 3.0, 1.0, 2.0, 1.0, 2.0, 1.0, 1.0],\n",
       "  [3.0, 2.0, 1.0, 2.0, 2.0, 1.0, 3.0, 1.0, 1.0],\n",
       "  [5.0, 1.0, 1.0, 3.0, 2.0, 1.0, 1.0, 1.0, 1.0],\n",
       "  [4.0, 1.0, 1.0, 1.0, 2.0, 1.0, 3.0, 2.0, 1.0],\n",
       "  [5.0, 2.0, 2.0, 2.0, 1.0, 1.0, 2.0, 1.0, 1.0]],\n",
       " 4: [[5.0, 4.0, 6.0, 8.0, 4.0, 1.0, 8.0, 10.0, 1.0],\n",
       "  [9.0, 8.0, 8.0, 5.0, 6.0, 2.0, 4.0, 10.0, 4.0],\n",
       "  [2.0, 7.0, 10.0, 10.0, 7.0, 10.0, 4.0, 9.0, 4.0],\n",
       "  [5.0, 3.0, 2.0, 8.0, 5.0, 10.0, 8.0, 1.0, 2.0],\n",
       "  [4.0, 8.0, 6.0, 3.0, 4.0, 10.0, 7.0, 1.0, 1.0],\n",
       "  [10.0, 9.0, 7.0, 3.0, 4.0, 2.0, 7.0, 7.0, 1.0],\n",
       "  [8.0, 7.0, 5.0, 10.0, 7.0, 9.0, 5.0, 5.0, 4.0],\n",
       "  [10.0, 5.0, 8.0, 10.0, 3.0, 10.0, 5.0, 1.0, 3.0],\n",
       "  [10.0, 10.0, 10.0, 3.0, 10.0, 8.0, 8.0, 1.0, 1.0],\n",
       "  [8.0, 5.0, 5.0, 5.0, 2.0, 10.0, 4.0, 3.0, 1.0],\n",
       "  [5.0, 7.0, 10.0, 6.0, 5.0, 10.0, 7.0, 5.0, 1.0],\n",
       "  [3.0, 4.0, 4.0, 10.0, 5.0, 1.0, 3.0, 3.0, 1.0],\n",
       "  [10.0, 6.0, 6.0, 2.0, 4.0, 10.0, 9.0, 7.0, 1.0],\n",
       "  [8.0, 10.0, 5.0, 3.0, 8.0, 4.0, 4.0, 10.0, 3.0],\n",
       "  [10.0, 10.0, 10.0, 3.0, 10.0, 10.0, 9.0, 10.0, 1.0],\n",
       "  [8.0, 10.0, 3.0, 2.0, 6.0, 4.0, 3.0, 10.0, 1.0],\n",
       "  [10.0, 10.0, 10.0, 8.0, 6.0, 1.0, 8.0, 9.0, 1.0],\n",
       "  [8.0, 4.0, 4.0, 1.0, 2.0, 9.0, 3.0, 3.0, 1.0],\n",
       "  [10.0, 10.0, 10.0, 7.0, 9.0, 10.0, 7.0, 10.0, 10.0],\n",
       "  [10.0, 5.0, 6.0, 10.0, 6.0, 10.0, 7.0, 7.0, 10.0],\n",
       "  [6.0, 10.0, 10.0, 10.0, 4.0, 10.0, 7.0, 10.0, 1.0],\n",
       "  [10.0, 4.0, 3.0, 1.0, 3.0, 3.0, 6.0, 5.0, 2.0],\n",
       "  [8.0, 10.0, 8.0, 8.0, 4.0, 8.0, 7.0, 7.0, 1.0],\n",
       "  [5.0, 3.0, 5.0, 1.0, 8.0, 10.0, 5.0, 3.0, 1.0],\n",
       "  [8.0, 4.0, 4.0, 1.0, 6.0, 10.0, 2.0, 5.0, 2.0],\n",
       "  [9.0, 6.0, 9.0, 2.0, 10.0, 6.0, 2.0, 9.0, 10.0],\n",
       "  [9.0, 10.0, 10.0, 10.0, 10.0, 10.0, 10.0, 10.0, 1.0],\n",
       "  [10.0, 4.0, 5.0, 5.0, 5.0, 10.0, 4.0, 1.0, 1.0],\n",
       "  [8.0, 10.0, 10.0, 10.0, 6.0, 10.0, 10.0, 10.0, 1.0],\n",
       "  [7.0, 4.0, 4.0, 3.0, 4.0, 10.0, 6.0, 9.0, 1.0],\n",
       "  [10.0, 10.0, 10.0, 6.0, 8.0, 4.0, 8.0, 5.0, 1.0],\n",
       "  [4.0, 8.0, 7.0, 10.0, 4.0, 10.0, 7.0, 5.0, 1.0],\n",
       "  [8.0, 7.0, 8.0, 5.0, 10.0, 10.0, 7.0, 2.0, 1.0],\n",
       "  [10.0, 10.0, 10.0, 8.0, 6.0, 8.0, 7.0, 10.0, 1.0],\n",
       "  [4.0, 2.0, 3.0, 5.0, 3.0, 8.0, 7.0, 6.0, 1.0],\n",
       "  [8.0, 3.0, 5.0, 4.0, 5.0, 10.0, 1.0, 6.0, 2.0],\n",
       "  [10.0, 5.0, 7.0, 3.0, 3.0, 7.0, 3.0, 3.0, 8.0],\n",
       "  [3.0, 4.0, 5.0, 2.0, 6.0, 8.0, 4.0, 1.0, 1.0],\n",
       "  [8.0, 8.0, 8.0, 1.0, 2.0, -99999.0, 6.0, 10.0, 1.0],\n",
       "  [10.0, 3.0, 5.0, 4.0, 3.0, 7.0, 3.0, 5.0, 3.0],\n",
       "  [10.0, 10.0, 7.0, 8.0, 7.0, 1.0, 10.0, 10.0, 3.0],\n",
       "  [5.0, 10.0, 10.0, 8.0, 5.0, 5.0, 7.0, 10.0, 1.0],\n",
       "  [4.0, 5.0, 5.0, 10.0, 4.0, 10.0, 7.0, 5.0, 8.0],\n",
       "  [5.0, 10.0, 10.0, 9.0, 6.0, 10.0, 7.0, 10.0, 5.0],\n",
       "  [8.0, 4.0, 10.0, 5.0, 4.0, 4.0, 7.0, 10.0, 1.0],\n",
       "  [10.0, 4.0, 3.0, 10.0, 4.0, 10.0, 10.0, 1.0, 1.0],\n",
       "  [10.0, 8.0, 10.0, 10.0, 6.0, 1.0, 3.0, 1.0, 10.0],\n",
       "  [5.0, 10.0, 10.0, 3.0, 8.0, 1.0, 5.0, 10.0, 3.0],\n",
       "  [8.0, 10.0, 10.0, 8.0, 5.0, 10.0, 7.0, 8.0, 1.0],\n",
       "  [10.0, 4.0, 5.0, 4.0, 3.0, 5.0, 7.0, 3.0, 1.0],\n",
       "  [5.0, 10.0, 10.0, 6.0, 10.0, 10.0, 10.0, 6.0, 5.0],\n",
       "  [8.0, 6.0, 5.0, 4.0, 3.0, 10.0, 6.0, 1.0, 1.0],\n",
       "  [5.0, 3.0, 5.0, 5.0, 3.0, 3.0, 4.0, 10.0, 1.0],\n",
       "  [3.0, 3.0, 5.0, 2.0, 3.0, 10.0, 7.0, 1.0, 1.0]]}"
      ]
     },
     "execution_count": 16,
     "metadata": {},
     "output_type": "execute_result"
    }
   ],
   "source": [
    "train_set"
   ]
  },
  {
   "cell_type": "code",
   "execution_count": 17,
   "metadata": {},
   "outputs": [
    {
     "name": "stdout",
     "output_type": "stream",
     "text": [
      "Eficiencia del KNN : 0.9571428571428572\n"
     ]
    }
   ],
   "source": [
    "correct = 0\n",
    "total = 0\n",
    "for group in test_set:\n",
    "    for data in test_set[group]:\n",
    "        vote = k_nearest_neighbors(train_set, data, k = 5, verbose = False)\n",
    "        if group == vote:\n",
    "            correct +=1\n",
    "        total += 1\n",
    "print(f\"Eficiencia del KNN : {correct/total}\")"
   ]
  }
 ],
 "metadata": {
  "kernelspec": {
   "display_name": "Python 3",
   "language": "python",
   "name": "python3"
  },
  "language_info": {
   "codemirror_mode": {
    "name": "ipython",
    "version": 3
   },
   "file_extension": ".py",
   "mimetype": "text/x-python",
   "name": "python",
   "nbconvert_exporter": "python",
   "pygments_lexer": "ipython3",
   "version": "3.7.4"
  }
 },
 "nbformat": 4,
 "nbformat_minor": 2
}
