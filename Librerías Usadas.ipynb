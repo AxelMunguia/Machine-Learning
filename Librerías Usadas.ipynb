{
 "cells": [
  {
   "cell_type": "markdown",
   "metadata": {},
   "source": [
    "### P.1 - Carga_datos $\\rightarrow$ Volver a correr"
   ]
  },
  {
   "cell_type": "markdown",
   "metadata": {},
   "source": [
    "Librerías utilizadas:\n",
    "- Pandas $\\rightarrow$ Trabajar con DataFrames.\n",
    "- Numpy $\\rightarrow$ Librería Numérica.\n",
    "- Os $\\rightarrow$ Sistema Operativo.\n",
    "- urllib3 $\\rightarrow$ Descarga la información de la url proporcionado.\n",
    "\n",
    "Funciones y métodos utilizados (más descatados):\n",
    "- os.path.join $\\rightarrow$ Une dos rutas.\n",
    "- pd.read_ $\\rightarrow$ Lee un documento en el formato especificado.\n",
    "- Open $\\rightarrow$ Lee ficheros .txt y te permite escribir nuevos. Métodos más usados .read(),.readlines(),.readline()\n",
    "\n",
    "Estructuras para recordar:\n",
    "\n",
    "$\\text{import urrlib3 as ub}$\n",
    "\n",
    "$\\text{http = ub.PoolManager()}$\n",
    "\n",
    "$\\text{r = http.request(\"GET\", url_deseada)}$"
   ]
  },
  {
   "cell_type": "markdown",
   "metadata": {},
   "source": [
    "### P.1.1 - Data Cleaning"
   ]
  },
  {
   "cell_type": "markdown",
   "metadata": {},
   "source": [
    "Librerías utilizadas:\n",
    "- Pandas $\\rightarrow$ Trabajar con DataFrames.\n",
    "- Numpy $\\rightarrow$ Librería Numérica.\n",
    "- Os $\\rightarrow$ Sistema Operativo.\n",
    "\n",
    "Funciones y métodos utilizados (más descatados):\n",
    "\n",
    "- pd.get_dummies(variable, prefix = \"nombre_deseado\") $\\rightarrow$ Crea dummies dada una columna con n valores.\n",
    "- pd.fillna(variable, value = ['backfill', 'bfill', 'pad', 'ffill']) $\\rightarrow$ Llena los nan's faltantes según el metodo especificado.\n",
    "- pd.dropna(data.nombre_columna, axis = [0,1], how = [\"all\",\"any\"]) $\\rightarrow$ Borra columna o renglón según el índice especificado.\n",
    "- np.ravel(vector) $\\rightarrow$ Aplana un vector de dimensión nxm."
   ]
  },
  {
   "cell_type": "markdown",
   "metadata": {},
   "source": [
    "### P.1.2 - Data Cleaning and Plots"
   ]
  },
  {
   "cell_type": "markdown",
   "metadata": {},
   "source": [
    "Librerías utilizadas:\n",
    "- Pandas $\\rightarrow$ Trabajar con DataFrames.\n",
    "- Numpy $\\rightarrow$ Librería Numérica.\n",
    "- Matplotlib.pyplot $\\rightarrow$ Representacón Gráfica.\n",
    "\n",
    "Funciones y métodos utilizados (más descatados):\n",
    "\n",
    "- plt.scatter(data)  $\\rightarrow$ Gráfico de puntos.\n",
    "- plt.savefig(path_to_save)  $\\rightarrow$  Guardar algún gráfico.\n",
    "- plt.hist(data)  $\\rightarrow$  Histograma de Frecuencia.\n",
    "- plt.boxplot(data)  $\\rightarrow$  Caja de bigotes.\n",
    "- pd.DataFrame(data).quantile(q)  $\\rightarrow$ Quantil.\n",
    "\n",
    "Estructuras para recordar:\n",
    "\n",
    "$\\text{figure, axs = plt.subplot(2,2,sharex = False, sharey = False)}$\n",
    "\n",
    "$\\text{data.plot(kind = \"scatter\", x = \"Night_cals\", y = \"Night Mins\", ax = axs[0][0])}$\n",
    "\n",
    "$\\text{axs[0,0].set_title(\"Title\")}$\n",
    "\n",
    "_____________________________________________________________________\n",
    "\n",
    "$\\text{figure, (axe1,axe2) = plt.subplots(1,2,sharex = False, sharey = False)}$\n",
    "\n",
    "$\\text{axe1.scatter((data=data, x='Night Mins', y='Night Charge')}$\n",
    "\n",
    "$\\text{axes1.set_title(\"Title\")}$\n",
    "\n",
    "$\\text{axe2.scatter((data=data, x='Night Mins', y='Night Charge')}$\n",
    "\n",
    "$\\text{axes2.set_title(\"Title\")}$"
   ]
  },
  {
   "cell_type": "markdown",
   "metadata": {},
   "source": [
    "### P.2 - Data Wrangling - Cirugía de Datos"
   ]
  },
  {
   "cell_type": "markdown",
   "metadata": {},
   "source": [
    "Librerías utilizadas:\n",
    "- Pandas $\\rightarrow$ Trabajar con DataFrames.\n",
    "- Numpy $\\rightarrow$ Librería Numérica.\n",
    "- Matplotlib.pyplot $\\rightarrow$ Representacón Gráfica.\n",
    "- import warnings $\\rightarrow$ Ayuda a filtrar las advertencias del sistema.\n",
    "- import random $\\rightarrow$ Generador de variables aleatorias.\n",
    "- from collections import Counter $\\rightarrow$  Cuenta las repeticiones de cierto objeto en una colleción de datos.\n",
    "\n",
    "Funciones y métodos utilizados (más descatados):\n",
    "\n",
    "- set({1,2,3}-{1,2,4}) -> Elimina los datos que comparten y se quedan con los diferentes del primer conjunto.\n",
    "- pd.DataFrame(data).iloc[:10,[1,3,6]] $\\rightarrow$ Columnas y filas específicas a partir del índice numérico. \n",
    "- pd.DataFrame(data).loc[[\"A\",\"B\"],[\"Account Length\", \"Area Code\", \"VMail Plan\"]] $\\rightarrow$ Columnas y filas específicas a partir del nombre del índice. \n",
    "- random.randrange(a,b,n) $\\rightarrow$ Números aleatorios con multiplos de n.\n",
    "- np.random.shuffle(data) $\\rightarrow$ Cambia el acomodo de los datos."
   ]
  },
  {
   "cell_type": "markdown",
   "metadata": {},
   "source": [
    "### P.2.1 - Funciones de distribución de probabilidad"
   ]
  },
  {
   "cell_type": "markdown",
   "metadata": {},
   "source": [
    "Librerías utilizadas:\n",
    "- Pandas $\\rightarrow$ Trabajar con DataFrames.\n",
    "- Numpy $\\rightarrow$ Librería Numérica.\n",
    "- Matplotlib.pyplot $\\rightarrow$ Representacón Gráfica.\n",
    "- Seaborn $\\rightarrow$ Libraría para mejorar gráficos de matplotlib y realizar ajustes estadísticos. \n",
    "\n",
    "Funciones y métodos utilizados (más descatados):\n",
    "\n",
    "- seaborn.kdeplot(data) $\\rightarrow$ Ajusta una función de distribución a los datos. \n",
    "\n",
    "Estructuras para recordar:\n",
    "\n",
    "**La simulación de Monte Carlo**\n",
    "* Generamos dos números aleatorios uniforme x e y entre 0 y 1 en total 1000 veces.\n",
    "* Calcularemos x^2 + y^2\n",
    "    * Si el valor es inferior a 1 -> estamos dentro del círculo.\n",
    "    * Si el valor es superior a 1 -> estamos fuera del círculo.\n",
    "* Calculamos el número total de veces que están dentro del círculo y lo dividimos entre el número total de intentos para obtener una aproximación de la probabilidad de caer dentro del círculo.\n",
    "* Usamos dicha probabilidad para aproximar el valor de π.\n",
    "* Repetimos el experimento un número suficiente de veces (por ejemplo 100), para obtener (100) diferentes aproximaciones de π. \n",
    "* Calculamos el promedio de los 100 experimentos anteriores para dar un valor final de π.\n",
    "\n",
    "**<center> Asumiendo que el lado del cuadrado mide $2\\cdot r$**<br>\n",
    "$$ P(\\text{caer en el círculo}) = \\frac{\\text{caer dentro del círculo}}{\\text{caer dentro del cuadrado}} = \\frac{\\text{área del círculo}}{\\text{área del cuadrado}} = \\frac{\\pi \\cdot r^2}{2\\cdot r\\cdot 2 \\cdot r} = \\frac{\\pi}{4}$$\n",
    "\n",
    "**<center> Por lo que si al final se multipla por 4 se obtendrá el área de pi.**\n",
    "    \n",
    "$\\text{def pi_montecarlo(n_val, n_exp):}$<br>\n",
    "$\\ \\ \\ \\ \\ \\ \\text{pi_avg = 0}$<br>\n",
    "$\\ \\ \\ \\ \\ \\ \\text{pi_value_list=[]}$<br>\n",
    "$\\ \\ \\ \\ \\ \\ \\text{for i in range(n_exp):}$<br>\n",
    "$\\ \\ \\ \\ \\ \\ \\ \\ \\ \\ \\ \\ \\text{value = 0}$<br>\n",
    "$\\ \\ \\ \\ \\ \\ \\ \\ \\ \\ \\ \\ \\text{x = np.random.uniform(0,1,n_val)}$<br>\n",
    "$\\ \\ \\ \\ \\ \\ \\ \\ \\ \\ \\ \\ \\text{y = np.random.uniform(0,1,n_val)}$<br>\n",
    "$\\ \\ \\ \\ \\ \\ \\ \\ \\ \\ \\ \\ \\text{for j in range(n_val):}$<br>\n",
    "$\\ \\ \\ \\ \\ \\ \\ \\ \\ \\ \\ \\ \\ \\ \\ \\ \\ \\text{z = np.sqrt(x[j]**2+y[j]**2)}$<br>\n",
    "$\\ \\ \\ \\ \\ \\ \\ \\ \\ \\ \\ \\ \\ \\ \\ \\ \\ \\text{if z<=1:}$<br>\n",
    "$\\ \\ \\ \\ \\ \\ \\ \\ \\ \\ \\ \\ \\ \\ \\ \\ \\ \\ \\ \\ \\ \\text{value+=1}$          \n",
    "$\\ \\ \\ \\ \\ \\ \\ \\ \\ \\ \\ \\ \\text{float_value = float(value)}$<br>\n",
    "$\\ \\ \\ \\ \\ \\ \\ \\ \\ \\ \\ \\ \\text{pi_value=float_value*4/n_val}$<br>\n",
    "$\\ \\ \\ \\ \\ \\ \\ \\ \\ \\ \\ \\ \\text{pi_value_list.append(pi_value)}$<br>\n",
    "$\\ \\ \\ \\ \\ \\ \\ \\ \\ \\ \\ \\ \\text{pi_avg+=pi_value}$<br>\n",
    "$\\ \\ \\ \\ \\ \\ \\ \\text{pi = pi_avg/n_exp}$<br>\n",
    "$\\ \\ \\ \\ \\ \\ \\ \\text{print(pi)}$<br>\n",
    "$\\ \\ \\ \\ \\ \\ \\ \\text{plt.plot(pi_value_list)}$"
   ]
  },
  {
   "cell_type": "markdown",
   "metadata": {},
   "source": [
    "### P.2.2 - Data Cleaning - Agrupación De Datos\n"
   ]
  },
  {
   "cell_type": "markdown",
   "metadata": {},
   "source": [
    "Librerías utilizadas:\n",
    "- Pandas $\\rightarrow$ Trabajar con DataFrames.\n",
    "- Numpy $\\rightarrow$ Librería Numérica.\n",
    "- Matplotlib.pyplot $\\rightarrow$ Representacón Gráfica.\n",
    "- import random $\\rightarrow$ Generador de variables aleatorias."
   ]
  }
 ],
 "metadata": {
  "kernelspec": {
   "display_name": "Python 3 (ipykernel)",
   "language": "python",
   "name": "python3"
  },
  "language_info": {
   "codemirror_mode": {
    "name": "ipython",
    "version": 3
   },
   "file_extension": ".py",
   "mimetype": "text/x-python",
   "name": "python",
   "nbconvert_exporter": "python",
   "pygments_lexer": "ipython3",
   "version": "3.8.3"
  }
 },
 "nbformat": 4,
 "nbformat_minor": 2
}
