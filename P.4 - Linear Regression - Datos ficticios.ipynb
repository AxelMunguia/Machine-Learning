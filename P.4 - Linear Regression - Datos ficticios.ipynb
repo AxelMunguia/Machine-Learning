{
 "cells": [
  {
   "cell_type": "markdown",
   "metadata": {},
   "source": [
    "# <font color='red'> Modelos de Regresión Lineal <font>\n",
    "   \n",
    "## Modelo con datos simulados\n",
    "\n",
    "* y= a +b*x\n",
    "* x: 100 valores distribuidos según una N~(1.5,2.5)\n",
    "* Ye = 5+ 1.9*x + e\n",
    "* e estará distribuido según un N~(0,0.8) # Tiene que estar centrada en cero.\n"
   ]
  },
  {
   "cell_type": "code",
   "execution_count": 1,
   "metadata": {},
   "outputs": [],
   "source": [
    "import pandas as pd\n",
    "import numpy as np\n",
    "import matplotlib.pyplot as plt\n",
    "from matplotlib import style\n",
    "style.use(\"ggplot\")"
   ]
  },
  {
   "cell_type": "code",
   "execution_count": 2,
   "metadata": {},
   "outputs": [],
   "source": [
    "# 1.5+2.5*np.random.randn(1000)\n",
    "x = np.random.normal(loc=1.5,scale=2.5,size=1000)"
   ]
  },
  {
   "cell_type": "code",
   "execution_count": 3,
   "metadata": {},
   "outputs": [
    {
     "data": {
      "image/png": "[encoded data removed]",
      "text/plain": [
       "<Figure size 432x288 with 1 Axes>"
      ]
     },
     "metadata": {
      "needs_background": "light"
     },
     "output_type": "display_data"
    }
   ],
   "source": [
    "fig,ax = plt.subplots(1,1)\n",
    "ax.hist(x)\n",
    "plt.text(-7.5,220,r\"$\\mathcal{N}(\\mu = 1.5,\\sigma= 2.5)$\",fontsize=14)\n",
    "plt.show()"
   ]
  },
  {
   "cell_type": "code",
   "execution_count": 4,
   "metadata": {},
   "outputs": [],
   "source": [
    "res = 0+0.8*np.random.randn(1000) # Error"
   ]
  },
  {
   "cell_type": "code",
   "execution_count": 5,
   "metadata": {},
   "outputs": [
    {
     "data": {
      "image/png": "[encoded data removed]",
      "text/plain": [
       "<Figure size 432x288 with 1 Axes>"
      ]
     },
     "metadata": {
      "needs_background": "light"
     },
     "output_type": "display_data"
    }
   ],
   "source": [
    "fig,ax = plt.subplots(1,1)\n",
    "ax.hist(res)\n",
    "plt.text(-2.5,220,r\"$\\mathcal{N}(\\mu = 0 ,\\sigma= 0.8)$\",fontsize=14)\n",
    "plt.show()"
   ]
  },
  {
   "cell_type": "code",
   "execution_count": 6,
   "metadata": {},
   "outputs": [],
   "source": [
    "y_act = 5+1.9*x+res"
   ]
  },
  {
   "cell_type": "code",
   "execution_count": 7,
   "metadata": {},
   "outputs": [
    {
     "data": {
      "image/png": "[encoded data removed]",
      "text/plain": [
       "<Figure size 432x288 with 1 Axes>"
      ]
     },
     "metadata": {
      "needs_background": "light"
     },
     "output_type": "display_data"
    }
   ],
   "source": [
    "fig,ax = plt.subplots(1,1)\n",
    "ax.hist(y_act)\n",
    "plt.show()"
   ]
  },
  {
   "cell_type": "code",
   "execution_count": 8,
   "metadata": {},
   "outputs": [
    {
     "data": {
      "image/png": "[encoded data removed]",
      "text/plain": [
       "<Figure size 432x288 with 1 Axes>"
      ]
     },
     "metadata": {
      "needs_background": "light"
     },
     "output_type": "display_data"
    }
   ],
   "source": [
    "y_pred = 5+1.9*x\n",
    "fig,ax = plt.subplots(1,1)\n",
    "ax.hist(y_pred)\n",
    "plt.show()"
   ]
  },
  {
   "cell_type": "code",
   "execution_count": 9,
   "metadata": {},
   "outputs": [],
   "source": [
    "x_list = x.tolist()\n",
    "y_pred_list = y_pred.tolist()\n",
    "y_actual_list = y_act.tolist()"
   ]
  },
  {
   "cell_type": "code",
   "execution_count": 10,
   "metadata": {},
   "outputs": [
    {
     "data": {
      "text/html": [
       "<div>\n",
       "<style scoped>\n",
       "    .dataframe tbody tr th:only-of-type {\n",
       "        vertical-align: middle;\n",
       "    }\n",
       "\n",
       "    .dataframe tbody tr th {\n",
       "        vertical-align: top;\n",
       "    }\n",
       "\n",
       "    .dataframe thead th {\n",
       "        text-align: right;\n",
       "    }\n",
       "</style>\n",
       "<table border=\"1\" class=\"dataframe\">\n",
       "  <thead>\n",
       "    <tr style=\"text-align: right;\">\n",
       "      <th></th>\n",
       "      <th>X</th>\n",
       "      <th>Y_actual</th>\n",
       "      <th>Y_prediction</th>\n",
       "    </tr>\n",
       "  </thead>\n",
       "  <tbody>\n",
       "    <tr>\n",
       "      <th>0</th>\n",
       "      <td>1.542338</td>\n",
       "      <td>7.011956</td>\n",
       "      <td>7.930442</td>\n",
       "    </tr>\n",
       "    <tr>\n",
       "      <th>1</th>\n",
       "      <td>-3.465242</td>\n",
       "      <td>-1.228953</td>\n",
       "      <td>-1.583960</td>\n",
       "    </tr>\n",
       "    <tr>\n",
       "      <th>2</th>\n",
       "      <td>3.560620</td>\n",
       "      <td>11.617816</td>\n",
       "      <td>11.765177</td>\n",
       "    </tr>\n",
       "    <tr>\n",
       "      <th>3</th>\n",
       "      <td>5.258257</td>\n",
       "      <td>14.437011</td>\n",
       "      <td>14.990687</td>\n",
       "    </tr>\n",
       "    <tr>\n",
       "      <th>4</th>\n",
       "      <td>-2.807264</td>\n",
       "      <td>-0.465945</td>\n",
       "      <td>-0.333801</td>\n",
       "    </tr>\n",
       "  </tbody>\n",
       "</table>\n",
       "</div>"
      ],
      "text/plain": [
       "          X   Y_actual  Y_prediction\n",
       "0  1.542338   7.011956      7.930442\n",
       "1 -3.465242  -1.228953     -1.583960\n",
       "2  3.560620  11.617816     11.765177\n",
       "3  5.258257  14.437011     14.990687\n",
       "4 -2.807264  -0.465945     -0.333801"
      ]
     },
     "execution_count": 10,
     "metadata": {},
     "output_type": "execute_result"
    }
   ],
   "source": [
    "data = pd.DataFrame({\n",
    "    \"X\":x_list,\n",
    "    \"Y_actual\":y_actual_list,\n",
    "    \"Y_prediction\":y_pred_list\n",
    "})\n",
    "data.head()"
   ]
  },
  {
   "cell_type": "code",
   "execution_count": 11,
   "metadata": {},
   "outputs": [],
   "source": [
    "y_mean = [np.mean(y_act) for i in range(1,len(x_list)+1)]"
   ]
  },
  {
   "cell_type": "code",
   "execution_count": 12,
   "metadata": {},
   "outputs": [
    {
     "data": {
      "image/png": "[encoded data removed]",
      "text/plain": [
       "<Figure size 720x576 with 4 Axes>"
      ]
     },
     "metadata": {
      "needs_background": "light"
     },
     "output_type": "display_data"
    }
   ],
   "source": [
    "fig,axes= plt.subplots(2,2,figsize=(10,8))\n",
    "\n",
    "axes[0,0].plot(x,y_pred,'g',label=\"Predicción\")\n",
    "axes[0,1].plot(x,y_mean,'o-',label=\"Media\") # Es el promedio\n",
    "axes[1,0].plot(x,y_act,'ro',label=\"Reales\")\n",
    "axes[1,1].plot(x,y_pred,'g')\n",
    "axes[1,1].plot(x,y_mean,'o-') # Es el promedio\n",
    "axes[1,1].plot(x,y_act,'ro')\n",
    "axes[0,0].legend();axes[0,1].legend();axes[1,0].legend();axes[0,1].legend()\n",
    "axes[0,0].set_title(\"Prediction\");axes[0,1].set_title(\"Mean\");axes[1,0].set_title(\"Real Data\");axes[1,1].set_title(\"Everything\")\n",
    "plt.subplots_adjust(right=1.4)\n",
    "plt.show()"
   ]
  },
  {
   "cell_type": "markdown",
   "metadata": {},
   "source": [
    "## ¿Como es la predicción de buena?\n",
    "* SST = SSD + SSR\n",
    "* SST : Variabilidad de los datos con respecto de su media\n",
    "* SSD : Diferencia entre los datos originales y las predicciones que el modelo no es capaz de explicar (errores que deberían seguir una distribución normal)\n",
    "* SSR : Diferencia entre la regresión y el valor medio que el modelo busca explicar\n",
    "* R2 = SSR / SST, coeficiente de determinación entre 0 y 1"
   ]
  },
  {
   "cell_type": "code",
   "execution_count": 13,
   "metadata": {},
   "outputs": [],
   "source": [
    "data[\"SSR\"]=(data.Y_prediction-np.mean(y_act))**2\n",
    "data[\"SSD\"] = (data.Y_actual-data.Y_prediction)**2\n",
    "data[\"SST\"] = (data.Y_actual-np.mean(y_act))**2"
   ]
  },
  {
   "cell_type": "code",
   "execution_count": 14,
   "metadata": {},
   "outputs": [
    {
     "data": {
      "text/html": [
       "<div>\n",
       "<style scoped>\n",
       "    .dataframe tbody tr th:only-of-type {\n",
       "        vertical-align: middle;\n",
       "    }\n",
       "\n",
       "    .dataframe tbody tr th {\n",
       "        vertical-align: top;\n",
       "    }\n",
       "\n",
       "    .dataframe thead th {\n",
       "        text-align: right;\n",
       "    }\n",
       "</style>\n",
       "<table border=\"1\" class=\"dataframe\">\n",
       "  <thead>\n",
       "    <tr style=\"text-align: right;\">\n",
       "      <th></th>\n",
       "      <th>X</th>\n",
       "      <th>Y_actual</th>\n",
       "      <th>Y_prediction</th>\n",
       "      <th>SSR</th>\n",
       "      <th>SSD</th>\n",
       "      <th>SST</th>\n",
       "    </tr>\n",
       "  </thead>\n",
       "  <tbody>\n",
       "    <tr>\n",
       "      <th>0</th>\n",
       "      <td>1.542338</td>\n",
       "      <td>7.011956</td>\n",
       "      <td>7.930442</td>\n",
       "      <td>0.020413</td>\n",
       "      <td>0.843617</td>\n",
       "      <td>0.601577</td>\n",
       "    </tr>\n",
       "    <tr>\n",
       "      <th>1</th>\n",
       "      <td>-3.465242</td>\n",
       "      <td>-1.228953</td>\n",
       "      <td>-1.583960</td>\n",
       "      <td>87.825579</td>\n",
       "      <td>0.126030</td>\n",
       "      <td>81.297687</td>\n",
       "    </tr>\n",
       "    <tr>\n",
       "      <th>2</th>\n",
       "      <td>3.560620</td>\n",
       "      <td>11.617816</td>\n",
       "      <td>11.765177</td>\n",
       "      <td>15.821361</td>\n",
       "      <td>0.021715</td>\n",
       "      <td>14.670790</td>\n",
       "    </tr>\n",
       "    <tr>\n",
       "      <th>3</th>\n",
       "      <td>5.258257</td>\n",
       "      <td>14.437011</td>\n",
       "      <td>14.990687</td>\n",
       "      <td>51.884905</td>\n",
       "      <td>0.306557</td>\n",
       "      <td>44.215071</td>\n",
       "    </tr>\n",
       "    <tr>\n",
       "      <th>4</th>\n",
       "      <td>-2.807264</td>\n",
       "      <td>-0.465945</td>\n",
       "      <td>-0.333801</td>\n",
       "      <td>65.956669</td>\n",
       "      <td>0.017462</td>\n",
       "      <td>68.120500</td>\n",
       "    </tr>\n",
       "  </tbody>\n",
       "</table>\n",
       "</div>"
      ],
      "text/plain": [
       "          X   Y_actual  Y_prediction        SSR       SSD        SST\n",
       "0  1.542338   7.011956      7.930442   0.020413  0.843617   0.601577\n",
       "1 -3.465242  -1.228953     -1.583960  87.825579  0.126030  81.297687\n",
       "2  3.560620  11.617816     11.765177  15.821361  0.021715  14.670790\n",
       "3  5.258257  14.437011     14.990687  51.884905  0.306557  44.215071\n",
       "4 -2.807264  -0.465945     -0.333801  65.956669  0.017462  68.120500"
      ]
     },
     "execution_count": 14,
     "metadata": {},
     "output_type": "execute_result"
    }
   ],
   "source": [
    "data.head()"
   ]
  },
  {
   "cell_type": "markdown",
   "metadata": {},
   "source": [
    "### $$\\sum_{i=1}^n (y_i-\\bar{y})^2 = \\sum_{i=1}^n (y_i-\\hat{y}_i)^2+ \\sum_{i=1}^n (\\hat{y}_i-\\bar{y})^2$$"
   ]
  },
  {
   "cell_type": "code",
   "execution_count": 15,
   "metadata": {},
   "outputs": [
    {
     "data": {
      "text/plain": [
       "(21742.26741755821, 566.6077086912857, 22379.557879042575)"
      ]
     },
     "execution_count": 15,
     "metadata": {},
     "output_type": "execute_result"
    }
   ],
   "source": [
    "SSR = sum(data.SSR)\n",
    "SSD = sum(data.SSD)\n",
    "SST = sum(data.SST)\n",
    "SSR,SSD,SST"
   ]
  },
  {
   "cell_type": "code",
   "execution_count": 16,
   "metadata": {},
   "outputs": [
    {
     "data": {
      "text/plain": [
       "22308.875126249495"
      ]
     },
     "execution_count": 16,
     "metadata": {},
     "output_type": "execute_result"
    }
   ],
   "source": [
    "SSR+SSD"
   ]
  },
  {
   "cell_type": "code",
   "execution_count": 17,
   "metadata": {},
   "outputs": [
    {
     "data": {
      "image/png": "[encoded data removed]",
      "text/plain": [
       "<Figure size 432x288 with 1 Axes>"
      ]
     },
     "metadata": {
      "needs_background": "light"
     },
     "output_type": "display_data"
    }
   ],
   "source": [
    "plt.hist(data.Y_prediction-data.Y_actual)\n",
    "plt.show()"
   ]
  },
  {
   "cell_type": "code",
   "execution_count": 18,
   "metadata": {},
   "outputs": [
    {
     "data": {
      "text/plain": [
       "0.9715235455084142"
      ]
     },
     "execution_count": 18,
     "metadata": {},
     "output_type": "execute_result"
    }
   ],
   "source": [
    "R2= SSR/SST\n",
    "R2"
   ]
  },
  {
   "cell_type": "markdown",
   "metadata": {},
   "source": [
    "## Obteniendo la recta de regresión \n",
    "\n",
    "* y = a + b * x\n",
    "* b = $\\sum((xi - x_m)*(y_i-y_m))/\\sum((xi-x_m)^2)$\n",
    "* a = y_m - b * x_m"
   ]
  },
  {
   "cell_type": "code",
   "execution_count": 19,
   "metadata": {},
   "outputs": [
    {
     "data": {
      "text/plain": [
       "(1.4631274970076955, 7.78756976855645)"
      ]
     },
     "execution_count": 19,
     "metadata": {},
     "output_type": "execute_result"
    }
   ],
   "source": [
    "x_mean= np.mean(data.X)\n",
    "y_mean = np.mean(data.Y_actual)\n",
    "x_mean,y_mean"
   ]
  },
  {
   "cell_type": "code",
   "execution_count": 20,
   "metadata": {},
   "outputs": [],
   "source": [
    "data[\"beta_n\"] = (data.X-x.mean())*(data.Y_actual-y_mean)\n",
    "data[\"beta_d\"] = (data.X-x.mean())**2"
   ]
  },
  {
   "cell_type": "code",
   "execution_count": 21,
   "metadata": {},
   "outputs": [
    {
     "data": {
      "text/plain": [
       "1.903093483038243"
      ]
     },
     "execution_count": 21,
     "metadata": {},
     "output_type": "execute_result"
    }
   ],
   "source": [
    "beta = sum(data.beta_n)/sum(data.beta_d)\n",
    "beta"
   ]
  },
  {
   "cell_type": "code",
   "execution_count": 22,
   "metadata": {},
   "outputs": [
    {
     "data": {
      "text/plain": [
       "5.003101364147048"
      ]
     },
     "execution_count": 22,
     "metadata": {},
     "output_type": "execute_result"
    }
   ],
   "source": [
    "alpha = y_mean-beta*x_mean\n",
    "alpha"
   ]
  },
  {
   "cell_type": "markdown",
   "metadata": {},
   "source": [
    "#### El model final obtenido por la regresión es:\n",
    "* y = 4.983919152093856 + 1.9014668609225296*x"
   ]
  },
  {
   "cell_type": "code",
   "execution_count": 23,
   "metadata": {},
   "outputs": [],
   "source": [
    "data[\"y_model\"]=alpha+beta*x"
   ]
  },
  {
   "cell_type": "code",
   "execution_count": 24,
   "metadata": {},
   "outputs": [
    {
     "data": {
      "text/html": [
       "<div>\n",
       "<style scoped>\n",
       "    .dataframe tbody tr th:only-of-type {\n",
       "        vertical-align: middle;\n",
       "    }\n",
       "\n",
       "    .dataframe tbody tr th {\n",
       "        vertical-align: top;\n",
       "    }\n",
       "\n",
       "    .dataframe thead th {\n",
       "        text-align: right;\n",
       "    }\n",
       "</style>\n",
       "<table border=\"1\" class=\"dataframe\">\n",
       "  <thead>\n",
       "    <tr style=\"text-align: right;\">\n",
       "      <th></th>\n",
       "      <th>X</th>\n",
       "      <th>Y_actual</th>\n",
       "      <th>Y_prediction</th>\n",
       "      <th>SSR</th>\n",
       "      <th>SSD</th>\n",
       "      <th>SST</th>\n",
       "      <th>beta_n</th>\n",
       "      <th>beta_d</th>\n",
       "      <th>y_model</th>\n",
       "    </tr>\n",
       "  </thead>\n",
       "  <tbody>\n",
       "    <tr>\n",
       "      <th>0</th>\n",
       "      <td>1.542338</td>\n",
       "      <td>7.011956</td>\n",
       "      <td>7.930442</td>\n",
       "      <td>0.020413</td>\n",
       "      <td>0.843617</td>\n",
       "      <td>0.601577</td>\n",
       "      <td>-0.061437</td>\n",
       "      <td>0.006274</td>\n",
       "      <td>7.938315</td>\n",
       "    </tr>\n",
       "    <tr>\n",
       "      <th>1</th>\n",
       "      <td>-3.465242</td>\n",
       "      <td>-1.228953</td>\n",
       "      <td>-1.583960</td>\n",
       "      <td>87.825579</td>\n",
       "      <td>0.126030</td>\n",
       "      <td>81.297687</td>\n",
       "      <td>44.436760</td>\n",
       "      <td>24.288829</td>\n",
       "      <td>-1.591579</td>\n",
       "    </tr>\n",
       "    <tr>\n",
       "      <th>2</th>\n",
       "      <td>3.560620</td>\n",
       "      <td>11.617816</td>\n",
       "      <td>11.765177</td>\n",
       "      <td>15.821361</td>\n",
       "      <td>0.021715</td>\n",
       "      <td>14.670790</td>\n",
       "      <td>8.033912</td>\n",
       "      <td>4.399473</td>\n",
       "      <td>11.779293</td>\n",
       "    </tr>\n",
       "    <tr>\n",
       "      <th>3</th>\n",
       "      <td>5.258257</td>\n",
       "      <td>14.437011</td>\n",
       "      <td>14.990687</td>\n",
       "      <td>51.884905</td>\n",
       "      <td>0.306557</td>\n",
       "      <td>44.215071</td>\n",
       "      <td>25.235488</td>\n",
       "      <td>14.403005</td>\n",
       "      <td>15.010055</td>\n",
       "    </tr>\n",
       "    <tr>\n",
       "      <th>4</th>\n",
       "      <td>-2.807264</td>\n",
       "      <td>-0.465945</td>\n",
       "      <td>-0.333801</td>\n",
       "      <td>65.956669</td>\n",
       "      <td>0.017462</td>\n",
       "      <td>68.120500</td>\n",
       "      <td>35.245737</td>\n",
       "      <td>18.236242</td>\n",
       "      <td>-0.339384</td>\n",
       "    </tr>\n",
       "  </tbody>\n",
       "</table>\n",
       "</div>"
      ],
      "text/plain": [
       "          X   Y_actual  Y_prediction        SSR       SSD        SST  \\\n",
       "0  1.542338   7.011956      7.930442   0.020413  0.843617   0.601577   \n",
       "1 -3.465242  -1.228953     -1.583960  87.825579  0.126030  81.297687   \n",
       "2  3.560620  11.617816     11.765177  15.821361  0.021715  14.670790   \n",
       "3  5.258257  14.437011     14.990687  51.884905  0.306557  44.215071   \n",
       "4 -2.807264  -0.465945     -0.333801  65.956669  0.017462  68.120500   \n",
       "\n",
       "      beta_n     beta_d    y_model  \n",
       "0  -0.061437   0.006274   7.938315  \n",
       "1  44.436760  24.288829  -1.591579  \n",
       "2   8.033912   4.399473  11.779293  \n",
       "3  25.235488  14.403005  15.010055  \n",
       "4  35.245737  18.236242  -0.339384  "
      ]
     },
     "execution_count": 24,
     "metadata": {},
     "output_type": "execute_result"
    }
   ],
   "source": [
    "data.head()"
   ]
  },
  {
   "cell_type": "code",
   "execution_count": 25,
   "metadata": {},
   "outputs": [],
   "source": [
    "SSR = sum((data[\"y_model\"]-y_mean)**2)\n",
    "SSD = sum((data[\"y_model\"]-data[\"Y_actual\"])**2)\n",
    "SST = sum((data[\"Y_actual\"]-y_mean)**2)"
   ]
  },
  {
   "cell_type": "code",
   "execution_count": 26,
   "metadata": {},
   "outputs": [
    {
     "data": {
      "text/plain": [
       "(22379.55787904265, 22379.557879042575)"
      ]
     },
     "execution_count": 26,
     "metadata": {},
     "output_type": "execute_result"
    }
   ],
   "source": [
    "SSR+SSD,SST"
   ]
  },
  {
   "cell_type": "code",
   "execution_count": 27,
   "metadata": {},
   "outputs": [
    {
     "data": {
      "text/plain": [
       "0.9746870828781712"
      ]
     },
     "execution_count": 27,
     "metadata": {},
     "output_type": "execute_result"
    }
   ],
   "source": [
    "R2 = SSR/SST\n",
    "R2"
   ]
  },
  {
   "cell_type": "code",
   "execution_count": 28,
   "metadata": {},
   "outputs": [
    {
     "data": {
      "text/plain": [
       "1.0000000000000033"
      ]
     },
     "execution_count": 28,
     "metadata": {},
     "output_type": "execute_result"
    }
   ],
   "source": [
    "(SSR+SSD)/SST"
   ]
  },
  {
   "cell_type": "code",
   "execution_count": 29,
   "metadata": {},
   "outputs": [
    {
     "data": {
      "image/png": "[encoded data removed]",
      "text/plain": [
       "<Figure size 432x288 with 1 Axes>"
      ]
     },
     "metadata": {
      "needs_background": "light"
     },
     "output_type": "display_data"
    }
   ],
   "source": [
    "y_mean = [np.mean(y_act) for i in range(1, len(x_list) + 1)]\n",
    "\n",
    "%matplotlib inline\n",
    "plt.plot(data[\"X\"],data[\"Y_prediction\"],\"b\")\n",
    "plt.plot(data[\"X\"], data[\"Y_actual\"], \"ro\")\n",
    "plt.plot(data[\"X\"],y_mean, \"g\")\n",
    "plt.plot(data[\"X\"], data[\"y_model\"],\"bD\")\n",
    "plt.title(\"Valor Actual vs Predicción\")\n",
    "plt.show()"
   ]
  },
  {
   "cell_type": "markdown",
   "metadata": {},
   "source": [
    "### Error estándar de los residuos (RSE)"
   ]
  },
  {
   "cell_type": "code",
   "execution_count": 30,
   "metadata": {},
   "outputs": [
    {
     "data": {
      "text/plain": [
       "0.7534103451052918"
      ]
     },
     "execution_count": 30,
     "metadata": {},
     "output_type": "execute_result"
    }
   ],
   "source": [
    "RSE= np.sqrt(SSD/(len(data)-2))\n",
    "RSE"
   ]
  },
  {
   "cell_type": "code",
   "execution_count": 31,
   "metadata": {},
   "outputs": [
    {
     "data": {
      "text/plain": [
       "7.78756976855645"
      ]
     },
     "execution_count": 31,
     "metadata": {},
     "output_type": "execute_result"
    }
   ],
   "source": [
    "np.mean(data.Y_actual)"
   ]
  },
  {
   "cell_type": "code",
   "execution_count": 32,
   "metadata": {},
   "outputs": [
    {
     "data": {
      "text/plain": [
       "0.09674524498609384"
      ]
     },
     "execution_count": 32,
     "metadata": {},
     "output_type": "execute_result"
    }
   ],
   "source": [
    "RSE/np.mean(data.Y_actual)"
   ]
  }
 ],
 "metadata": {
  "kernelspec": {
   "display_name": "Python 3 (ipykernel)",
   "language": "python",
   "name": "python3"
  },
  "language_info": {
   "codemirror_mode": {
    "name": "ipython",
    "version": 3
   },
   "file_extension": ".py",
   "mimetype": "text/x-python",
   "name": "python",
   "nbconvert_exporter": "python",
   "pygments_lexer": "ipython3",
   "version": "3.8.3"
  }
 },
 "nbformat": 4,
 "nbformat_minor": 2
}
