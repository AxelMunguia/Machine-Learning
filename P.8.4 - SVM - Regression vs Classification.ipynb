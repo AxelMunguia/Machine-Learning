{
 "cells": [
  {
   "cell_type": "markdown",
   "metadata": {},
   "source": [
    "#  <center >Clasificación de Flores Iris"
   ]
  },
  {
   "cell_type": "code",
   "execution_count": 1,
   "metadata": {},
   "outputs": [],
   "source": [
    "import pandas as pd\n",
    "import numpy as np\n",
    "import matplotlib.pyplot as plt\n",
    "from sklearn import svm, datasets"
   ]
  },
  {
   "cell_type": "code",
   "execution_count": 2,
   "metadata": {},
   "outputs": [],
   "source": [
    "iris = datasets.load_iris() "
   ]
  },
  {
   "cell_type": "code",
   "execution_count": 3,
   "metadata": {},
   "outputs": [
    {
     "data": {
      "text/plain": [
       "dict_keys(['data', 'target', 'target_names', 'DESCR', 'feature_names', 'filename'])"
      ]
     },
     "execution_count": 3,
     "metadata": {},
     "output_type": "execute_result"
    }
   ],
   "source": [
    "iris.keys()"
   ]
  },
  {
   "cell_type": "code",
   "execution_count": 4,
   "metadata": {},
   "outputs": [
    {
     "data": {
      "text/plain": [
       "['sepal length (cm)',\n",
       " 'sepal width (cm)',\n",
       " 'petal length (cm)',\n",
       " 'petal width (cm)']"
      ]
     },
     "execution_count": 4,
     "metadata": {},
     "output_type": "execute_result"
    }
   ],
   "source": [
    "iris.feature_names"
   ]
  },
  {
   "cell_type": "code",
   "execution_count": 5,
   "metadata": {},
   "outputs": [
    {
     "data": {
      "text/plain": [
       "'C:\\\\Users\\\\sacel\\\\APython3\\\\Anaconda3\\\\lib\\\\site-packages\\\\sklearn\\\\datasets\\\\data\\\\iris.csv'"
      ]
     },
     "execution_count": 5,
     "metadata": {},
     "output_type": "execute_result"
    }
   ],
   "source": [
    "iris.filename"
   ]
  },
  {
   "cell_type": "code",
   "execution_count": 6,
   "metadata": {},
   "outputs": [],
   "source": [
    "X = iris.data[:,:2]\n",
    "Y = iris.target"
   ]
  },
  {
   "cell_type": "code",
   "execution_count": 7,
   "metadata": {},
   "outputs": [],
   "source": [
    "x_min, x_max = X[:,0].min()-1,X[:,0].max()+1\n",
    "y_min, y_max = X[:,1].min()-1,X[:,1].max()+1\n",
    "h = (x_max-x_min)/100 # Tener cien trozos del mínimo al máximo\n",
    "\n",
    "xx,yy = np.meshgrid(np.arange(x_min,x_max,h), np.arange(y_min,y_max,h))\n",
    "\n"
   ]
  },
  {
   "cell_type": "code",
   "execution_count": 8,
   "metadata": {},
   "outputs": [
    {
     "data": {
      "text/plain": [
       "(3.3, 8.9, 1.0, 5.4)"
      ]
     },
     "execution_count": 8,
     "metadata": {},
     "output_type": "execute_result"
    }
   ],
   "source": [
    "x_min,x_max,y_min,y_max"
   ]
  },
  {
   "cell_type": "code",
   "execution_count": 9,
   "metadata": {},
   "outputs": [
    {
     "data": {
      "text/plain": [
       "(array([[3.3  , 3.356, 3.412, ..., 8.732, 8.788, 8.844],\n",
       "        [3.3  , 3.356, 3.412, ..., 8.732, 8.788, 8.844],\n",
       "        [3.3  , 3.356, 3.412, ..., 8.732, 8.788, 8.844],\n",
       "        ...,\n",
       "        [3.3  , 3.356, 3.412, ..., 8.732, 8.788, 8.844],\n",
       "        [3.3  , 3.356, 3.412, ..., 8.732, 8.788, 8.844],\n",
       "        [3.3  , 3.356, 3.412, ..., 8.732, 8.788, 8.844]]), (79, 100))"
      ]
     },
     "execution_count": 9,
     "metadata": {},
     "output_type": "execute_result"
    }
   ],
   "source": [
    "xx, xx.shape"
   ]
  },
  {
   "cell_type": "code",
   "execution_count": 10,
   "metadata": {},
   "outputs": [
    {
     "data": {
      "text/plain": [
       "(array([[1.   , 1.   , 1.   , ..., 1.   , 1.   , 1.   ],\n",
       "        [1.056, 1.056, 1.056, ..., 1.056, 1.056, 1.056],\n",
       "        [1.112, 1.112, 1.112, ..., 1.112, 1.112, 1.112],\n",
       "        ...,\n",
       "        [5.256, 5.256, 5.256, ..., 5.256, 5.256, 5.256],\n",
       "        [5.312, 5.312, 5.312, ..., 5.312, 5.312, 5.312],\n",
       "        [5.368, 5.368, 5.368, ..., 5.368, 5.368, 5.368]]), (79, 100))"
      ]
     },
     "execution_count": 10,
     "metadata": {},
     "output_type": "execute_result"
    }
   ],
   "source": [
    "yy, yy.shape"
   ]
  },
  {
   "cell_type": "code",
   "execution_count": 11,
   "metadata": {},
   "outputs": [],
   "source": [
    "# Creamos la red de valores\n",
    "x_plot = np.c_[xx.ravel(),yy.ravel()]"
   ]
  },
  {
   "cell_type": "code",
   "execution_count": 12,
   "metadata": {},
   "outputs": [
    {
     "data": {
      "text/plain": [
       "(7900, 2)"
      ]
     },
     "execution_count": 12,
     "metadata": {},
     "output_type": "execute_result"
    }
   ],
   "source": [
    "x_plot.shape"
   ]
  },
  {
   "cell_type": "code",
   "execution_count": 13,
   "metadata": {},
   "outputs": [
    {
     "data": {
      "text/plain": [
       "(7900, 2)"
      ]
     },
     "execution_count": 13,
     "metadata": {},
     "output_type": "execute_result"
    }
   ],
   "source": [
    "np.stack([xx.ravel(),yy.ravel()]).T.shape"
   ]
  },
  {
   "cell_type": "code",
   "execution_count": 14,
   "metadata": {},
   "outputs": [
    {
     "name": "stdout",
     "output_type": "stream",
     "text": [
      "(7900,)\n"
     ]
    }
   ],
   "source": [
    "# Maquina Vectorial Lineal\n",
    "C = 1.\n",
    "svc = svm.SVC(kernel = \"linear\", C= C, decision_function_shape=\"ovr\").fit(X,Y)\n",
    "Ypred = svc.predict(x_plot)\n",
    "print(Ypred.shape)\n",
    "Ypred = Ypred.reshape(xx.shape)"
   ]
  },
  {
   "cell_type": "code",
   "execution_count": 15,
   "metadata": {},
   "outputs": [
    {
     "data": {
      "image/png": "[encoded data removed]",
      "text/plain": [
       "<Figure size 1152x648 with 1 Axes>"
      ]
     },
     "metadata": {
      "needs_background": "light"
     },
     "output_type": "display_data"
    }
   ],
   "source": [
    "plt.figure(figsize = (16,9))\n",
    "plt.contour(xx,yy,Ypred, cmap = \"autumn\",alpha = .9)\n",
    "plt.contourf(xx,yy,Ypred, cmap = plt.cm.tab10,alpha = .2)\n",
    "plt.scatter(X[:,0],X[:,1], c = Y, cmap = plt.cm.tab10)\n",
    "plt.xlabel(\"Longuitud de los pétalos.\", size = 15)\n",
    "plt.ylabel(\"Anchura de los pétalos.\", size = 15)\n",
    "plt.title(\"Support Vector Classifier Para las Flores de IRIS\")\n",
    "plt.show()"
   ]
  },
  {
   "cell_type": "code",
   "execution_count": 16,
   "metadata": {},
   "outputs": [
    {
     "name": "stderr",
     "output_type": "stream",
     "text": [
      "C:\\Users\\sacel\\APython3\\Anaconda3\\lib\\site-packages\\sklearn\\svm\\base.py:193: FutureWarning: The default value of gamma will change from 'auto' to 'scale' in version 0.22 to account better for unscaled features. Set gamma explicitly to 'auto' or 'scale' to avoid this warning.\n",
      "  \"avoid this warning.\", FutureWarning)\n"
     ]
    }
   ],
   "source": [
    "# Tratar con Sigmoide\n",
    "C = 1.0\n",
    "svc = svm.SVC(kernel = \"sigmoid\", C = C, decision_function_shape=\"ovr\").fit(X,Y)\n",
    "# decision_function_shape='ovr' para que ajuste los datos lo mejor posible\n",
    "Ypred = svc.predict(x_plot)\n",
    "Ypred = Ypred.reshape(xx.shape)"
   ]
  },
  {
   "cell_type": "code",
   "execution_count": 17,
   "metadata": {},
   "outputs": [
    {
     "data": {
      "text/plain": [
       "array([2])"
      ]
     },
     "execution_count": 17,
     "metadata": {},
     "output_type": "execute_result"
    }
   ],
   "source": [
    "np.unique(Ypred)"
   ]
  },
  {
   "cell_type": "code",
   "execution_count": 18,
   "metadata": {},
   "outputs": [
    {
     "name": "stderr",
     "output_type": "stream",
     "text": [
      "C:\\Users\\sacel\\APython3\\Anaconda3\\lib\\site-packages\\ipykernel_launcher.py:2: UserWarning: No contour levels were found within the data range.\n",
      "  \n"
     ]
    },
    {
     "data": {
      "image/png": "[encoded data removed]",
      "text/plain": [
       "<Figure size 1152x648 with 1 Axes>"
      ]
     },
     "metadata": {
      "needs_background": "light"
     },
     "output_type": "display_data"
    }
   ],
   "source": [
    "plt.figure(figsize = (16,9))\n",
    "plt.contour(xx,yy,Ypred, cmap = \"autumn\",alpha = .9)\n",
    "plt.contourf(xx,yy,Ypred, cmap = plt.cm.tab10,alpha = .2)\n",
    "plt.scatter(X[:,0],X[:,1], c = Y, cmap = plt.cm.tab10)\n",
    "plt.xlabel(\"Longuitud de los pétalos.\", size = 15)\n",
    "plt.ylabel(\"Anchura de los pétalos.\", size = 15)\n",
    "plt.title(\"Support Vector Classifier Para las Flores de IRIS\")\n",
    "plt.show()"
   ]
  },
  {
   "cell_type": "code",
   "execution_count": 19,
   "metadata": {},
   "outputs": [
    {
     "data": {
      "text/plain": [
       "'Predijo que todos los valores serían versicolor.'"
      ]
     },
     "execution_count": 19,
     "metadata": {},
     "output_type": "execute_result"
    }
   ],
   "source": [
    "f\"Predijo que todos los valores serían {iris.target_names[1]}.\""
   ]
  },
  {
   "cell_type": "code",
   "execution_count": 20,
   "metadata": {},
   "outputs": [],
   "source": [
    "from sklearn.metrics import classification_report\n",
    "from sklearn.utils import shuffle\n",
    "from sklearn.model_selection import train_test_split, GridSearchCV"
   ]
  },
  {
   "cell_type": "code",
   "execution_count": 21,
   "metadata": {},
   "outputs": [],
   "source": [
    "X = iris.data\n",
    "Y = iris.target"
   ]
  },
  {
   "cell_type": "code",
   "execution_count": 22,
   "metadata": {},
   "outputs": [],
   "source": [
    "X, Y = shuffle(X,Y)"
   ]
  },
  {
   "cell_type": "code",
   "execution_count": 23,
   "metadata": {},
   "outputs": [],
   "source": [
    "X_train,X_test,Y_train, Y_test = train_test_split(X,Y, test_size = 0.25)"
   ]
  },
  {
   "cell_type": "code",
   "execution_count": 24,
   "metadata": {},
   "outputs": [],
   "source": [
    "parameters = [{\n",
    "    \"kernel\":[\"rbf\"],\n",
    "    \"gamma\": [1e-04,1e-03,1e-02,0.1,0.2,0.5,5],\n",
    "    \"C\":[1,10,100,1000]\n",
    "}    ,{\n",
    "        \"kernel\":[\"linear\"],\n",
    "        \"C\": [1,10,100,1000]\n",
    "    }\n",
    "]"
   ]
  },
  {
   "cell_type": "code",
   "execution_count": 25,
   "metadata": {
    "scrolled": true
   },
   "outputs": [
    {
     "data": {
      "text/plain": [
       "[{'kernel': ['rbf'],\n",
       "  'gamma': [0.0001, 0.001, 0.01, 0.1, 0.2, 0.5, 5],\n",
       "  'C': [1, 10, 100, 1000]},\n",
       " {'kernel': ['linear'], 'C': [1, 10, 100, 1000]}]"
      ]
     },
     "execution_count": 25,
     "metadata": {},
     "output_type": "execute_result"
    }
   ],
   "source": [
    "parameters"
   ]
  },
  {
   "cell_type": "code",
   "execution_count": 26,
   "metadata": {},
   "outputs": [
    {
     "name": "stderr",
     "output_type": "stream",
     "text": [
      "C:\\Users\\sacel\\APython3\\Anaconda3\\lib\\site-packages\\sklearn\\model_selection\\_search.py:814: DeprecationWarning: The default of the `iid` parameter will change from True to False in version 0.22 and will be removed in 0.24. This will change numeric results when test-set sizes are unequal.\n",
      "  DeprecationWarning)\n"
     ]
    },
    {
     "data": {
      "text/plain": [
       "GridSearchCV(cv=10, error_score='raise-deprecating',\n",
       "             estimator=SVC(C=1.0, cache_size=200, class_weight=None, coef0=0.0,\n",
       "                           decision_function_shape='ovr', degree=3,\n",
       "                           gamma='auto_deprecated', kernel='rbf', max_iter=-1,\n",
       "                           probability=False, random_state=None, shrinking=True,\n",
       "                           tol=0.001, verbose=False),\n",
       "             iid='warn', n_jobs=None,\n",
       "             param_grid=[{'C': [1, 10, 100, 1000],\n",
       "                          'gamma': [0.0001, 0.001, 0.01, 0.1, 0.2, 0.5, 5],\n",
       "                          'kernel': ['rbf']},\n",
       "                         {'C': [1, 10, 100, 1000], 'kernel': ['linear']}],\n",
       "             pre_dispatch='2*n_jobs', refit=True, return_train_score=False,\n",
       "             scoring=None, verbose=0)"
      ]
     },
     "execution_count": 26,
     "metadata": {},
     "output_type": "execute_result"
    }
   ],
   "source": [
    "clf = GridSearchCV(svm.SVC(decision_function_shape = \"ovr\"), param_grid=parameters, cv = 10) # CV - cross Validation\n",
    "clf.fit(X_train,Y_train)"
   ]
  },
  {
   "cell_type": "code",
   "execution_count": 27,
   "metadata": {},
   "outputs": [
    {
     "data": {
      "text/plain": [
       "{'C': 1, 'gamma': 0.2, 'kernel': 'rbf'}"
      ]
     },
     "execution_count": 27,
     "metadata": {},
     "output_type": "execute_result"
    }
   ],
   "source": [
    "clf.best_params_"
   ]
  },
  {
   "cell_type": "code",
   "execution_count": 28,
   "metadata": {},
   "outputs": [
    {
     "data": {
      "text/plain": [
       "0.9642857142857143"
      ]
     },
     "execution_count": 28,
     "metadata": {},
     "output_type": "execute_result"
    }
   ],
   "source": [
    "clf.best_score_"
   ]
  },
  {
   "cell_type": "code",
   "execution_count": 29,
   "metadata": {},
   "outputs": [
    {
     "data": {
      "text/plain": [
       "SVC(C=10000000000.0, cache_size=200, class_weight=None, coef0=0.0,\n",
       "    decision_function_shape='ovr', degree=3, gamma=0.001, kernel='rbf',\n",
       "    max_iter=-1, probability=False, random_state=None, shrinking=True,\n",
       "    tol=0.001, verbose=False)"
      ]
     },
     "execution_count": 29,
     "metadata": {},
     "output_type": "execute_result"
    }
   ],
   "source": [
    "model = svm.SVC(kernel = \"rbf\", gamma = 0.001 , C = 1e10, decision_function_shape = \"ovr\")\n",
    "model.fit(X,Y)"
   ]
  },
  {
   "cell_type": "code",
   "execution_count": 30,
   "metadata": {},
   "outputs": [
    {
     "data": {
      "text/plain": [
       "0.9666666666666667"
      ]
     },
     "execution_count": 30,
     "metadata": {},
     "output_type": "execute_result"
    }
   ],
   "source": [
    "model.score(X,Y)"
   ]
  },
  {
   "cell_type": "code",
   "execution_count": 31,
   "metadata": {},
   "outputs": [
    {
     "data": {
      "text/plain": [
       "{'mean_fit_time': array([0.        , 0.00065222, 0.00156212, 0.00156331, 0.00156176,\n",
       "        0.        , 0.00156162, 0.00157163, 0.00155709, 0.        ,\n",
       "        0.        , 0.00156696, 0.        , 0.00156467, 0.        ,\n",
       "        0.00156233, 0.00156212, 0.        , 0.00156312, 0.00156467,\n",
       "        0.        , 0.        , 0.00156047, 0.00156262, 0.00156221,\n",
       "        0.        , 0.        , 0.00156772, 0.        , 0.00156062,\n",
       "        0.        , 0.        ]),\n",
       " 'std_fit_time': array([0.        , 0.00195665, 0.00468636, 0.00468993, 0.00468528,\n",
       "        0.        , 0.00468485, 0.00471489, 0.00467126, 0.        ,\n",
       "        0.        , 0.00470088, 0.        , 0.00469401, 0.        ,\n",
       "        0.004687  , 0.00468636, 0.        , 0.00468936, 0.00469401,\n",
       "        0.        , 0.        , 0.00468142, 0.00468786, 0.00468664,\n",
       "        0.        , 0.        , 0.00470316, 0.        , 0.00468185,\n",
       "        0.        , 0.        ]),\n",
       " 'mean_score_time': array([0.00156269, 0.00156229, 0.        , 0.        , 0.        ,\n",
       "        0.        , 0.        , 0.        , 0.        , 0.        ,\n",
       "        0.        , 0.        , 0.00155795, 0.        , 0.        ,\n",
       "        0.        , 0.        , 0.        , 0.        , 0.        ,\n",
       "        0.00156693, 0.        , 0.        , 0.        , 0.        ,\n",
       "        0.00156176, 0.00065374, 0.        , 0.        , 0.        ,\n",
       "        0.        , 0.        ]),\n",
       " 'std_score_time': array([0.00468807, 0.00468686, 0.        , 0.        , 0.        ,\n",
       "        0.        , 0.        , 0.        , 0.        , 0.        ,\n",
       "        0.        , 0.        , 0.00467384, 0.        , 0.        ,\n",
       "        0.        , 0.        , 0.        , 0.        , 0.        ,\n",
       "        0.0047008 , 0.        , 0.        , 0.        , 0.        ,\n",
       "        0.00468528, 0.00196123, 0.        , 0.        , 0.        ,\n",
       "        0.        , 0.        ]),\n",
       " 'param_C': masked_array(data=[1, 1, 1, 1, 1, 1, 1, 10, 10, 10, 10, 10, 10, 10, 100,\n",
       "                    100, 100, 100, 100, 100, 100, 1000, 1000, 1000, 1000,\n",
       "                    1000, 1000, 1000, 1, 10, 100, 1000],\n",
       "              mask=[False, False, False, False, False, False, False, False,\n",
       "                    False, False, False, False, False, False, False, False,\n",
       "                    False, False, False, False, False, False, False, False,\n",
       "                    False, False, False, False, False, False, False, False],\n",
       "        fill_value='?',\n",
       "             dtype=object),\n",
       " 'param_gamma': masked_array(data=[0.0001, 0.001, 0.01, 0.1, 0.2, 0.5, 5, 0.0001, 0.001,\n",
       "                    0.01, 0.1, 0.2, 0.5, 5, 0.0001, 0.001, 0.01, 0.1, 0.2,\n",
       "                    0.5, 5, 0.0001, 0.001, 0.01, 0.1, 0.2, 0.5, 5, --, --,\n",
       "                    --, --],\n",
       "              mask=[False, False, False, False, False, False, False, False,\n",
       "                    False, False, False, False, False, False, False, False,\n",
       "                    False, False, False, False, False, False, False, False,\n",
       "                    False, False, False, False,  True,  True,  True,  True],\n",
       "        fill_value='?',\n",
       "             dtype=object),\n",
       " 'param_kernel': masked_array(data=['rbf', 'rbf', 'rbf', 'rbf', 'rbf', 'rbf', 'rbf', 'rbf',\n",
       "                    'rbf', 'rbf', 'rbf', 'rbf', 'rbf', 'rbf', 'rbf', 'rbf',\n",
       "                    'rbf', 'rbf', 'rbf', 'rbf', 'rbf', 'rbf', 'rbf', 'rbf',\n",
       "                    'rbf', 'rbf', 'rbf', 'rbf', 'linear', 'linear',\n",
       "                    'linear', 'linear'],\n",
       "              mask=[False, False, False, False, False, False, False, False,\n",
       "                    False, False, False, False, False, False, False, False,\n",
       "                    False, False, False, False, False, False, False, False,\n",
       "                    False, False, False, False, False, False, False, False],\n",
       "        fill_value='?',\n",
       "             dtype=object),\n",
       " 'params': [{'C': 1, 'gamma': 0.0001, 'kernel': 'rbf'},\n",
       "  {'C': 1, 'gamma': 0.001, 'kernel': 'rbf'},\n",
       "  {'C': 1, 'gamma': 0.01, 'kernel': 'rbf'},\n",
       "  {'C': 1, 'gamma': 0.1, 'kernel': 'rbf'},\n",
       "  {'C': 1, 'gamma': 0.2, 'kernel': 'rbf'},\n",
       "  {'C': 1, 'gamma': 0.5, 'kernel': 'rbf'},\n",
       "  {'C': 1, 'gamma': 5, 'kernel': 'rbf'},\n",
       "  {'C': 10, 'gamma': 0.0001, 'kernel': 'rbf'},\n",
       "  {'C': 10, 'gamma': 0.001, 'kernel': 'rbf'},\n",
       "  {'C': 10, 'gamma': 0.01, 'kernel': 'rbf'},\n",
       "  {'C': 10, 'gamma': 0.1, 'kernel': 'rbf'},\n",
       "  {'C': 10, 'gamma': 0.2, 'kernel': 'rbf'},\n",
       "  {'C': 10, 'gamma': 0.5, 'kernel': 'rbf'},\n",
       "  {'C': 10, 'gamma': 5, 'kernel': 'rbf'},\n",
       "  {'C': 100, 'gamma': 0.0001, 'kernel': 'rbf'},\n",
       "  {'C': 100, 'gamma': 0.001, 'kernel': 'rbf'},\n",
       "  {'C': 100, 'gamma': 0.01, 'kernel': 'rbf'},\n",
       "  {'C': 100, 'gamma': 0.1, 'kernel': 'rbf'},\n",
       "  {'C': 100, 'gamma': 0.2, 'kernel': 'rbf'},\n",
       "  {'C': 100, 'gamma': 0.5, 'kernel': 'rbf'},\n",
       "  {'C': 100, 'gamma': 5, 'kernel': 'rbf'},\n",
       "  {'C': 1000, 'gamma': 0.0001, 'kernel': 'rbf'},\n",
       "  {'C': 1000, 'gamma': 0.001, 'kernel': 'rbf'},\n",
       "  {'C': 1000, 'gamma': 0.01, 'kernel': 'rbf'},\n",
       "  {'C': 1000, 'gamma': 0.1, 'kernel': 'rbf'},\n",
       "  {'C': 1000, 'gamma': 0.2, 'kernel': 'rbf'},\n",
       "  {'C': 1000, 'gamma': 0.5, 'kernel': 'rbf'},\n",
       "  {'C': 1000, 'gamma': 5, 'kernel': 'rbf'},\n",
       "  {'C': 1, 'kernel': 'linear'},\n",
       "  {'C': 10, 'kernel': 'linear'},\n",
       "  {'C': 100, 'kernel': 'linear'},\n",
       "  {'C': 1000, 'kernel': 'linear'}],\n",
       " 'split0_test_score': array([0.33333333, 0.33333333, 1.        , 1.        , 1.        ,\n",
       "        1.        , 1.        , 0.33333333, 1.        , 1.        ,\n",
       "        1.        , 1.        , 1.        , 1.        , 1.        ,\n",
       "        1.        , 1.        , 1.        , 1.        , 1.        ,\n",
       "        1.        , 1.        , 1.        , 1.        , 1.        ,\n",
       "        1.        , 1.        , 1.        , 1.        , 1.        ,\n",
       "        1.        , 1.        ]),\n",
       " 'split1_test_score': array([0.33333333, 0.33333333, 0.91666667, 0.91666667, 0.91666667,\n",
       "        0.91666667, 0.91666667, 0.33333333, 0.91666667, 0.91666667,\n",
       "        0.91666667, 0.91666667, 0.91666667, 0.91666667, 0.91666667,\n",
       "        0.91666667, 0.91666667, 0.91666667, 0.91666667, 0.91666667,\n",
       "        0.91666667, 0.91666667, 0.91666667, 0.91666667, 0.91666667,\n",
       "        0.91666667, 0.91666667, 0.91666667, 0.91666667, 0.91666667,\n",
       "        0.91666667, 0.91666667]),\n",
       " 'split2_test_score': array([0.33333333, 0.33333333, 0.83333333, 0.91666667, 1.        ,\n",
       "        1.        , 0.83333333, 0.33333333, 0.83333333, 0.91666667,\n",
       "        0.91666667, 0.91666667, 0.83333333, 0.83333333, 0.83333333,\n",
       "        0.91666667, 0.91666667, 0.83333333, 0.83333333, 0.83333333,\n",
       "        0.83333333, 0.91666667, 0.91666667, 0.83333333, 0.83333333,\n",
       "        0.83333333, 0.83333333, 0.83333333, 1.        , 0.83333333,\n",
       "        0.91666667, 0.91666667]),\n",
       " 'split3_test_score': array([0.33333333, 0.33333333, 1.        , 0.91666667, 0.91666667,\n",
       "        0.91666667, 0.91666667, 0.33333333, 1.        , 0.91666667,\n",
       "        0.91666667, 0.91666667, 0.91666667, 0.91666667, 1.        ,\n",
       "        0.91666667, 0.91666667, 0.91666667, 0.91666667, 0.91666667,\n",
       "        0.91666667, 0.91666667, 0.91666667, 0.91666667, 0.91666667,\n",
       "        0.91666667, 0.91666667, 0.91666667, 0.91666667, 0.91666667,\n",
       "        0.91666667, 0.91666667]),\n",
       " 'split4_test_score': array([0.33333333, 0.33333333, 0.91666667, 0.91666667, 0.91666667,\n",
       "        0.91666667, 0.83333333, 0.33333333, 0.91666667, 0.91666667,\n",
       "        0.91666667, 0.91666667, 0.91666667, 0.83333333, 0.91666667,\n",
       "        0.91666667, 0.91666667, 0.83333333, 0.83333333, 0.83333333,\n",
       "        0.83333333, 0.91666667, 0.91666667, 0.83333333, 0.83333333,\n",
       "        0.83333333, 0.83333333, 0.83333333, 0.91666667, 0.83333333,\n",
       "        0.91666667, 0.91666667]),\n",
       " 'split5_test_score': array([0.33333333, 0.33333333, 1.        , 1.        , 1.        ,\n",
       "        1.        , 1.        , 0.33333333, 1.        , 1.        ,\n",
       "        1.        , 1.        , 1.        , 1.        , 1.        ,\n",
       "        1.        , 1.        , 1.        , 1.        , 1.        ,\n",
       "        1.        , 1.        , 1.        , 1.        , 0.91666667,\n",
       "        1.        , 0.91666667, 1.        , 1.        , 1.        ,\n",
       "        0.91666667, 0.91666667]),\n",
       " 'split6_test_score': array([0.33333333, 0.33333333, 0.91666667, 0.91666667, 0.91666667,\n",
       "        0.91666667, 1.        , 0.33333333, 0.91666667, 0.91666667,\n",
       "        0.91666667, 1.        , 0.91666667, 1.        , 0.91666667,\n",
       "        0.91666667, 1.        , 1.        , 0.91666667, 0.91666667,\n",
       "        1.        , 0.91666667, 1.        , 1.        , 0.91666667,\n",
       "        0.91666667, 0.91666667, 1.        , 0.91666667, 1.        ,\n",
       "        1.        , 1.        ]),\n",
       " 'split7_test_score': array([0.9, 0.9, 1. , 1. , 1. , 1. , 0.9, 0.9, 1. , 1. , 1. , 1. , 1. ,\n",
       "        0.9, 1. , 1. , 1. , 1. , 1. , 1. , 0.9, 1. , 1. , 1. , 1. , 1. ,\n",
       "        1. , 0.9, 1. , 1. , 0.9, 1. ]),\n",
       " 'split8_test_score': array([0.33333333, 0.33333333, 1.        , 1.        , 1.        ,\n",
       "        1.        , 1.        , 0.33333333, 1.        , 1.        ,\n",
       "        1.        , 1.        , 1.        , 1.        , 1.        ,\n",
       "        1.        , 1.        , 1.        , 1.        , 0.88888889,\n",
       "        1.        , 1.        , 1.        , 1.        , 1.        ,\n",
       "        0.88888889, 0.66666667, 1.        , 1.        , 1.        ,\n",
       "        1.        , 1.        ]),\n",
       " 'split9_test_score': array([0.33333333, 0.33333333, 1.        , 1.        , 1.        ,\n",
       "        1.        , 1.        , 0.33333333, 1.        , 1.        ,\n",
       "        1.        , 1.        , 1.        , 1.        , 1.        ,\n",
       "        1.        , 1.        , 1.        , 1.        , 1.        ,\n",
       "        1.        , 1.        , 1.        , 1.        , 1.        ,\n",
       "        1.        , 0.88888889, 1.        , 1.        , 1.        ,\n",
       "        1.        , 1.        ]),\n",
       " 'mean_test_score': array([0.38392857, 0.38392857, 0.95535714, 0.95535714, 0.96428571,\n",
       "        0.96428571, 0.9375    , 0.38392857, 0.95535714, 0.95535714,\n",
       "        0.95535714, 0.96428571, 0.94642857, 0.9375    , 0.95535714,\n",
       "        0.95535714, 0.96428571, 0.94642857, 0.9375    , 0.92857143,\n",
       "        0.9375    , 0.95535714, 0.96428571, 0.94642857, 0.92857143,\n",
       "        0.92857143, 0.89285714, 0.9375    , 0.96428571, 0.94642857,\n",
       "        0.94642857, 0.95535714]),\n",
       " 'std_test_score': array([0.16158823, 0.16158823, 0.05670404, 0.04156024, 0.0412393 ,\n",
       "        0.0412393 , 0.06653633, 0.16158823, 0.05670404, 0.04156024,\n",
       "        0.04156024, 0.0412393 , 0.05552011, 0.06653633, 0.05670404,\n",
       "        0.04156024, 0.0412393 , 0.06760605, 0.06540851, 0.06383217,\n",
       "        0.06653633, 0.04156024, 0.0412393 , 0.06760605, 0.06185896,\n",
       "        0.06383217, 0.08584646, 0.06653633, 0.0412393 , 0.06760605,\n",
       "        0.04175161, 0.04156024]),\n",
       " 'rank_test_score': array([30, 30,  7,  7,  1,  1, 21, 30,  7,  7,  7,  1, 16, 21,  7,  7,  1,\n",
       "        16, 21, 26, 21,  7,  1, 16, 26, 26, 29, 21,  1, 16, 16,  7])}"
      ]
     },
     "execution_count": 31,
     "metadata": {},
     "output_type": "execute_result"
    }
   ],
   "source": [
    "clf.cv_results_"
   ]
  },
  {
   "cell_type": "code",
   "execution_count": 32,
   "metadata": {},
   "outputs": [
    {
     "data": {
      "text/plain": [
       "array([ True,  True,  True,  True,  True,  True,  True,  True,  True,\n",
       "        True,  True,  True,  True,  True,  True,  True,  True,  True,\n",
       "        True,  True,  True,  True,  True,  True,  True,  True,  True,\n",
       "        True,  True,  True,  True,  True,  True,  True,  True,  True,\n",
       "        True,  True])"
      ]
     },
     "execution_count": 32,
     "metadata": {},
     "output_type": "execute_result"
    }
   ],
   "source": [
    "(clf.predict(X_test)==Y_test)"
   ]
  },
  {
   "cell_type": "code",
   "execution_count": 33,
   "metadata": {},
   "outputs": [
    {
     "name": "stdout",
     "output_type": "stream",
     "text": [
      "0.384 (+/-0.162) para {'C': 1, 'gamma': 0.0001, 'kernel': 'rbf'}.\n",
      "0.384 (+/-0.162) para {'C': 1, 'gamma': 0.001, 'kernel': 'rbf'}.\n",
      "0.955 (+/-0.057) para {'C': 1, 'gamma': 0.01, 'kernel': 'rbf'}.\n",
      "0.955 (+/-0.042) para {'C': 1, 'gamma': 0.1, 'kernel': 'rbf'}.\n",
      "0.964 (+/-0.041) para {'C': 1, 'gamma': 0.2, 'kernel': 'rbf'}.\n",
      "0.964 (+/-0.041) para {'C': 1, 'gamma': 0.5, 'kernel': 'rbf'}.\n",
      "0.938 (+/-0.067) para {'C': 1, 'gamma': 5, 'kernel': 'rbf'}.\n",
      "0.384 (+/-0.162) para {'C': 10, 'gamma': 0.0001, 'kernel': 'rbf'}.\n",
      "0.955 (+/-0.057) para {'C': 10, 'gamma': 0.001, 'kernel': 'rbf'}.\n",
      "0.955 (+/-0.042) para {'C': 10, 'gamma': 0.01, 'kernel': 'rbf'}.\n",
      "0.955 (+/-0.042) para {'C': 10, 'gamma': 0.1, 'kernel': 'rbf'}.\n",
      "0.964 (+/-0.041) para {'C': 10, 'gamma': 0.2, 'kernel': 'rbf'}.\n",
      "0.946 (+/-0.056) para {'C': 10, 'gamma': 0.5, 'kernel': 'rbf'}.\n",
      "0.938 (+/-0.067) para {'C': 10, 'gamma': 5, 'kernel': 'rbf'}.\n",
      "0.955 (+/-0.057) para {'C': 100, 'gamma': 0.0001, 'kernel': 'rbf'}.\n",
      "0.955 (+/-0.042) para {'C': 100, 'gamma': 0.001, 'kernel': 'rbf'}.\n",
      "0.964 (+/-0.041) para {'C': 100, 'gamma': 0.01, 'kernel': 'rbf'}.\n",
      "0.946 (+/-0.068) para {'C': 100, 'gamma': 0.1, 'kernel': 'rbf'}.\n",
      "0.938 (+/-0.065) para {'C': 100, 'gamma': 0.2, 'kernel': 'rbf'}.\n",
      "0.929 (+/-0.064) para {'C': 100, 'gamma': 0.5, 'kernel': 'rbf'}.\n",
      "0.938 (+/-0.067) para {'C': 100, 'gamma': 5, 'kernel': 'rbf'}.\n",
      "0.955 (+/-0.042) para {'C': 1000, 'gamma': 0.0001, 'kernel': 'rbf'}.\n",
      "0.964 (+/-0.041) para {'C': 1000, 'gamma': 0.001, 'kernel': 'rbf'}.\n",
      "0.946 (+/-0.068) para {'C': 1000, 'gamma': 0.01, 'kernel': 'rbf'}.\n",
      "0.929 (+/-0.062) para {'C': 1000, 'gamma': 0.1, 'kernel': 'rbf'}.\n",
      "0.929 (+/-0.064) para {'C': 1000, 'gamma': 0.2, 'kernel': 'rbf'}.\n",
      "0.893 (+/-0.086) para {'C': 1000, 'gamma': 0.5, 'kernel': 'rbf'}.\n",
      "0.938 (+/-0.067) para {'C': 1000, 'gamma': 5, 'kernel': 'rbf'}.\n",
      "0.964 (+/-0.041) para {'C': 1, 'kernel': 'linear'}.\n",
      "0.946 (+/-0.068) para {'C': 10, 'kernel': 'linear'}.\n",
      "0.946 (+/-0.042) para {'C': 100, 'kernel': 'linear'}.\n",
      "0.955 (+/-0.042) para {'C': 1000, 'kernel': 'linear'}.\n"
     ]
    }
   ],
   "source": [
    "# Imprimir todas las combinacione\n",
    "means = clf.cv_results_[\"mean_test_score\"]\n",
    "stds = clf.cv_results_[\"std_test_score\"]\n",
    "params = clf.cv_results_[\"params\"]\n",
    "a = [[print(\"{} (+/-{}) para {}.\".format(round(m,3),round(s,3),p))] for m,s,p in zip(means,stds,params)]"
   ]
  },
  {
   "cell_type": "code",
   "execution_count": 34,
   "metadata": {},
   "outputs": [],
   "source": [
    "from sklearn.linear_model import LinearRegression"
   ]
  },
  {
   "cell_type": "code",
   "execution_count": 35,
   "metadata": {},
   "outputs": [
    {
     "data": {
      "text/plain": [
       "LinearRegression(copy_X=True, fit_intercept=True, n_jobs=None, normalize=False)"
      ]
     },
     "execution_count": 35,
     "metadata": {},
     "output_type": "execute_result"
    }
   ],
   "source": [
    "lm = LinearRegression()\n",
    "lm.fit(X_train,Y_train)"
   ]
  },
  {
   "cell_type": "code",
   "execution_count": 36,
   "metadata": {},
   "outputs": [
    {
     "data": {
      "text/plain": [
       "0.9278977231967253"
      ]
     },
     "execution_count": 36,
     "metadata": {},
     "output_type": "execute_result"
    }
   ],
   "source": [
    "lm.score(X_train,Y_train)"
   ]
  },
  {
   "cell_type": "code",
   "execution_count": 37,
   "metadata": {},
   "outputs": [
    {
     "data": {
      "text/plain": [
       "0.31478586523923213"
      ]
     },
     "execution_count": 37,
     "metadata": {},
     "output_type": "execute_result"
    }
   ],
   "source": [
    "lm.intercept_"
   ]
  },
  {
   "cell_type": "code",
   "execution_count": 38,
   "metadata": {},
   "outputs": [
    {
     "data": {
      "text/plain": [
       "array([-0.09050547, -0.09124922,  0.190689  ,  0.65118636])"
      ]
     },
     "execution_count": 38,
     "metadata": {},
     "output_type": "execute_result"
    }
   ],
   "source": [
    "lm.coef_"
   ]
  },
  {
   "cell_type": "code",
   "execution_count": 39,
   "metadata": {},
   "outputs": [
    {
     "data": {
      "text/plain": [
       "array([ True,  True,  True,  True,  True,  True,  True,  True,  True,\n",
       "        True,  True,  True,  True,  True,  True,  True,  True,  True,\n",
       "        True,  True,  True,  True,  True,  True,  True,  True,  True,\n",
       "        True,  True,  True,  True,  True,  True,  True,  True,  True,\n",
       "        True,  True])"
      ]
     },
     "execution_count": 39,
     "metadata": {},
     "output_type": "execute_result"
    }
   ],
   "source": [
    "np.abs(np.round(lm.predict(X_test),0))==Y_test"
   ]
  },
  {
   "cell_type": "markdown",
   "metadata": {},
   "source": [
    "# Resumen final de la clasificación de Iris"
   ]
  },
  {
   "cell_type": "code",
   "execution_count": 40,
   "metadata": {},
   "outputs": [],
   "source": [
    "def svm_iris(C=1.0,gamma = 0.01, kernel = \"rbf\", degree = 3,size = False):\n",
    "    import pandas as pd\n",
    "    import numpy as np\n",
    "    import matplotlib.pyplot as plt\n",
    "    from sklearn import svm, datasets \n",
    "    # Cargar datasets\n",
    "    irirs = datasets.load_iris()\n",
    "    # Definir variables predictoras y objetivo\n",
    "    X = iris.data[:,:2]\n",
    "    Y = iris.target\n",
    "    # Variables para probar el modelo\n",
    "    x_min, x_max = X[:,0].min()-1,X[:,0].max()+1\n",
    "    y_min, y_max = X[:,1].min()-1,X[:,1].max()+1\n",
    "    h = (x_max-x_min)/100 # Tener cien trozos del mínimo al máximo\n",
    "\n",
    "    xx,yy = np.meshgrid(np.arange(x_min,x_max,h), np.arange(y_min,y_max,h))\n",
    "    x_plot = np.c_[xx.ravel(),yy.ravel()]\n",
    "\n",
    "    # Tratar con plotly\n",
    "    if kernel==\"rbf\":\n",
    "        svc = svm.SVC(kernel=kernel,C=C,gamma=gamma, decision_function_shape=\"ovr\")\n",
    "    elif kernel==\"linear\":\n",
    "        svc = svm.SVC(kernel=kernel,C=C)\n",
    "    elif kernel==\"poly\":\n",
    "        svc = svm.SVC(kernel=kernel,C=C, degree=degree, decision_function_shape=\"ovr\")\n",
    "    else:\n",
    "        svc = svm.SVC(kernel=kernel,C=C,decision_function_shape=\"ovr\")\n",
    "    svc.fit(X,Y)\n",
    "    # Predicción\n",
    "    Ypred = svc.predict(x_plot)\n",
    "    Ypred = Ypred.reshape(xx.shape)\n",
    "    # Plot\n",
    "    if size:\n",
    "        plt.figure(figsize=size)\n",
    "    else:\n",
    "        plt.figure(figsize=(16,9))\n",
    "    plt.contourf(xx,yy,Ypred, cmap = plt.cm.tab10, alpha = 0.3)\n",
    "    plt.scatter(X[:,0],X[:,1],c = Y, cmap = \"autumn\")\n",
    "    plt.contour(xx,yy,Ypred, cmap = \"autumn\",alpha = .9)\n",
    "    plt.xlabel(\"Longuitud de los pétalos.\", size = 15)\n",
    "    plt.ylabel(\"Anchura de los pétalos.\", size = 15)\n",
    "    plt.title(f\"Support Vector Classifier Para las Flores de IRIS con Kernel: {kernel}\")"
   ]
  },
  {
   "cell_type": "code",
   "execution_count": 41,
   "metadata": {},
   "outputs": [],
   "source": [
    "from ipywidgets import fixed, interactive"
   ]
  },
  {
   "cell_type": "code",
   "execution_count": 42,
   "metadata": {
    "scrolled": false
   },
   "outputs": [
    {
     "data": {
      "application/vnd.jupyter.widget-view+json": {
       "model_id": "d9eeb266e4d4457884c99438427bcce2",
       "version_major": 2,
       "version_minor": 0
      },
      "text/plain": [
       "interactive(children=(Dropdown(description='C', options=(1, 10, 100, 1000, 10000, 100000, 1000000, 10000000), …"
      ]
     },
     "metadata": {},
     "output_type": "display_data"
    }
   ],
   "source": [
    "interactive(svm_iris,C=[10**l for l in range(0,8)], gamma=[1e-05,1e-04,1e-03,1e-02,1e-01,0.2,0.3,0.5,0.99,1,2],\n",
    "         degree=[l for l in range(6)], kernel=['poly','linear','rbf','sigmoid'])"
   ]
  }
 ],
 "metadata": {
  "kernelspec": {
   "display_name": "Python 3",
   "language": "python",
   "name": "python3"
  },
  "language_info": {
   "codemirror_mode": {
    "name": "ipython",
    "version": 3
   },
   "file_extension": ".py",
   "mimetype": "text/x-python",
   "name": "python",
   "nbconvert_exporter": "python",
   "pygments_lexer": "ipython3",
   "version": "3.7.4"
  }
 },
 "nbformat": 4,
 "nbformat_minor": 2
}
